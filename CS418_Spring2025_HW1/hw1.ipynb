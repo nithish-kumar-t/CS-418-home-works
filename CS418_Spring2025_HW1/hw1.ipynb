{
  "cells": [
    {
      "cell_type": "markdown",
      "metadata": {
        "id": "exy3dfkGOp7O"
      },
      "source": [
        "# Homework 1\n",
        "UIC CS 418, Spring 2025\n",
        "\n",
        "**Academic Integrity Policy**: According to the Academic Integrity Policy of this course, all work submitted for grading must be done individually, unless otherwise specified. While we encourage you to talk to your peers and learn from them, this interaction must be superficial with regards to all work submitted for grading. This means you cannot work in teams, you cannot work side-by-side, you cannot submit someone else’s work (partial or complete) as your own. In particular, note that you are guilty of academic dishonesty if you extend or receive any kind of unauthorized assistance. Absolutely no transfer of program code between students is permitted (paper or electronic), and you may not solicit code from family, friends, or online forums. Other examples of academic dishonesty include emailing your program to another student, copying-pasting code from the internet, working in a group on a homework assignment, and allowing a tutor, TA, or another individual to write an answer for you. Academic dishonesty is unacceptable, and penalties range from failure to expulsion from the university; cases are handled via the official student conduct process described at https://dos.uic.edu/community-standards/\n",
        "\n",
        "\n",
        "**Submission**: After executing all commands and completing this notebook, export/convert your *hw1.ipynb* to a **pdf** file and upload it to Gradescope under *Homework 1 (pdf)*. Make sure you check that your **pdf** file includes all parts of your solution **(including the outputs)**. Check `warmup.pdf` for an example of expected submission file. You are also reqired to submit your **.iypnb** file to the *Homework 1 (code)* section with all the output visibile in the output cells.\n",
        "\n",
        "**Note** : Please fill the code instead of \"blabla\" (its just written as filler)\n"
      ]
    },
    {
      "cell_type": "markdown",
      "metadata": {
        "id": "RHvVFkTLg6qO"
      },
      "source": [
        "## Only RUN below cell if you are using google colab\n",
        "If you are using Google Colab, you will have to mount your drive. Run the below code to mount.\n",
        "### DO NOT RUN THIS CODE IF YOU ARE NOT USING GOOGLE COLAB"
      ]
    },
    {
      "cell_type": "code",
      "execution_count": 834,
      "metadata": {
        "colab": {
          "base_uri": "https://localhost:8080/"
        },
        "id": "rxhFu4u3g6J-",
        "outputId": "8031dd11-0feb-40b7-c81c-52c195c73d29"
      },
      "outputs": [
        {
          "name": "stdout",
          "output_type": "stream",
          "text": [
            "/Users/tnithish/Documents/UIC/CS-418/CS-418-home-works/CS418_Spring2025_HW1\n"
          ]
        }
      ],
      "source": [
        "# this just shows the current directory\n",
        "!pwd"
      ]
    },
    {
      "cell_type": "code",
      "execution_count": 835,
      "metadata": {
        "colab": {
          "base_uri": "https://localhost:8080/"
        },
        "id": "3fPCE1maht_M",
        "outputId": "762fabbf-f7f8-4980-da28-6433c69427c3"
      },
      "outputs": [],
      "source": [
        "# from google.colab import drive\n",
        "# drive.mount('/content/drive')"
      ]
    },
    {
      "cell_type": "code",
      "execution_count": 836,
      "metadata": {
        "id": "R-a9h5Nsh4vE"
      },
      "outputs": [],
      "source": [
        "# STEP1: upload the folder on your google drive\n",
        "# Step2: Find the URL - it will look something like below - Now we set the working directory to the folder\n",
        "# %cd \"/content/drive/MyDrive/CS418_Spring2025_HW1\"\n",
        "# !pwd\n",
        "\n",
        "# this should look like this: '/content/drive/MyDrive/CS418_Spring2025_HW1'"
      ]
    },
    {
      "cell_type": "markdown",
      "metadata": {
        "id": "1EyBo-ReOp7T"
      },
      "source": [
        "## Part 1: Data processing with pandas (50%)"
      ]
    },
    {
      "cell_type": "markdown",
      "metadata": {
        "id": "cIJ1voKlOp7U"
      },
      "source": [
        "In this section, you will see examples of some commonly used data wrangling tools in Python. In particular, we aim to give you some familiarity with:\n",
        "\n",
        "* Slicing data frames\n",
        "* Filtering data\n",
        "* Grouped counts\n",
        "* Joining two tables\n",
        "* NA/Null values"
      ]
    },
    {
      "cell_type": "markdown",
      "metadata": {
        "id": "1ha_Gdv3Op7V"
      },
      "source": [
        "\n",
        "### Practice: Pandas and Wrangling (5%)\n",
        "\n",
        "This part of the homework is graded manually based on showing the correct outputs after executing each step.\n",
        "\n",
        "You need to execute each step (run each Cell), in order for the next ones to work.\n",
        "\n",
        "For the examples that follow, we will be using a toy data set containing information about superheroes in the Arrowverse.  In the `first_seen_on` column, `a` stands for Archer and `f`, Flash.\n",
        "\n",
        "\n",
        "First, import necessary libraries:"
      ]
    },
    {
      "cell_type": "code",
      "execution_count": 837,
      "metadata": {
        "id": "x02hvd8BOp7W"
      },
      "outputs": [],
      "source": [
        "import pandas as pd\n",
        "import numpy as np"
      ]
    },
    {
      "cell_type": "markdown",
      "metadata": {
        "id": "HGJ5kCYqOp7Y"
      },
      "source": [
        "#### Setup"
      ]
    },
    {
      "cell_type": "markdown",
      "metadata": {
        "id": "T_VKBhnROp7Y"
      },
      "source": [
        "The code below produces the data frames used in the examples:"
      ]
    },
    {
      "cell_type": "code",
      "execution_count": 838,
      "metadata": {
        "id": "AbK1WHZmOp7Y"
      },
      "outputs": [],
      "source": [
        "heroes = pd.DataFrame(\n",
        "    data={'color': ['red', 'green', 'black',\n",
        "                    'blue', 'black', 'red'],\n",
        "          'first_seen_on': ['a', 'a', 'f', 'a', 'a', 'f'],\n",
        "          'first_season': [2, 1, 2, 3, 3, 1]},\n",
        "    index=['flash', 'arrow', 'vibe',\n",
        "           'atom', 'canary', 'firestorm']\n",
        ")\n",
        "\n",
        "identities = pd.DataFrame(\n",
        "    data={'ego': ['barry allen', 'oliver queen', 'cisco ramon',\n",
        "                  'ray palmer', 'sara lance',\n",
        "                  'martin stein', 'ronnie raymond'],\n",
        "          'alter-ego': ['flash', 'arrow', 'vibe', 'atom',\n",
        "                        'canary', 'firestorm', 'firestorm']}\n",
        ")\n",
        "\n",
        "teams = pd.DataFrame(\n",
        "    data={'team': ['flash', 'arrow', 'flash', 'legends',\n",
        "                   'flash', 'legends', 'arrow'],\n",
        "          'hero': ['flash', 'arrow', 'vibe', 'atom',\n",
        "                   'killer frost', 'firestorm', 'speedy']})"
      ]
    },
    {
      "cell_type": "code",
      "execution_count": 839,
      "metadata": {
        "id": "QrFDF1bWOp7Z"
      },
      "outputs": [
        {
          "data": {
            "text/html": [
              "<div>\n",
              "<style scoped>\n",
              "    .dataframe tbody tr th:only-of-type {\n",
              "        vertical-align: middle;\n",
              "    }\n",
              "\n",
              "    .dataframe tbody tr th {\n",
              "        vertical-align: top;\n",
              "    }\n",
              "\n",
              "    .dataframe thead th {\n",
              "        text-align: right;\n",
              "    }\n",
              "</style>\n",
              "<table border=\"1\" class=\"dataframe\">\n",
              "  <thead>\n",
              "    <tr style=\"text-align: right;\">\n",
              "      <th></th>\n",
              "      <th>color</th>\n",
              "      <th>first_seen_on</th>\n",
              "      <th>first_season</th>\n",
              "    </tr>\n",
              "  </thead>\n",
              "  <tbody>\n",
              "    <tr>\n",
              "      <th>flash</th>\n",
              "      <td>red</td>\n",
              "      <td>a</td>\n",
              "      <td>2</td>\n",
              "    </tr>\n",
              "    <tr>\n",
              "      <th>arrow</th>\n",
              "      <td>green</td>\n",
              "      <td>a</td>\n",
              "      <td>1</td>\n",
              "    </tr>\n",
              "    <tr>\n",
              "      <th>vibe</th>\n",
              "      <td>black</td>\n",
              "      <td>f</td>\n",
              "      <td>2</td>\n",
              "    </tr>\n",
              "    <tr>\n",
              "      <th>atom</th>\n",
              "      <td>blue</td>\n",
              "      <td>a</td>\n",
              "      <td>3</td>\n",
              "    </tr>\n",
              "    <tr>\n",
              "      <th>canary</th>\n",
              "      <td>black</td>\n",
              "      <td>a</td>\n",
              "      <td>3</td>\n",
              "    </tr>\n",
              "    <tr>\n",
              "      <th>firestorm</th>\n",
              "      <td>red</td>\n",
              "      <td>f</td>\n",
              "      <td>1</td>\n",
              "    </tr>\n",
              "  </tbody>\n",
              "</table>\n",
              "</div>"
            ],
            "text/plain": [
              "           color first_seen_on  first_season\n",
              "flash        red             a             2\n",
              "arrow      green             a             1\n",
              "vibe       black             f             2\n",
              "atom        blue             a             3\n",
              "canary     black             a             3\n",
              "firestorm    red             f             1"
            ]
          },
          "execution_count": 839,
          "metadata": {},
          "output_type": "execute_result"
        }
      ],
      "source": [
        "heroes"
      ]
    },
    {
      "cell_type": "code",
      "execution_count": 840,
      "metadata": {
        "id": "4XY_z8jLOp7Z"
      },
      "outputs": [
        {
          "data": {
            "text/html": [
              "<div>\n",
              "<style scoped>\n",
              "    .dataframe tbody tr th:only-of-type {\n",
              "        vertical-align: middle;\n",
              "    }\n",
              "\n",
              "    .dataframe tbody tr th {\n",
              "        vertical-align: top;\n",
              "    }\n",
              "\n",
              "    .dataframe thead th {\n",
              "        text-align: right;\n",
              "    }\n",
              "</style>\n",
              "<table border=\"1\" class=\"dataframe\">\n",
              "  <thead>\n",
              "    <tr style=\"text-align: right;\">\n",
              "      <th></th>\n",
              "      <th>ego</th>\n",
              "      <th>alter-ego</th>\n",
              "    </tr>\n",
              "  </thead>\n",
              "  <tbody>\n",
              "    <tr>\n",
              "      <th>0</th>\n",
              "      <td>barry allen</td>\n",
              "      <td>flash</td>\n",
              "    </tr>\n",
              "    <tr>\n",
              "      <th>1</th>\n",
              "      <td>oliver queen</td>\n",
              "      <td>arrow</td>\n",
              "    </tr>\n",
              "    <tr>\n",
              "      <th>2</th>\n",
              "      <td>cisco ramon</td>\n",
              "      <td>vibe</td>\n",
              "    </tr>\n",
              "    <tr>\n",
              "      <th>3</th>\n",
              "      <td>ray palmer</td>\n",
              "      <td>atom</td>\n",
              "    </tr>\n",
              "    <tr>\n",
              "      <th>4</th>\n",
              "      <td>sara lance</td>\n",
              "      <td>canary</td>\n",
              "    </tr>\n",
              "    <tr>\n",
              "      <th>5</th>\n",
              "      <td>martin stein</td>\n",
              "      <td>firestorm</td>\n",
              "    </tr>\n",
              "    <tr>\n",
              "      <th>6</th>\n",
              "      <td>ronnie raymond</td>\n",
              "      <td>firestorm</td>\n",
              "    </tr>\n",
              "  </tbody>\n",
              "</table>\n",
              "</div>"
            ],
            "text/plain": [
              "              ego  alter-ego\n",
              "0     barry allen      flash\n",
              "1    oliver queen      arrow\n",
              "2     cisco ramon       vibe\n",
              "3      ray palmer       atom\n",
              "4      sara lance     canary\n",
              "5    martin stein  firestorm\n",
              "6  ronnie raymond  firestorm"
            ]
          },
          "execution_count": 840,
          "metadata": {},
          "output_type": "execute_result"
        }
      ],
      "source": [
        "identities"
      ]
    },
    {
      "cell_type": "code",
      "execution_count": 841,
      "metadata": {
        "id": "WOY6B7x2Op7Z"
      },
      "outputs": [
        {
          "data": {
            "text/html": [
              "<div>\n",
              "<style scoped>\n",
              "    .dataframe tbody tr th:only-of-type {\n",
              "        vertical-align: middle;\n",
              "    }\n",
              "\n",
              "    .dataframe tbody tr th {\n",
              "        vertical-align: top;\n",
              "    }\n",
              "\n",
              "    .dataframe thead th {\n",
              "        text-align: right;\n",
              "    }\n",
              "</style>\n",
              "<table border=\"1\" class=\"dataframe\">\n",
              "  <thead>\n",
              "    <tr style=\"text-align: right;\">\n",
              "      <th></th>\n",
              "      <th>team</th>\n",
              "      <th>hero</th>\n",
              "    </tr>\n",
              "  </thead>\n",
              "  <tbody>\n",
              "    <tr>\n",
              "      <th>0</th>\n",
              "      <td>flash</td>\n",
              "      <td>flash</td>\n",
              "    </tr>\n",
              "    <tr>\n",
              "      <th>1</th>\n",
              "      <td>arrow</td>\n",
              "      <td>arrow</td>\n",
              "    </tr>\n",
              "    <tr>\n",
              "      <th>2</th>\n",
              "      <td>flash</td>\n",
              "      <td>vibe</td>\n",
              "    </tr>\n",
              "    <tr>\n",
              "      <th>3</th>\n",
              "      <td>legends</td>\n",
              "      <td>atom</td>\n",
              "    </tr>\n",
              "    <tr>\n",
              "      <th>4</th>\n",
              "      <td>flash</td>\n",
              "      <td>killer frost</td>\n",
              "    </tr>\n",
              "    <tr>\n",
              "      <th>5</th>\n",
              "      <td>legends</td>\n",
              "      <td>firestorm</td>\n",
              "    </tr>\n",
              "    <tr>\n",
              "      <th>6</th>\n",
              "      <td>arrow</td>\n",
              "      <td>speedy</td>\n",
              "    </tr>\n",
              "  </tbody>\n",
              "</table>\n",
              "</div>"
            ],
            "text/plain": [
              "      team          hero\n",
              "0    flash         flash\n",
              "1    arrow         arrow\n",
              "2    flash          vibe\n",
              "3  legends          atom\n",
              "4    flash  killer frost\n",
              "5  legends     firestorm\n",
              "6    arrow        speedy"
            ]
          },
          "execution_count": 841,
          "metadata": {},
          "output_type": "execute_result"
        }
      ],
      "source": [
        "teams"
      ]
    },
    {
      "cell_type": "markdown",
      "metadata": {
        "id": "drTp3n3mOp7a"
      },
      "source": [
        "#### Slice and Dice"
      ]
    },
    {
      "cell_type": "markdown",
      "metadata": {
        "id": "EvIefSxlOp7a"
      },
      "source": [
        "##### Column selection by label\n",
        "To select a column of a `DataFrame` by column label, the safest and fastest way is to use the `.loc` method. General usage looks like `frame.loc[rowname,colname]`. (Reminder that the colon `:` means \"everything\").  For example, if we want the `color` column of the `heroes` data frame, we would use :"
      ]
    },
    {
      "cell_type": "code",
      "execution_count": 842,
      "metadata": {
        "id": "5TwiwdlzOp7a"
      },
      "outputs": [
        {
          "data": {
            "text/plain": [
              "flash          red\n",
              "arrow        green\n",
              "vibe         black\n",
              "atom          blue\n",
              "canary       black\n",
              "firestorm      red\n",
              "Name: color, dtype: object"
            ]
          },
          "execution_count": 842,
          "metadata": {},
          "output_type": "execute_result"
        }
      ],
      "source": [
        "heroes.loc[:,'color']"
      ]
    },
    {
      "cell_type": "markdown",
      "metadata": {
        "id": "dOWuCPu0Wszt"
      },
      "source": [
        "The above output can also be got in dataframe format instead of series"
      ]
    },
    {
      "cell_type": "code",
      "execution_count": 843,
      "metadata": {
        "id": "nL0ytnppWkZN"
      },
      "outputs": [
        {
          "data": {
            "text/html": [
              "<div>\n",
              "<style scoped>\n",
              "    .dataframe tbody tr th:only-of-type {\n",
              "        vertical-align: middle;\n",
              "    }\n",
              "\n",
              "    .dataframe tbody tr th {\n",
              "        vertical-align: top;\n",
              "    }\n",
              "\n",
              "    .dataframe thead th {\n",
              "        text-align: right;\n",
              "    }\n",
              "</style>\n",
              "<table border=\"1\" class=\"dataframe\">\n",
              "  <thead>\n",
              "    <tr style=\"text-align: right;\">\n",
              "      <th></th>\n",
              "      <th>color</th>\n",
              "    </tr>\n",
              "  </thead>\n",
              "  <tbody>\n",
              "    <tr>\n",
              "      <th>flash</th>\n",
              "      <td>red</td>\n",
              "    </tr>\n",
              "    <tr>\n",
              "      <th>arrow</th>\n",
              "      <td>green</td>\n",
              "    </tr>\n",
              "    <tr>\n",
              "      <th>vibe</th>\n",
              "      <td>black</td>\n",
              "    </tr>\n",
              "    <tr>\n",
              "      <th>atom</th>\n",
              "      <td>blue</td>\n",
              "    </tr>\n",
              "    <tr>\n",
              "      <th>canary</th>\n",
              "      <td>black</td>\n",
              "    </tr>\n",
              "    <tr>\n",
              "      <th>firestorm</th>\n",
              "      <td>red</td>\n",
              "    </tr>\n",
              "  </tbody>\n",
              "</table>\n",
              "</div>"
            ],
            "text/plain": [
              "           color\n",
              "flash        red\n",
              "arrow      green\n",
              "vibe       black\n",
              "atom        blue\n",
              "canary     black\n",
              "firestorm    red"
            ]
          },
          "execution_count": 843,
          "metadata": {},
          "output_type": "execute_result"
        }
      ],
      "source": [
        "heroes.loc[:,['color']]"
      ]
    },
    {
      "cell_type": "markdown",
      "metadata": {
        "id": "qbbdrZifW2ni"
      },
      "source": [
        "Another way of doing the above is shown below. The below method creates a boolean mask"
      ]
    },
    {
      "cell_type": "code",
      "execution_count": 844,
      "metadata": {
        "id": "sTeEb5bhWbz7"
      },
      "outputs": [
        {
          "data": {
            "text/html": [
              "<div>\n",
              "<style scoped>\n",
              "    .dataframe tbody tr th:only-of-type {\n",
              "        vertical-align: middle;\n",
              "    }\n",
              "\n",
              "    .dataframe tbody tr th {\n",
              "        vertical-align: top;\n",
              "    }\n",
              "\n",
              "    .dataframe thead th {\n",
              "        text-align: right;\n",
              "    }\n",
              "</style>\n",
              "<table border=\"1\" class=\"dataframe\">\n",
              "  <thead>\n",
              "    <tr style=\"text-align: right;\">\n",
              "      <th></th>\n",
              "      <th>color</th>\n",
              "    </tr>\n",
              "  </thead>\n",
              "  <tbody>\n",
              "    <tr>\n",
              "      <th>flash</th>\n",
              "      <td>red</td>\n",
              "    </tr>\n",
              "    <tr>\n",
              "      <th>arrow</th>\n",
              "      <td>green</td>\n",
              "    </tr>\n",
              "    <tr>\n",
              "      <th>vibe</th>\n",
              "      <td>black</td>\n",
              "    </tr>\n",
              "    <tr>\n",
              "      <th>atom</th>\n",
              "      <td>blue</td>\n",
              "    </tr>\n",
              "    <tr>\n",
              "      <th>canary</th>\n",
              "      <td>black</td>\n",
              "    </tr>\n",
              "    <tr>\n",
              "      <th>firestorm</th>\n",
              "      <td>red</td>\n",
              "    </tr>\n",
              "  </tbody>\n",
              "</table>\n",
              "</div>"
            ],
            "text/plain": [
              "           color\n",
              "flash        red\n",
              "arrow      green\n",
              "vibe       black\n",
              "atom        blue\n",
              "canary     black\n",
              "firestorm    red"
            ]
          },
          "execution_count": 844,
          "metadata": {},
          "output_type": "execute_result"
        }
      ],
      "source": [
        "heroes.loc[:, heroes.columns=='color']"
      ]
    },
    {
      "cell_type": "markdown",
      "metadata": {
        "id": "k_j0sqlHOp7a"
      },
      "source": [
        "Selecting multiple columns is easy. You just need to supply a list of column names. Here we select the color and value columns:"
      ]
    },
    {
      "cell_type": "code",
      "execution_count": 845,
      "metadata": {
        "id": "oM6sh5xYOp7a"
      },
      "outputs": [
        {
          "data": {
            "text/html": [
              "<div>\n",
              "<style scoped>\n",
              "    .dataframe tbody tr th:only-of-type {\n",
              "        vertical-align: middle;\n",
              "    }\n",
              "\n",
              "    .dataframe tbody tr th {\n",
              "        vertical-align: top;\n",
              "    }\n",
              "\n",
              "    .dataframe thead th {\n",
              "        text-align: right;\n",
              "    }\n",
              "</style>\n",
              "<table border=\"1\" class=\"dataframe\">\n",
              "  <thead>\n",
              "    <tr style=\"text-align: right;\">\n",
              "      <th></th>\n",
              "      <th>color</th>\n",
              "      <th>first_season</th>\n",
              "    </tr>\n",
              "  </thead>\n",
              "  <tbody>\n",
              "    <tr>\n",
              "      <th>flash</th>\n",
              "      <td>red</td>\n",
              "      <td>2</td>\n",
              "    </tr>\n",
              "    <tr>\n",
              "      <th>arrow</th>\n",
              "      <td>green</td>\n",
              "      <td>1</td>\n",
              "    </tr>\n",
              "    <tr>\n",
              "      <th>vibe</th>\n",
              "      <td>black</td>\n",
              "      <td>2</td>\n",
              "    </tr>\n",
              "    <tr>\n",
              "      <th>atom</th>\n",
              "      <td>blue</td>\n",
              "      <td>3</td>\n",
              "    </tr>\n",
              "    <tr>\n",
              "      <th>canary</th>\n",
              "      <td>black</td>\n",
              "      <td>3</td>\n",
              "    </tr>\n",
              "    <tr>\n",
              "      <th>firestorm</th>\n",
              "      <td>red</td>\n",
              "      <td>1</td>\n",
              "    </tr>\n",
              "  </tbody>\n",
              "</table>\n",
              "</div>"
            ],
            "text/plain": [
              "           color  first_season\n",
              "flash        red             2\n",
              "arrow      green             1\n",
              "vibe       black             2\n",
              "atom        blue             3\n",
              "canary     black             3\n",
              "firestorm    red             1"
            ]
          },
          "execution_count": 845,
          "metadata": {},
          "output_type": "execute_result"
        }
      ],
      "source": [
        "heroes.loc[:, ['color', 'first_season']]"
      ]
    },
    {
      "cell_type": "markdown",
      "metadata": {
        "id": "M_Wgc_10Op7b"
      },
      "source": [
        "While .loc is invaluable when writing production code, it may be a little too verbose for interactive use. One recommended alternative is the [] method, which takes on the form frame['colname']."
      ]
    },
    {
      "cell_type": "code",
      "execution_count": 846,
      "metadata": {
        "id": "K91Og1TxOp7b"
      },
      "outputs": [
        {
          "data": {
            "text/plain": [
              "flash        a\n",
              "arrow        a\n",
              "vibe         f\n",
              "atom         a\n",
              "canary       a\n",
              "firestorm    f\n",
              "Name: first_seen_on, dtype: object"
            ]
          },
          "execution_count": 846,
          "metadata": {},
          "output_type": "execute_result"
        }
      ],
      "source": [
        "heroes['first_seen_on']"
      ]
    },
    {
      "cell_type": "markdown",
      "metadata": {
        "id": "L1fl9GF4Op7b"
      },
      "source": [
        "##### Row Selection by Label\n",
        "\n",
        "Similarly, if we want to select a row by its label, we can use the same .loc method."
      ]
    },
    {
      "cell_type": "code",
      "execution_count": 847,
      "metadata": {
        "id": "YccQu_uqOp7b"
      },
      "outputs": [
        {
          "data": {
            "text/html": [
              "<div>\n",
              "<style scoped>\n",
              "    .dataframe tbody tr th:only-of-type {\n",
              "        vertical-align: middle;\n",
              "    }\n",
              "\n",
              "    .dataframe tbody tr th {\n",
              "        vertical-align: top;\n",
              "    }\n",
              "\n",
              "    .dataframe thead th {\n",
              "        text-align: right;\n",
              "    }\n",
              "</style>\n",
              "<table border=\"1\" class=\"dataframe\">\n",
              "  <thead>\n",
              "    <tr style=\"text-align: right;\">\n",
              "      <th></th>\n",
              "      <th>color</th>\n",
              "      <th>first_seen_on</th>\n",
              "      <th>first_season</th>\n",
              "    </tr>\n",
              "  </thead>\n",
              "  <tbody>\n",
              "    <tr>\n",
              "      <th>flash</th>\n",
              "      <td>red</td>\n",
              "      <td>a</td>\n",
              "      <td>2</td>\n",
              "    </tr>\n",
              "    <tr>\n",
              "      <th>vibe</th>\n",
              "      <td>black</td>\n",
              "      <td>f</td>\n",
              "      <td>2</td>\n",
              "    </tr>\n",
              "  </tbody>\n",
              "</table>\n",
              "</div>"
            ],
            "text/plain": [
              "       color first_seen_on  first_season\n",
              "flash    red             a             2\n",
              "vibe   black             f             2"
            ]
          },
          "execution_count": 847,
          "metadata": {},
          "output_type": "execute_result"
        }
      ],
      "source": [
        "heroes.loc[['flash', 'vibe'], :]"
      ]
    },
    {
      "cell_type": "markdown",
      "metadata": {
        "id": "fFV3q3mUOp7b"
      },
      "source": [
        "If we want all the columns returned, we can, for brevity, drop the colon without issue."
      ]
    },
    {
      "cell_type": "code",
      "execution_count": 848,
      "metadata": {
        "id": "_u_ncVSIOp7b"
      },
      "outputs": [
        {
          "data": {
            "text/html": [
              "<div>\n",
              "<style scoped>\n",
              "    .dataframe tbody tr th:only-of-type {\n",
              "        vertical-align: middle;\n",
              "    }\n",
              "\n",
              "    .dataframe tbody tr th {\n",
              "        vertical-align: top;\n",
              "    }\n",
              "\n",
              "    .dataframe thead th {\n",
              "        text-align: right;\n",
              "    }\n",
              "</style>\n",
              "<table border=\"1\" class=\"dataframe\">\n",
              "  <thead>\n",
              "    <tr style=\"text-align: right;\">\n",
              "      <th></th>\n",
              "      <th>color</th>\n",
              "      <th>first_seen_on</th>\n",
              "      <th>first_season</th>\n",
              "    </tr>\n",
              "  </thead>\n",
              "  <tbody>\n",
              "    <tr>\n",
              "      <th>flash</th>\n",
              "      <td>red</td>\n",
              "      <td>a</td>\n",
              "      <td>2</td>\n",
              "    </tr>\n",
              "    <tr>\n",
              "      <th>vibe</th>\n",
              "      <td>black</td>\n",
              "      <td>f</td>\n",
              "      <td>2</td>\n",
              "    </tr>\n",
              "  </tbody>\n",
              "</table>\n",
              "</div>"
            ],
            "text/plain": [
              "       color first_seen_on  first_season\n",
              "flash    red             a             2\n",
              "vibe   black             f             2"
            ]
          },
          "execution_count": 848,
          "metadata": {},
          "output_type": "execute_result"
        }
      ],
      "source": [
        "heroes.loc[['flash', 'vibe']]"
      ]
    },
    {
      "cell_type": "markdown",
      "metadata": {
        "id": "cQUkPJfHOp7c"
      },
      "source": [
        "##### General Selection by Label\n",
        "\n",
        "More generally you can slice across both rows and columns at the same time.  For example:"
      ]
    },
    {
      "cell_type": "code",
      "execution_count": 849,
      "metadata": {
        "id": "Tfy5BZf8Op7c"
      },
      "outputs": [
        {
          "data": {
            "text/html": [
              "<div>\n",
              "<style scoped>\n",
              "    .dataframe tbody tr th:only-of-type {\n",
              "        vertical-align: middle;\n",
              "    }\n",
              "\n",
              "    .dataframe tbody tr th {\n",
              "        vertical-align: top;\n",
              "    }\n",
              "\n",
              "    .dataframe thead th {\n",
              "        text-align: right;\n",
              "    }\n",
              "</style>\n",
              "<table border=\"1\" class=\"dataframe\">\n",
              "  <thead>\n",
              "    <tr style=\"text-align: right;\">\n",
              "      <th></th>\n",
              "      <th>color</th>\n",
              "      <th>first_seen_on</th>\n",
              "    </tr>\n",
              "  </thead>\n",
              "  <tbody>\n",
              "    <tr>\n",
              "      <th>flash</th>\n",
              "      <td>red</td>\n",
              "      <td>a</td>\n",
              "    </tr>\n",
              "    <tr>\n",
              "      <th>arrow</th>\n",
              "      <td>green</td>\n",
              "      <td>a</td>\n",
              "    </tr>\n",
              "    <tr>\n",
              "      <th>vibe</th>\n",
              "      <td>black</td>\n",
              "      <td>f</td>\n",
              "    </tr>\n",
              "    <tr>\n",
              "      <th>atom</th>\n",
              "      <td>blue</td>\n",
              "      <td>a</td>\n",
              "    </tr>\n",
              "  </tbody>\n",
              "</table>\n",
              "</div>"
            ],
            "text/plain": [
              "       color first_seen_on\n",
              "flash    red             a\n",
              "arrow  green             a\n",
              "vibe   black             f\n",
              "atom    blue             a"
            ]
          },
          "execution_count": 849,
          "metadata": {},
          "output_type": "execute_result"
        }
      ],
      "source": [
        "heroes.loc['flash':'atom', :'first_seen_on']"
      ]
    },
    {
      "cell_type": "markdown",
      "metadata": {
        "id": "K9eASGKwOp7c"
      },
      "source": [
        "##### Selection by Integer Index\n",
        "\n",
        "If you want to select rows and columns by position, the Data Frame has an analogous `.iloc` method for integer indexing. Remember that Python indexing starts at 0."
      ]
    },
    {
      "cell_type": "code",
      "execution_count": 850,
      "metadata": {
        "id": "rGPlBBayOp7c"
      },
      "outputs": [
        {
          "data": {
            "text/html": [
              "<div>\n",
              "<style scoped>\n",
              "    .dataframe tbody tr th:only-of-type {\n",
              "        vertical-align: middle;\n",
              "    }\n",
              "\n",
              "    .dataframe tbody tr th {\n",
              "        vertical-align: top;\n",
              "    }\n",
              "\n",
              "    .dataframe thead th {\n",
              "        text-align: right;\n",
              "    }\n",
              "</style>\n",
              "<table border=\"1\" class=\"dataframe\">\n",
              "  <thead>\n",
              "    <tr style=\"text-align: right;\">\n",
              "      <th></th>\n",
              "      <th>color</th>\n",
              "      <th>first_seen_on</th>\n",
              "    </tr>\n",
              "  </thead>\n",
              "  <tbody>\n",
              "    <tr>\n",
              "      <th>flash</th>\n",
              "      <td>red</td>\n",
              "      <td>a</td>\n",
              "    </tr>\n",
              "    <tr>\n",
              "      <th>arrow</th>\n",
              "      <td>green</td>\n",
              "      <td>a</td>\n",
              "    </tr>\n",
              "    <tr>\n",
              "      <th>vibe</th>\n",
              "      <td>black</td>\n",
              "      <td>f</td>\n",
              "    </tr>\n",
              "    <tr>\n",
              "      <th>atom</th>\n",
              "      <td>blue</td>\n",
              "      <td>a</td>\n",
              "    </tr>\n",
              "  </tbody>\n",
              "</table>\n",
              "</div>"
            ],
            "text/plain": [
              "       color first_seen_on\n",
              "flash    red             a\n",
              "arrow  green             a\n",
              "vibe   black             f\n",
              "atom    blue             a"
            ]
          },
          "execution_count": 850,
          "metadata": {},
          "output_type": "execute_result"
        }
      ],
      "source": [
        "heroes.iloc[:4,:2]"
      ]
    },
    {
      "cell_type": "markdown",
      "metadata": {
        "id": "hBZi-OWkOp7d"
      },
      "source": [
        "#### Filtering with boolean arrays\n",
        "\n",
        "Filtering is the process of removing unwanted material.  In your quest for cleaner data, you will undoubtedly filter your data at some point: whether it be for clearing up cases with missing values, culling out fishy outliers, or analyzing subgroups of your data set.  For example, we may be interested in characters that debuted in season 3 of Archer.  Note that compound expressions have to be grouped with parentheses."
      ]
    },
    {
      "cell_type": "code",
      "execution_count": 851,
      "metadata": {
        "id": "hK5Dw32QOp7d"
      },
      "outputs": [
        {
          "data": {
            "text/html": [
              "<div>\n",
              "<style scoped>\n",
              "    .dataframe tbody tr th:only-of-type {\n",
              "        vertical-align: middle;\n",
              "    }\n",
              "\n",
              "    .dataframe tbody tr th {\n",
              "        vertical-align: top;\n",
              "    }\n",
              "\n",
              "    .dataframe thead th {\n",
              "        text-align: right;\n",
              "    }\n",
              "</style>\n",
              "<table border=\"1\" class=\"dataframe\">\n",
              "  <thead>\n",
              "    <tr style=\"text-align: right;\">\n",
              "      <th></th>\n",
              "      <th>color</th>\n",
              "      <th>first_seen_on</th>\n",
              "      <th>first_season</th>\n",
              "    </tr>\n",
              "  </thead>\n",
              "  <tbody>\n",
              "    <tr>\n",
              "      <th>atom</th>\n",
              "      <td>blue</td>\n",
              "      <td>a</td>\n",
              "      <td>3</td>\n",
              "    </tr>\n",
              "    <tr>\n",
              "      <th>canary</th>\n",
              "      <td>black</td>\n",
              "      <td>a</td>\n",
              "      <td>3</td>\n",
              "    </tr>\n",
              "  </tbody>\n",
              "</table>\n",
              "</div>"
            ],
            "text/plain": [
              "        color first_seen_on  first_season\n",
              "atom     blue             a             3\n",
              "canary  black             a             3"
            ]
          },
          "execution_count": 851,
          "metadata": {},
          "output_type": "execute_result"
        }
      ],
      "source": [
        "heroes[(heroes['first_season']==3) & (heroes['first_seen_on']=='a')]"
      ]
    },
    {
      "cell_type": "markdown",
      "metadata": {
        "id": "0-l5fs-FOp7d"
      },
      "source": [
        "#### Problem Solving Strategy"
      ]
    },
    {
      "cell_type": "markdown",
      "metadata": {
        "id": "8bJ5dkluOp7d"
      },
      "source": [
        "We want to highlight the strategy for filtering to answer the question above:\n",
        "\n",
        "* **Identify the variables of interest**\n",
        "    * Interested in the debut: `first_season` and `first_seen_on`\n",
        "* **Translate the question into statements one with True/False answers**\n",
        "    * Did the hero debut on Archer? $\\rightarrow$ The hero has `first_seen_on` equal to `a`\n",
        "    * Did the hero debut in season 3? $\\rightarrow$ The hero has `first_season` equal to `3`\n",
        "* **Translate the statements into boolean statements**\n",
        "    * The hero has `first_seen_on` equal to `a` $\\rightarrow$ `hero['first_seen_on']=='a'`\n",
        "    * The hero has `first_season` equal to `3` $\\rightarrow$ `heroes['first_season']==3`\n",
        "* **Use the boolean array to filter the data**\n",
        "\n",
        "Note that compound expressions have to be grouped with parentheses.\n",
        "\n",
        "For your reference, some commonly used comparison operators are given below.\n",
        "\n",
        "Symbol | Usage      | Meaning\n",
        "------ | ---------- | -------------------------------------\n",
        "==   | a == b   | Does a equal b?\n",
        "<=   | a <= b   | Is a less than or equal to b?\n",
        ">=   | a >= b   | Is a greater than or equal to b?\n",
        "<    | a < b    | Is a less than b?\n",
        "&#62;    | a &#62; b    | Is a greater than b?\n",
        "~    | ~p       | Returns negation of p\n",
        "&#124; | p &#124; q | p OR q\n",
        "&    | p & q    | p AND q\n",
        "^  | p ^ q | p XOR q (exclusive or)\n",
        "\n",
        "An often-used operation missing from the above table is a test-of-membership.  The `Series.isin(values)` method returns a boolean array denoting whether each element of `Series` is in `values`.  We can then use the array to subset our data frame. For example, if we wanted to see which rows of `heroes` had values in $\\{1,3\\}$, we would use:"
      ]
    },
    {
      "cell_type": "code",
      "execution_count": 852,
      "metadata": {
        "id": "wtG6kk6iOp7d"
      },
      "outputs": [
        {
          "data": {
            "text/html": [
              "<div>\n",
              "<style scoped>\n",
              "    .dataframe tbody tr th:only-of-type {\n",
              "        vertical-align: middle;\n",
              "    }\n",
              "\n",
              "    .dataframe tbody tr th {\n",
              "        vertical-align: top;\n",
              "    }\n",
              "\n",
              "    .dataframe thead th {\n",
              "        text-align: right;\n",
              "    }\n",
              "</style>\n",
              "<table border=\"1\" class=\"dataframe\">\n",
              "  <thead>\n",
              "    <tr style=\"text-align: right;\">\n",
              "      <th></th>\n",
              "      <th>color</th>\n",
              "      <th>first_seen_on</th>\n",
              "      <th>first_season</th>\n",
              "    </tr>\n",
              "  </thead>\n",
              "  <tbody>\n",
              "    <tr>\n",
              "      <th>arrow</th>\n",
              "      <td>green</td>\n",
              "      <td>a</td>\n",
              "      <td>1</td>\n",
              "    </tr>\n",
              "    <tr>\n",
              "      <th>atom</th>\n",
              "      <td>blue</td>\n",
              "      <td>a</td>\n",
              "      <td>3</td>\n",
              "    </tr>\n",
              "    <tr>\n",
              "      <th>canary</th>\n",
              "      <td>black</td>\n",
              "      <td>a</td>\n",
              "      <td>3</td>\n",
              "    </tr>\n",
              "    <tr>\n",
              "      <th>firestorm</th>\n",
              "      <td>red</td>\n",
              "      <td>f</td>\n",
              "      <td>1</td>\n",
              "    </tr>\n",
              "  </tbody>\n",
              "</table>\n",
              "</div>"
            ],
            "text/plain": [
              "           color first_seen_on  first_season\n",
              "arrow      green             a             1\n",
              "atom        blue             a             3\n",
              "canary     black             a             3\n",
              "firestorm    red             f             1"
            ]
          },
          "execution_count": 852,
          "metadata": {},
          "output_type": "execute_result"
        }
      ],
      "source": [
        "heroes[heroes['first_season'].isin([1,3])]"
      ]
    },
    {
      "cell_type": "markdown",
      "metadata": {
        "id": "hEC2Zx9fOp7d"
      },
      "source": [
        "Notice that in both examples above, the expression in the brackets evaluates to a boolean series.  The general strategy for filtering data frames, then, is to write an expression of the form `frame[logical statement]`."
      ]
    },
    {
      "cell_type": "markdown",
      "metadata": {
        "id": "9aV0ZMVSOp7d"
      },
      "source": [
        "#### Counting Rows\n",
        "\n",
        "To count the number of instances of a value in a `Series`, we can use the `value_counts` method.  Below we count the number of instances of each color."
      ]
    },
    {
      "cell_type": "code",
      "execution_count": 853,
      "metadata": {
        "id": "Blcz7LzQOp7e"
      },
      "outputs": [
        {
          "data": {
            "text/plain": [
              "color\n",
              "red      2\n",
              "black    2\n",
              "green    1\n",
              "blue     1\n",
              "Name: count, dtype: int64"
            ]
          },
          "execution_count": 853,
          "metadata": {},
          "output_type": "execute_result"
        }
      ],
      "source": [
        "heroes['color'].value_counts()"
      ]
    },
    {
      "cell_type": "markdown",
      "metadata": {
        "id": "oU4xkoDXOp7e"
      },
      "source": [
        "A more sophisticated analysis might involve counting the number of instances a tuple appears.  Here we count $(color,value)$ tuples."
      ]
    },
    {
      "cell_type": "code",
      "execution_count": 854,
      "metadata": {
        "id": "9Rs94Xi2Op7e"
      },
      "outputs": [
        {
          "data": {
            "text/plain": [
              "color  first_season\n",
              "black  2               1\n",
              "       3               1\n",
              "blue   3               1\n",
              "green  1               1\n",
              "red    1               1\n",
              "       2               1\n",
              "dtype: int64"
            ]
          },
          "execution_count": 854,
          "metadata": {},
          "output_type": "execute_result"
        }
      ],
      "source": [
        "heroes.groupby(['color', 'first_season']).size()"
      ]
    },
    {
      "cell_type": "markdown",
      "metadata": {
        "id": "ZF-YrghbOp7e"
      },
      "source": [
        "This returns a series that has been multi-indexed.  We'll eschew this topic for now.  To get a data frame back, we'll use the `reset_index` method, which also allows us to simulataneously name the new column."
      ]
    },
    {
      "cell_type": "code",
      "execution_count": 855,
      "metadata": {
        "id": "5uUBO73nOp7e"
      },
      "outputs": [
        {
          "data": {
            "text/html": [
              "<div>\n",
              "<style scoped>\n",
              "    .dataframe tbody tr th:only-of-type {\n",
              "        vertical-align: middle;\n",
              "    }\n",
              "\n",
              "    .dataframe tbody tr th {\n",
              "        vertical-align: top;\n",
              "    }\n",
              "\n",
              "    .dataframe thead th {\n",
              "        text-align: right;\n",
              "    }\n",
              "</style>\n",
              "<table border=\"1\" class=\"dataframe\">\n",
              "  <thead>\n",
              "    <tr style=\"text-align: right;\">\n",
              "      <th></th>\n",
              "      <th>color</th>\n",
              "      <th>first_season</th>\n",
              "      <th>count</th>\n",
              "    </tr>\n",
              "  </thead>\n",
              "  <tbody>\n",
              "    <tr>\n",
              "      <th>0</th>\n",
              "      <td>black</td>\n",
              "      <td>2</td>\n",
              "      <td>1</td>\n",
              "    </tr>\n",
              "    <tr>\n",
              "      <th>1</th>\n",
              "      <td>black</td>\n",
              "      <td>3</td>\n",
              "      <td>1</td>\n",
              "    </tr>\n",
              "    <tr>\n",
              "      <th>2</th>\n",
              "      <td>blue</td>\n",
              "      <td>3</td>\n",
              "      <td>1</td>\n",
              "    </tr>\n",
              "    <tr>\n",
              "      <th>3</th>\n",
              "      <td>green</td>\n",
              "      <td>1</td>\n",
              "      <td>1</td>\n",
              "    </tr>\n",
              "    <tr>\n",
              "      <th>4</th>\n",
              "      <td>red</td>\n",
              "      <td>1</td>\n",
              "      <td>1</td>\n",
              "    </tr>\n",
              "    <tr>\n",
              "      <th>5</th>\n",
              "      <td>red</td>\n",
              "      <td>2</td>\n",
              "      <td>1</td>\n",
              "    </tr>\n",
              "  </tbody>\n",
              "</table>\n",
              "</div>"
            ],
            "text/plain": [
              "   color  first_season  count\n",
              "0  black             2      1\n",
              "1  black             3      1\n",
              "2   blue             3      1\n",
              "3  green             1      1\n",
              "4    red             1      1\n",
              "5    red             2      1"
            ]
          },
          "execution_count": 855,
          "metadata": {},
          "output_type": "execute_result"
        }
      ],
      "source": [
        "heroes.groupby(['color', 'first_season']).size().reset_index(name='count')"
      ]
    },
    {
      "cell_type": "markdown",
      "metadata": {
        "id": "O1X68glfOp7e"
      },
      "source": [
        "#### Joining Tables on One Column\n",
        "\n",
        "Suppose we have another table that classifies superheroes into their respective teams.  Note that `canary` is not in this data set and that `killer frost` and `speedy` are additions that aren't in the original `heroes` set.\n",
        "\n",
        "For simplicity of the example, we'll convert the index of the `heroes` data frame into an explicit column called `hero`.  A careful examination of the [documentation](https://pandas.pydata.org/docs/reference/api/pandas.DataFrame.merge.html) will reveal that joining on a mixture of the index and columns is possible."
      ]
    },
    {
      "cell_type": "code",
      "execution_count": 856,
      "metadata": {
        "id": "y597O0QxOp7h"
      },
      "outputs": [
        {
          "data": {
            "text/html": [
              "<div>\n",
              "<style scoped>\n",
              "    .dataframe tbody tr th:only-of-type {\n",
              "        vertical-align: middle;\n",
              "    }\n",
              "\n",
              "    .dataframe tbody tr th {\n",
              "        vertical-align: top;\n",
              "    }\n",
              "\n",
              "    .dataframe thead th {\n",
              "        text-align: right;\n",
              "    }\n",
              "</style>\n",
              "<table border=\"1\" class=\"dataframe\">\n",
              "  <thead>\n",
              "    <tr style=\"text-align: right;\">\n",
              "      <th></th>\n",
              "      <th>color</th>\n",
              "      <th>first_seen_on</th>\n",
              "      <th>first_season</th>\n",
              "      <th>hero</th>\n",
              "    </tr>\n",
              "  </thead>\n",
              "  <tbody>\n",
              "    <tr>\n",
              "      <th>flash</th>\n",
              "      <td>red</td>\n",
              "      <td>a</td>\n",
              "      <td>2</td>\n",
              "      <td>flash</td>\n",
              "    </tr>\n",
              "    <tr>\n",
              "      <th>arrow</th>\n",
              "      <td>green</td>\n",
              "      <td>a</td>\n",
              "      <td>1</td>\n",
              "      <td>arrow</td>\n",
              "    </tr>\n",
              "    <tr>\n",
              "      <th>vibe</th>\n",
              "      <td>black</td>\n",
              "      <td>f</td>\n",
              "      <td>2</td>\n",
              "      <td>vibe</td>\n",
              "    </tr>\n",
              "    <tr>\n",
              "      <th>atom</th>\n",
              "      <td>blue</td>\n",
              "      <td>a</td>\n",
              "      <td>3</td>\n",
              "      <td>atom</td>\n",
              "    </tr>\n",
              "    <tr>\n",
              "      <th>canary</th>\n",
              "      <td>black</td>\n",
              "      <td>a</td>\n",
              "      <td>3</td>\n",
              "      <td>canary</td>\n",
              "    </tr>\n",
              "    <tr>\n",
              "      <th>firestorm</th>\n",
              "      <td>red</td>\n",
              "      <td>f</td>\n",
              "      <td>1</td>\n",
              "      <td>firestorm</td>\n",
              "    </tr>\n",
              "  </tbody>\n",
              "</table>\n",
              "</div>"
            ],
            "text/plain": [
              "           color first_seen_on  first_season       hero\n",
              "flash        red             a             2      flash\n",
              "arrow      green             a             1      arrow\n",
              "vibe       black             f             2       vibe\n",
              "atom        blue             a             3       atom\n",
              "canary     black             a             3     canary\n",
              "firestorm    red             f             1  firestorm"
            ]
          },
          "execution_count": 856,
          "metadata": {},
          "output_type": "execute_result"
        }
      ],
      "source": [
        "heroes['hero'] = heroes.index\n",
        "heroes"
      ]
    },
    {
      "cell_type": "markdown",
      "metadata": {
        "id": "c6HlfRDKOp7h"
      },
      "source": [
        "##### Inner Join\n",
        "\n",
        "The inner join below returns rows representing the heroes that appear in both data frames."
      ]
    },
    {
      "cell_type": "code",
      "execution_count": 857,
      "metadata": {
        "id": "liX9S3waOp7h"
      },
      "outputs": [
        {
          "data": {
            "text/html": [
              "<div>\n",
              "<style scoped>\n",
              "    .dataframe tbody tr th:only-of-type {\n",
              "        vertical-align: middle;\n",
              "    }\n",
              "\n",
              "    .dataframe tbody tr th {\n",
              "        vertical-align: top;\n",
              "    }\n",
              "\n",
              "    .dataframe thead th {\n",
              "        text-align: right;\n",
              "    }\n",
              "</style>\n",
              "<table border=\"1\" class=\"dataframe\">\n",
              "  <thead>\n",
              "    <tr style=\"text-align: right;\">\n",
              "      <th></th>\n",
              "      <th>color</th>\n",
              "      <th>first_seen_on</th>\n",
              "      <th>first_season</th>\n",
              "      <th>hero</th>\n",
              "      <th>team</th>\n",
              "    </tr>\n",
              "  </thead>\n",
              "  <tbody>\n",
              "    <tr>\n",
              "      <th>0</th>\n",
              "      <td>red</td>\n",
              "      <td>a</td>\n",
              "      <td>2</td>\n",
              "      <td>flash</td>\n",
              "      <td>flash</td>\n",
              "    </tr>\n",
              "    <tr>\n",
              "      <th>1</th>\n",
              "      <td>green</td>\n",
              "      <td>a</td>\n",
              "      <td>1</td>\n",
              "      <td>arrow</td>\n",
              "      <td>arrow</td>\n",
              "    </tr>\n",
              "    <tr>\n",
              "      <th>2</th>\n",
              "      <td>black</td>\n",
              "      <td>f</td>\n",
              "      <td>2</td>\n",
              "      <td>vibe</td>\n",
              "      <td>flash</td>\n",
              "    </tr>\n",
              "    <tr>\n",
              "      <th>3</th>\n",
              "      <td>blue</td>\n",
              "      <td>a</td>\n",
              "      <td>3</td>\n",
              "      <td>atom</td>\n",
              "      <td>legends</td>\n",
              "    </tr>\n",
              "    <tr>\n",
              "      <th>4</th>\n",
              "      <td>red</td>\n",
              "      <td>f</td>\n",
              "      <td>1</td>\n",
              "      <td>firestorm</td>\n",
              "      <td>legends</td>\n",
              "    </tr>\n",
              "  </tbody>\n",
              "</table>\n",
              "</div>"
            ],
            "text/plain": [
              "   color first_seen_on  first_season       hero     team\n",
              "0    red             a             2      flash    flash\n",
              "1  green             a             1      arrow    arrow\n",
              "2  black             f             2       vibe    flash\n",
              "3   blue             a             3       atom  legends\n",
              "4    red             f             1  firestorm  legends"
            ]
          },
          "execution_count": 857,
          "metadata": {},
          "output_type": "execute_result"
        }
      ],
      "source": [
        "pd.merge(heroes, teams, how='inner', on='hero')"
      ]
    },
    {
      "cell_type": "markdown",
      "metadata": {
        "id": "ztmmxXLDOp7h"
      },
      "source": [
        "##### Left and right join\n",
        "The left join returns rows representing heroes in the `heroes` (\"left\") data frame, augmented by information found in the `teams` data frame.  Its counterpart, the right join, would return heroes in the `teams` data frame.  Note that the `team` for hero `canary` is an `NaN` value, representing missing data."
      ]
    },
    {
      "cell_type": "code",
      "execution_count": 858,
      "metadata": {
        "id": "bnd3FWTvOp7i"
      },
      "outputs": [
        {
          "data": {
            "text/html": [
              "<div>\n",
              "<style scoped>\n",
              "    .dataframe tbody tr th:only-of-type {\n",
              "        vertical-align: middle;\n",
              "    }\n",
              "\n",
              "    .dataframe tbody tr th {\n",
              "        vertical-align: top;\n",
              "    }\n",
              "\n",
              "    .dataframe thead th {\n",
              "        text-align: right;\n",
              "    }\n",
              "</style>\n",
              "<table border=\"1\" class=\"dataframe\">\n",
              "  <thead>\n",
              "    <tr style=\"text-align: right;\">\n",
              "      <th></th>\n",
              "      <th>color</th>\n",
              "      <th>first_seen_on</th>\n",
              "      <th>first_season</th>\n",
              "      <th>hero</th>\n",
              "      <th>team</th>\n",
              "    </tr>\n",
              "  </thead>\n",
              "  <tbody>\n",
              "    <tr>\n",
              "      <th>0</th>\n",
              "      <td>red</td>\n",
              "      <td>a</td>\n",
              "      <td>2</td>\n",
              "      <td>flash</td>\n",
              "      <td>flash</td>\n",
              "    </tr>\n",
              "    <tr>\n",
              "      <th>1</th>\n",
              "      <td>green</td>\n",
              "      <td>a</td>\n",
              "      <td>1</td>\n",
              "      <td>arrow</td>\n",
              "      <td>arrow</td>\n",
              "    </tr>\n",
              "    <tr>\n",
              "      <th>2</th>\n",
              "      <td>black</td>\n",
              "      <td>f</td>\n",
              "      <td>2</td>\n",
              "      <td>vibe</td>\n",
              "      <td>flash</td>\n",
              "    </tr>\n",
              "    <tr>\n",
              "      <th>3</th>\n",
              "      <td>blue</td>\n",
              "      <td>a</td>\n",
              "      <td>3</td>\n",
              "      <td>atom</td>\n",
              "      <td>legends</td>\n",
              "    </tr>\n",
              "    <tr>\n",
              "      <th>4</th>\n",
              "      <td>black</td>\n",
              "      <td>a</td>\n",
              "      <td>3</td>\n",
              "      <td>canary</td>\n",
              "      <td>NaN</td>\n",
              "    </tr>\n",
              "    <tr>\n",
              "      <th>5</th>\n",
              "      <td>red</td>\n",
              "      <td>f</td>\n",
              "      <td>1</td>\n",
              "      <td>firestorm</td>\n",
              "      <td>legends</td>\n",
              "    </tr>\n",
              "  </tbody>\n",
              "</table>\n",
              "</div>"
            ],
            "text/plain": [
              "   color first_seen_on  first_season       hero     team\n",
              "0    red             a             2      flash    flash\n",
              "1  green             a             1      arrow    arrow\n",
              "2  black             f             2       vibe    flash\n",
              "3   blue             a             3       atom  legends\n",
              "4  black             a             3     canary      NaN\n",
              "5    red             f             1  firestorm  legends"
            ]
          },
          "execution_count": 858,
          "metadata": {},
          "output_type": "execute_result"
        }
      ],
      "source": [
        "pd.merge(heroes, teams, how='left', on='hero')"
      ]
    },
    {
      "cell_type": "markdown",
      "metadata": {
        "id": "l8keEMQHOp7i"
      },
      "source": [
        "##### Outer join\n",
        "\n",
        "An outer join on `hero` will return all heroes found in both the left and right data frames.  Any missing values are filled in with `NaN`."
      ]
    },
    {
      "cell_type": "code",
      "execution_count": 859,
      "metadata": {
        "id": "VcHeeoZAOp7i"
      },
      "outputs": [
        {
          "data": {
            "text/html": [
              "<div>\n",
              "<style scoped>\n",
              "    .dataframe tbody tr th:only-of-type {\n",
              "        vertical-align: middle;\n",
              "    }\n",
              "\n",
              "    .dataframe tbody tr th {\n",
              "        vertical-align: top;\n",
              "    }\n",
              "\n",
              "    .dataframe thead th {\n",
              "        text-align: right;\n",
              "    }\n",
              "</style>\n",
              "<table border=\"1\" class=\"dataframe\">\n",
              "  <thead>\n",
              "    <tr style=\"text-align: right;\">\n",
              "      <th></th>\n",
              "      <th>color</th>\n",
              "      <th>first_seen_on</th>\n",
              "      <th>first_season</th>\n",
              "      <th>hero</th>\n",
              "      <th>team</th>\n",
              "    </tr>\n",
              "  </thead>\n",
              "  <tbody>\n",
              "    <tr>\n",
              "      <th>0</th>\n",
              "      <td>green</td>\n",
              "      <td>a</td>\n",
              "      <td>1.0</td>\n",
              "      <td>arrow</td>\n",
              "      <td>arrow</td>\n",
              "    </tr>\n",
              "    <tr>\n",
              "      <th>1</th>\n",
              "      <td>blue</td>\n",
              "      <td>a</td>\n",
              "      <td>3.0</td>\n",
              "      <td>atom</td>\n",
              "      <td>legends</td>\n",
              "    </tr>\n",
              "    <tr>\n",
              "      <th>2</th>\n",
              "      <td>black</td>\n",
              "      <td>a</td>\n",
              "      <td>3.0</td>\n",
              "      <td>canary</td>\n",
              "      <td>NaN</td>\n",
              "    </tr>\n",
              "    <tr>\n",
              "      <th>3</th>\n",
              "      <td>red</td>\n",
              "      <td>f</td>\n",
              "      <td>1.0</td>\n",
              "      <td>firestorm</td>\n",
              "      <td>legends</td>\n",
              "    </tr>\n",
              "    <tr>\n",
              "      <th>4</th>\n",
              "      <td>red</td>\n",
              "      <td>a</td>\n",
              "      <td>2.0</td>\n",
              "      <td>flash</td>\n",
              "      <td>flash</td>\n",
              "    </tr>\n",
              "    <tr>\n",
              "      <th>5</th>\n",
              "      <td>NaN</td>\n",
              "      <td>NaN</td>\n",
              "      <td>NaN</td>\n",
              "      <td>killer frost</td>\n",
              "      <td>flash</td>\n",
              "    </tr>\n",
              "    <tr>\n",
              "      <th>6</th>\n",
              "      <td>NaN</td>\n",
              "      <td>NaN</td>\n",
              "      <td>NaN</td>\n",
              "      <td>speedy</td>\n",
              "      <td>arrow</td>\n",
              "    </tr>\n",
              "    <tr>\n",
              "      <th>7</th>\n",
              "      <td>black</td>\n",
              "      <td>f</td>\n",
              "      <td>2.0</td>\n",
              "      <td>vibe</td>\n",
              "      <td>flash</td>\n",
              "    </tr>\n",
              "  </tbody>\n",
              "</table>\n",
              "</div>"
            ],
            "text/plain": [
              "   color first_seen_on  first_season          hero     team\n",
              "0  green             a           1.0         arrow    arrow\n",
              "1   blue             a           3.0          atom  legends\n",
              "2  black             a           3.0        canary      NaN\n",
              "3    red             f           1.0     firestorm  legends\n",
              "4    red             a           2.0         flash    flash\n",
              "5    NaN           NaN           NaN  killer frost    flash\n",
              "6    NaN           NaN           NaN        speedy    arrow\n",
              "7  black             f           2.0          vibe    flash"
            ]
          },
          "execution_count": 859,
          "metadata": {},
          "output_type": "execute_result"
        }
      ],
      "source": [
        "pd.merge(heroes, teams, how='outer', on='hero')"
      ]
    },
    {
      "cell_type": "markdown",
      "metadata": {
        "id": "D1Gnpw46Op7i"
      },
      "source": [
        "##### More than one match?\n",
        "\n",
        "If the values in the columns to be matched don't uniquely identify a row, then a cartesian product is formed in the merge.  For example, notice that `firestorm` has two different egos, so information from `heroes` had to be duplicated in the merge, once for each ego."
      ]
    },
    {
      "cell_type": "code",
      "execution_count": 860,
      "metadata": {
        "id": "uW5BospiOp7i"
      },
      "outputs": [
        {
          "data": {
            "text/html": [
              "<div>\n",
              "<style scoped>\n",
              "    .dataframe tbody tr th:only-of-type {\n",
              "        vertical-align: middle;\n",
              "    }\n",
              "\n",
              "    .dataframe tbody tr th {\n",
              "        vertical-align: top;\n",
              "    }\n",
              "\n",
              "    .dataframe thead th {\n",
              "        text-align: right;\n",
              "    }\n",
              "</style>\n",
              "<table border=\"1\" class=\"dataframe\">\n",
              "  <thead>\n",
              "    <tr style=\"text-align: right;\">\n",
              "      <th></th>\n",
              "      <th>color</th>\n",
              "      <th>first_seen_on</th>\n",
              "      <th>first_season</th>\n",
              "      <th>hero</th>\n",
              "      <th>ego</th>\n",
              "      <th>alter-ego</th>\n",
              "    </tr>\n",
              "  </thead>\n",
              "  <tbody>\n",
              "    <tr>\n",
              "      <th>0</th>\n",
              "      <td>red</td>\n",
              "      <td>a</td>\n",
              "      <td>2</td>\n",
              "      <td>flash</td>\n",
              "      <td>barry allen</td>\n",
              "      <td>flash</td>\n",
              "    </tr>\n",
              "    <tr>\n",
              "      <th>1</th>\n",
              "      <td>green</td>\n",
              "      <td>a</td>\n",
              "      <td>1</td>\n",
              "      <td>arrow</td>\n",
              "      <td>oliver queen</td>\n",
              "      <td>arrow</td>\n",
              "    </tr>\n",
              "    <tr>\n",
              "      <th>2</th>\n",
              "      <td>black</td>\n",
              "      <td>f</td>\n",
              "      <td>2</td>\n",
              "      <td>vibe</td>\n",
              "      <td>cisco ramon</td>\n",
              "      <td>vibe</td>\n",
              "    </tr>\n",
              "    <tr>\n",
              "      <th>3</th>\n",
              "      <td>blue</td>\n",
              "      <td>a</td>\n",
              "      <td>3</td>\n",
              "      <td>atom</td>\n",
              "      <td>ray palmer</td>\n",
              "      <td>atom</td>\n",
              "    </tr>\n",
              "    <tr>\n",
              "      <th>4</th>\n",
              "      <td>black</td>\n",
              "      <td>a</td>\n",
              "      <td>3</td>\n",
              "      <td>canary</td>\n",
              "      <td>sara lance</td>\n",
              "      <td>canary</td>\n",
              "    </tr>\n",
              "    <tr>\n",
              "      <th>5</th>\n",
              "      <td>red</td>\n",
              "      <td>f</td>\n",
              "      <td>1</td>\n",
              "      <td>firestorm</td>\n",
              "      <td>martin stein</td>\n",
              "      <td>firestorm</td>\n",
              "    </tr>\n",
              "    <tr>\n",
              "      <th>6</th>\n",
              "      <td>red</td>\n",
              "      <td>f</td>\n",
              "      <td>1</td>\n",
              "      <td>firestorm</td>\n",
              "      <td>ronnie raymond</td>\n",
              "      <td>firestorm</td>\n",
              "    </tr>\n",
              "  </tbody>\n",
              "</table>\n",
              "</div>"
            ],
            "text/plain": [
              "   color first_seen_on  first_season       hero             ego  alter-ego\n",
              "0    red             a             2      flash     barry allen      flash\n",
              "1  green             a             1      arrow    oliver queen      arrow\n",
              "2  black             f             2       vibe     cisco ramon       vibe\n",
              "3   blue             a             3       atom      ray palmer       atom\n",
              "4  black             a             3     canary      sara lance     canary\n",
              "5    red             f             1  firestorm    martin stein  firestorm\n",
              "6    red             f             1  firestorm  ronnie raymond  firestorm"
            ]
          },
          "execution_count": 860,
          "metadata": {},
          "output_type": "execute_result"
        }
      ],
      "source": [
        "pd.merge(heroes, identities, how='inner',\n",
        "         left_on='hero', right_on='alter-ego')"
      ]
    },
    {
      "cell_type": "markdown",
      "metadata": {
        "id": "ot3ZZMe6Op7j"
      },
      "source": [
        "#### Missing Values\n",
        "\n",
        "There are a multitude of reasons why a data set might have missing values.  The current implementation of Pandas uses the numpy NaN to represent these null values (older implementations even used `-inf` and `inf`).  Future versions of Pandas might implement a true `null` value---keep your eyes peeled for this in updates!  More information can be found [http://pandas.pydata.org/pandas-docs/stable/user_guide/missing_data.html](http://pandas.pydata.org/pandas-docs/stable/user_guide/missing_data.html)\n",
        "\n",
        "Because of the specialness of missing values, they merit their own set of tools.  Here, we will focus on detection.  For replacement, see the docs."
      ]
    },
    {
      "cell_type": "code",
      "execution_count": 861,
      "metadata": {
        "id": "Lq4dQePXOp7j"
      },
      "outputs": [
        {
          "data": {
            "text/plain": [
              "0    1.0\n",
              "1    3.0\n",
              "2    3.0\n",
              "3    1.0\n",
              "4    2.0\n",
              "5    NaN\n",
              "6    NaN\n",
              "7    2.0\n",
              "Name: first_season, dtype: float64"
            ]
          },
          "execution_count": 861,
          "metadata": {},
          "output_type": "execute_result"
        }
      ],
      "source": [
        "x = np.nan\n",
        "y = pd.merge(heroes, teams, how='outer', on='hero')['first_season']\n",
        "y"
      ]
    },
    {
      "cell_type": "markdown",
      "metadata": {
        "id": "NpQ95Hz9Op7j"
      },
      "source": [
        "To check if a value is null, we use the `isnull()` method for series and data frames.  Alternatively, there is a `pd.isnull()` function as well."
      ]
    },
    {
      "cell_type": "code",
      "execution_count": null,
      "metadata": {
        "id": "PsAUEg_BOp7j"
      },
      "outputs": [],
      "source": [
        "x.isnull() # won't work since x is neither a series nor a data frame"
      ]
    },
    {
      "cell_type": "code",
      "execution_count": 863,
      "metadata": {
        "id": "896cM3UVOp7j"
      },
      "outputs": [
        {
          "data": {
            "text/plain": [
              "True"
            ]
          },
          "execution_count": 863,
          "metadata": {},
          "output_type": "execute_result"
        }
      ],
      "source": [
        "pd.isnull(x)"
      ]
    },
    {
      "cell_type": "code",
      "execution_count": 864,
      "metadata": {
        "id": "oQduBqueOp7k"
      },
      "outputs": [
        {
          "data": {
            "text/plain": [
              "0    False\n",
              "1    False\n",
              "2    False\n",
              "3    False\n",
              "4    False\n",
              "5     True\n",
              "6     True\n",
              "7    False\n",
              "Name: first_season, dtype: bool"
            ]
          },
          "execution_count": 864,
          "metadata": {},
          "output_type": "execute_result"
        }
      ],
      "source": [
        "y.isnull()"
      ]
    },
    {
      "cell_type": "code",
      "execution_count": 865,
      "metadata": {
        "id": "3lsg07a0Op7k"
      },
      "outputs": [
        {
          "data": {
            "text/plain": [
              "0    False\n",
              "1    False\n",
              "2    False\n",
              "3    False\n",
              "4    False\n",
              "5     True\n",
              "6     True\n",
              "7    False\n",
              "Name: first_season, dtype: bool"
            ]
          },
          "execution_count": 865,
          "metadata": {},
          "output_type": "execute_result"
        }
      ],
      "source": [
        "pd.isnull(y)"
      ]
    },
    {
      "cell_type": "markdown",
      "metadata": {
        "id": "0VnWwxWoOp7k"
      },
      "source": [
        "Since filtering out missing data is such a common operation, Pandas also has conveniently included the analogous `notnull()` methods and function for improved human readability."
      ]
    },
    {
      "cell_type": "code",
      "execution_count": 866,
      "metadata": {
        "id": "b3Wwy9gtOp7l"
      },
      "outputs": [
        {
          "data": {
            "text/plain": [
              "0     True\n",
              "1     True\n",
              "2     True\n",
              "3     True\n",
              "4     True\n",
              "5    False\n",
              "6    False\n",
              "7     True\n",
              "Name: first_season, dtype: bool"
            ]
          },
          "execution_count": 866,
          "metadata": {},
          "output_type": "execute_result"
        }
      ],
      "source": [
        "y.notnull()"
      ]
    },
    {
      "cell_type": "code",
      "execution_count": 867,
      "metadata": {
        "id": "gLgm5Ji6Op7l"
      },
      "outputs": [
        {
          "data": {
            "text/plain": [
              "0    1.0\n",
              "1    3.0\n",
              "2    3.0\n",
              "3    1.0\n",
              "4    2.0\n",
              "7    2.0\n",
              "Name: first_season, dtype: float64"
            ]
          },
          "execution_count": 867,
          "metadata": {},
          "output_type": "execute_result"
        }
      ],
      "source": [
        "y[y.notnull()]"
      ]
    },
    {
      "cell_type": "markdown",
      "metadata": {
        "id": "bVse0isROp7l"
      },
      "source": [
        "### Questions (45%)\n",
        "\n",
        "The practice problems below use the department of transportation's \"On-Time\" flight data for all flights originating from SFO or OAK in January 2016. Information about the airports and airlines are contained in the comma-delimited files `airports.dat` and `airlines.dat`, respectively.  Both were sourced from https://openflights.org/data.php\n",
        "\n",
        "Disclaimer: There is a more direct way of dealing with time data that is not presented in these problems.  This activity is merely an academic exercise."
      ]
    },
    {
      "cell_type": "markdown",
      "metadata": {
        "id": "LoHdTMBMOp7l"
      },
      "source": [
        "#### Setup\n",
        "Run the below cells to set up the tables flights and airports"
      ]
    },
    {
      "cell_type": "code",
      "execution_count": 868,
      "metadata": {
        "id": "UP8oKxJsOp7l"
      },
      "outputs": [
        {
          "data": {
            "text/html": [
              "<div>\n",
              "<style scoped>\n",
              "    .dataframe tbody tr th:only-of-type {\n",
              "        vertical-align: middle;\n",
              "    }\n",
              "\n",
              "    .dataframe tbody tr th {\n",
              "        vertical-align: top;\n",
              "    }\n",
              "\n",
              "    .dataframe thead th {\n",
              "        text-align: right;\n",
              "    }\n",
              "</style>\n",
              "<table border=\"1\" class=\"dataframe\">\n",
              "  <thead>\n",
              "    <tr style=\"text-align: right;\">\n",
              "      <th></th>\n",
              "      <th>year</th>\n",
              "      <th>month</th>\n",
              "      <th>day</th>\n",
              "      <th>date</th>\n",
              "      <th>carrier</th>\n",
              "      <th>tailnum</th>\n",
              "      <th>flight</th>\n",
              "      <th>origin</th>\n",
              "      <th>destination</th>\n",
              "      <th>sched_dep_time</th>\n",
              "      <th>actual_dep_time</th>\n",
              "      <th>sched_arr_time</th>\n",
              "      <th>actual_arr_time</th>\n",
              "    </tr>\n",
              "  </thead>\n",
              "  <tbody>\n",
              "    <tr>\n",
              "      <th>0</th>\n",
              "      <td>2016</td>\n",
              "      <td>1</td>\n",
              "      <td>1</td>\n",
              "      <td>2016-01-01</td>\n",
              "      <td>AA</td>\n",
              "      <td>N3FLAA</td>\n",
              "      <td>208</td>\n",
              "      <td>SFO</td>\n",
              "      <td>MIA</td>\n",
              "      <td>630.0</td>\n",
              "      <td>628.0</td>\n",
              "      <td>1458.0</td>\n",
              "      <td>1431.0</td>\n",
              "    </tr>\n",
              "    <tr>\n",
              "      <th>1</th>\n",
              "      <td>2016</td>\n",
              "      <td>1</td>\n",
              "      <td>2</td>\n",
              "      <td>2016-01-02</td>\n",
              "      <td>AA</td>\n",
              "      <td>N3APAA</td>\n",
              "      <td>208</td>\n",
              "      <td>SFO</td>\n",
              "      <td>MIA</td>\n",
              "      <td>600.0</td>\n",
              "      <td>553.0</td>\n",
              "      <td>1428.0</td>\n",
              "      <td>1401.0</td>\n",
              "    </tr>\n",
              "    <tr>\n",
              "      <th>2</th>\n",
              "      <td>2016</td>\n",
              "      <td>1</td>\n",
              "      <td>3</td>\n",
              "      <td>2016-01-03</td>\n",
              "      <td>AA</td>\n",
              "      <td>N3DNAA</td>\n",
              "      <td>208</td>\n",
              "      <td>SFO</td>\n",
              "      <td>MIA</td>\n",
              "      <td>630.0</td>\n",
              "      <td>626.0</td>\n",
              "      <td>1458.0</td>\n",
              "      <td>1431.0</td>\n",
              "    </tr>\n",
              "  </tbody>\n",
              "</table>\n",
              "</div>"
            ],
            "text/plain": [
              "   year  month  day        date carrier tailnum  flight origin destination  \\\n",
              "0  2016      1    1  2016-01-01      AA  N3FLAA     208    SFO         MIA   \n",
              "1  2016      1    2  2016-01-02      AA  N3APAA     208    SFO         MIA   \n",
              "2  2016      1    3  2016-01-03      AA  N3DNAA     208    SFO         MIA   \n",
              "\n",
              "   sched_dep_time  actual_dep_time  sched_arr_time  actual_arr_time  \n",
              "0           630.0            628.0          1458.0           1431.0  \n",
              "1           600.0            553.0          1428.0           1401.0  \n",
              "2           630.0            626.0          1458.0           1431.0  "
            ]
          },
          "execution_count": 868,
          "metadata": {},
          "output_type": "execute_result"
        }
      ],
      "source": [
        "flights = pd.read_csv(\"flights.dat\", dtype={'sched_dep_time': 'f8', 'sched_arr_time': 'f8'})\n",
        "# show the first few rows, by default 5\n",
        "flights.head(3)"
      ]
    },
    {
      "cell_type": "code",
      "execution_count": 869,
      "metadata": {
        "id": "he-b0pCguI_x"
      },
      "outputs": [
        {
          "data": {
            "text/html": [
              "<div>\n",
              "<style scoped>\n",
              "    .dataframe tbody tr th:only-of-type {\n",
              "        vertical-align: middle;\n",
              "    }\n",
              "\n",
              "    .dataframe tbody tr th {\n",
              "        vertical-align: top;\n",
              "    }\n",
              "\n",
              "    .dataframe thead th {\n",
              "        text-align: right;\n",
              "    }\n",
              "</style>\n",
              "<table border=\"1\" class=\"dataframe\">\n",
              "  <thead>\n",
              "    <tr style=\"text-align: right;\">\n",
              "      <th></th>\n",
              "      <th>year</th>\n",
              "      <th>month</th>\n",
              "      <th>day</th>\n",
              "      <th>flight</th>\n",
              "      <th>sched_dep_time</th>\n",
              "      <th>actual_dep_time</th>\n",
              "      <th>sched_arr_time</th>\n",
              "      <th>actual_arr_time</th>\n",
              "    </tr>\n",
              "  </thead>\n",
              "  <tbody>\n",
              "    <tr>\n",
              "      <th>count</th>\n",
              "      <td>16861.0</td>\n",
              "      <td>16861.0</td>\n",
              "      <td>16861.000000</td>\n",
              "      <td>16861.000000</td>\n",
              "      <td>16861.000000</td>\n",
              "      <td>16399.000000</td>\n",
              "      <td>16861.000000</td>\n",
              "      <td>16365.000000</td>\n",
              "    </tr>\n",
              "    <tr>\n",
              "      <th>mean</th>\n",
              "      <td>2016.0</td>\n",
              "      <td>1.0</td>\n",
              "      <td>15.781033</td>\n",
              "      <td>2100.205978</td>\n",
              "      <td>1333.387818</td>\n",
              "      <td>1334.757851</td>\n",
              "      <td>1518.619773</td>\n",
              "      <td>1509.387779</td>\n",
              "    </tr>\n",
              "    <tr>\n",
              "      <th>std</th>\n",
              "      <td>0.0</td>\n",
              "      <td>0.0</td>\n",
              "      <td>8.978231</td>\n",
              "      <td>2036.303273</td>\n",
              "      <td>503.163806</td>\n",
              "      <td>518.007117</td>\n",
              "      <td>529.272153</td>\n",
              "      <td>548.227990</td>\n",
              "    </tr>\n",
              "    <tr>\n",
              "      <th>min</th>\n",
              "      <td>2016.0</td>\n",
              "      <td>1.0</td>\n",
              "      <td>1.000000</td>\n",
              "      <td>1.000000</td>\n",
              "      <td>5.000000</td>\n",
              "      <td>2.000000</td>\n",
              "      <td>2.000000</td>\n",
              "      <td>1.000000</td>\n",
              "    </tr>\n",
              "    <tr>\n",
              "      <th>25%</th>\n",
              "      <td>2016.0</td>\n",
              "      <td>1.0</td>\n",
              "      <td>8.000000</td>\n",
              "      <td>506.000000</td>\n",
              "      <td>915.000000</td>\n",
              "      <td>915.000000</td>\n",
              "      <td>1150.000000</td>\n",
              "      <td>1141.000000</td>\n",
              "    </tr>\n",
              "    <tr>\n",
              "      <th>50%</th>\n",
              "      <td>2016.0</td>\n",
              "      <td>1.0</td>\n",
              "      <td>16.000000</td>\n",
              "      <td>1372.000000</td>\n",
              "      <td>1300.000000</td>\n",
              "      <td>1309.000000</td>\n",
              "      <td>1600.000000</td>\n",
              "      <td>1558.000000</td>\n",
              "    </tr>\n",
              "    <tr>\n",
              "      <th>75%</th>\n",
              "      <td>2016.0</td>\n",
              "      <td>1.0</td>\n",
              "      <td>24.000000</td>\n",
              "      <td>2771.000000</td>\n",
              "      <td>1725.000000</td>\n",
              "      <td>1736.000000</td>\n",
              "      <td>1945.000000</td>\n",
              "      <td>1948.000000</td>\n",
              "    </tr>\n",
              "    <tr>\n",
              "      <th>max</th>\n",
              "      <td>2016.0</td>\n",
              "      <td>1.0</td>\n",
              "      <td>31.000000</td>\n",
              "      <td>6845.000000</td>\n",
              "      <td>2359.000000</td>\n",
              "      <td>2400.000000</td>\n",
              "      <td>2359.000000</td>\n",
              "      <td>2400.000000</td>\n",
              "    </tr>\n",
              "  </tbody>\n",
              "</table>\n",
              "</div>"
            ],
            "text/plain": [
              "          year    month           day        flight  sched_dep_time  \\\n",
              "count  16861.0  16861.0  16861.000000  16861.000000    16861.000000   \n",
              "mean    2016.0      1.0     15.781033   2100.205978     1333.387818   \n",
              "std        0.0      0.0      8.978231   2036.303273      503.163806   \n",
              "min     2016.0      1.0      1.000000      1.000000        5.000000   \n",
              "25%     2016.0      1.0      8.000000    506.000000      915.000000   \n",
              "50%     2016.0      1.0     16.000000   1372.000000     1300.000000   \n",
              "75%     2016.0      1.0     24.000000   2771.000000     1725.000000   \n",
              "max     2016.0      1.0     31.000000   6845.000000     2359.000000   \n",
              "\n",
              "       actual_dep_time  sched_arr_time  actual_arr_time  \n",
              "count     16399.000000    16861.000000     16365.000000  \n",
              "mean       1334.757851     1518.619773      1509.387779  \n",
              "std         518.007117      529.272153       548.227990  \n",
              "min           2.000000        2.000000         1.000000  \n",
              "25%         915.000000     1150.000000      1141.000000  \n",
              "50%        1309.000000     1600.000000      1558.000000  \n",
              "75%        1736.000000     1945.000000      1948.000000  \n",
              "max        2400.000000     2359.000000      2400.000000  "
            ]
          },
          "execution_count": 869,
          "metadata": {},
          "output_type": "execute_result"
        }
      ],
      "source": [
        "flights.describe()"
      ]
    },
    {
      "cell_type": "code",
      "execution_count": 870,
      "metadata": {
        "id": "Dg4JU3hUOp7m"
      },
      "outputs": [
        {
          "data": {
            "text/html": [
              "<div>\n",
              "<style scoped>\n",
              "    .dataframe tbody tr th:only-of-type {\n",
              "        vertical-align: middle;\n",
              "    }\n",
              "\n",
              "    .dataframe tbody tr th {\n",
              "        vertical-align: top;\n",
              "    }\n",
              "\n",
              "    .dataframe thead th {\n",
              "        text-align: right;\n",
              "    }\n",
              "</style>\n",
              "<table border=\"1\" class=\"dataframe\">\n",
              "  <thead>\n",
              "    <tr style=\"text-align: right;\">\n",
              "      <th></th>\n",
              "      <th>openflights_id</th>\n",
              "      <th>name</th>\n",
              "      <th>city</th>\n",
              "      <th>country</th>\n",
              "      <th>iata</th>\n",
              "      <th>icao</th>\n",
              "      <th>latitude</th>\n",
              "      <th>longitude</th>\n",
              "      <th>altitude</th>\n",
              "      <th>tz</th>\n",
              "      <th>dst</th>\n",
              "      <th>tz_olson</th>\n",
              "      <th>type</th>\n",
              "      <th>airport_dsource</th>\n",
              "    </tr>\n",
              "  </thead>\n",
              "  <tbody>\n",
              "    <tr>\n",
              "      <th>0</th>\n",
              "      <td>1</td>\n",
              "      <td>Goroka</td>\n",
              "      <td>Goroka</td>\n",
              "      <td>Papua New Guinea</td>\n",
              "      <td>GKA</td>\n",
              "      <td>AYGA</td>\n",
              "      <td>-6.081689</td>\n",
              "      <td>145.391881</td>\n",
              "      <td>5282</td>\n",
              "      <td>10.0</td>\n",
              "      <td>U</td>\n",
              "      <td>Pacific/Port_Moresby</td>\n",
              "      <td>NaN</td>\n",
              "      <td>NaN</td>\n",
              "    </tr>\n",
              "    <tr>\n",
              "      <th>1</th>\n",
              "      <td>2</td>\n",
              "      <td>Madang</td>\n",
              "      <td>Madang</td>\n",
              "      <td>Papua New Guinea</td>\n",
              "      <td>MAG</td>\n",
              "      <td>AYMD</td>\n",
              "      <td>-5.207083</td>\n",
              "      <td>145.788700</td>\n",
              "      <td>20</td>\n",
              "      <td>10.0</td>\n",
              "      <td>U</td>\n",
              "      <td>Pacific/Port_Moresby</td>\n",
              "      <td>NaN</td>\n",
              "      <td>NaN</td>\n",
              "    </tr>\n",
              "    <tr>\n",
              "      <th>2</th>\n",
              "      <td>3</td>\n",
              "      <td>Mount Hagen</td>\n",
              "      <td>Mount Hagen</td>\n",
              "      <td>Papua New Guinea</td>\n",
              "      <td>HGU</td>\n",
              "      <td>AYMH</td>\n",
              "      <td>-5.826789</td>\n",
              "      <td>144.295861</td>\n",
              "      <td>5388</td>\n",
              "      <td>10.0</td>\n",
              "      <td>U</td>\n",
              "      <td>Pacific/Port_Moresby</td>\n",
              "      <td>NaN</td>\n",
              "      <td>NaN</td>\n",
              "    </tr>\n",
              "  </tbody>\n",
              "</table>\n",
              "</div>"
            ],
            "text/plain": [
              "   openflights_id         name         city           country iata  icao  \\\n",
              "0               1       Goroka       Goroka  Papua New Guinea  GKA  AYGA   \n",
              "1               2       Madang       Madang  Papua New Guinea  MAG  AYMD   \n",
              "2               3  Mount Hagen  Mount Hagen  Papua New Guinea  HGU  AYMH   \n",
              "\n",
              "   latitude   longitude  altitude    tz dst              tz_olson  type  \\\n",
              "0 -6.081689  145.391881      5282  10.0   U  Pacific/Port_Moresby   NaN   \n",
              "1 -5.207083  145.788700        20  10.0   U  Pacific/Port_Moresby   NaN   \n",
              "2 -5.826789  144.295861      5388  10.0   U  Pacific/Port_Moresby   NaN   \n",
              "\n",
              "   airport_dsource  \n",
              "0              NaN  \n",
              "1              NaN  \n",
              "2              NaN  "
            ]
          },
          "execution_count": 870,
          "metadata": {},
          "output_type": "execute_result"
        }
      ],
      "source": [
        "airports_cols = [\n",
        "    'openflights_id',\n",
        "    'name',\n",
        "    'city',\n",
        "    'country',\n",
        "    'iata',\n",
        "    'icao',\n",
        "    'latitude',\n",
        "    'longitude',\n",
        "    'altitude',\n",
        "    'tz',\n",
        "    'dst',\n",
        "    'tz_olson',\n",
        "    'type',\n",
        "    'airport_dsource'\n",
        "]\n",
        "\n",
        "airports = pd.read_csv(\"airports.dat\", names=airports_cols)\n",
        "airports.head(3)"
      ]
    },
    {
      "cell_type": "markdown",
      "metadata": {
        "id": "KbCZ6WhrL5BP"
      },
      "source": [
        "#### Question 1.1 (15%)\n",
        "Lets practice some pandas commands in this sections."
      ]
    },
    {
      "cell_type": "markdown",
      "metadata": {
        "id": "Awp_uMQNPERd"
      },
      "source": [
        "(5%) In the 'flights' table, display unique values present in columns - 'carrier', 'origin', 'destination'"
      ]
    },
    {
      "cell_type": "code",
      "execution_count": 871,
      "metadata": {
        "colab": {
          "base_uri": "https://localhost:8080/",
          "height": 52
        },
        "id": "EYDWLewkNC9p",
        "outputId": "3a6be2e7-e161-47d4-90d0-a521cb7098ba"
      },
      "outputs": [
        {
          "name": "stdout",
          "output_type": "stream",
          "text": [
            "11\n"
          ]
        },
        {
          "data": {
            "text/plain": [
              "array(['AA', 'AS', 'B6', 'DL', 'F9', 'HA', 'NK', 'OO', 'UA', 'VX', 'WN'],\n",
              "      dtype=object)"
            ]
          },
          "metadata": {},
          "output_type": "display_data"
        }
      ],
      "source": [
        "#Code - write one line code to display unique values in column 'carrier'\n",
        "# write here\n",
        "out = flights['carrier'].unique()\n",
        "\n",
        "\n",
        "# testing the code < do not change code below>\n",
        "print(len(out))\n",
        "display(out)"
      ]
    },
    {
      "cell_type": "code",
      "execution_count": 872,
      "metadata": {
        "colab": {
          "base_uri": "https://localhost:8080/",
          "height": 52
        },
        "id": "LiJ37YbTP5Ad",
        "outputId": "a9121817-85d0-4b2d-cc38-7268d4bf9af6"
      },
      "outputs": [
        {
          "name": "stdout",
          "output_type": "stream",
          "text": [
            "2\n"
          ]
        },
        {
          "data": {
            "text/plain": [
              "array(['SFO', 'OAK'], dtype=object)"
            ]
          },
          "metadata": {},
          "output_type": "display_data"
        }
      ],
      "source": [
        "#Code - write one line code to display unique values in column 'origin'\n",
        "# write here\n",
        "out = flights['origin'].unique()\n",
        "\n",
        "\n",
        "# testing the code < do not change code below>\n",
        "print(len(out))\n",
        "display(out)"
      ]
    },
    {
      "cell_type": "code",
      "execution_count": 873,
      "metadata": {
        "colab": {
          "base_uri": "https://localhost:8080/",
          "height": 52
        },
        "id": "Gk1mGhj8P-Ie",
        "outputId": "58e1c9e2-4dba-4b40-c03d-f6dee2dff76d"
      },
      "outputs": [
        {
          "name": "stdout",
          "output_type": "stream",
          "text": [
            "79\n"
          ]
        },
        {
          "data": {
            "text/plain": [
              "array(['MIA', 'LAX', 'JFK', 'DFW', 'ORD', 'PHL', 'PHX', 'CLT', 'KOA',\n",
              "       'SEA', 'PDX', 'PSP', 'SLC', 'OGG', 'HNL', 'LIH', 'BOS', 'FLL',\n",
              "       'LGB', 'LAS', 'DTW', 'ATL', 'MSP', 'IAH', 'DEN', 'EUG', 'BOI',\n",
              "       'BUR', 'SMX', 'SAN', 'ACV', 'ASE', 'MRY', 'STL', 'SBA', 'SMF',\n",
              "       'JAC', 'SAT', 'XNA', 'AUS', 'MTJ', 'MFR', 'MCI', 'MMH', 'OKC',\n",
              "       'ONT', 'FAT', 'PSC', 'RDM', 'SBP', 'RNO', 'BFL', 'BZN', 'TUS',\n",
              "       'SNA', 'HDN', 'SUN', 'ABQ', 'EWR', 'MCO', 'MSY', 'IAD', 'IND',\n",
              "       'DCA', 'RDU', 'CLE', 'RDD', 'OTH', 'BWI', 'PIT', 'ANC', 'DAL',\n",
              "       'MDW', 'MKE', 'BNA', 'CMH', 'GEG', 'HOU', 'CVG'], dtype=object)"
            ]
          },
          "metadata": {},
          "output_type": "display_data"
        }
      ],
      "source": [
        "#Code - write one line code to display unique values in column 'destination'\n",
        "# write here\n",
        "out = flights['destination'].unique()\n",
        "\n",
        "\n",
        "# testing the code <do not change code below>\n",
        "print(len(out))\n",
        "display(out)"
      ]
    },
    {
      "cell_type": "markdown",
      "metadata": {
        "id": "mlfGjxaSQkfh"
      },
      "source": [
        "(5%) Display list of all flights with \"SFO\" as origin and \"JFK\" as destination run by the carrier \"DL\" . Only display columns - \"origin\", \"destination\" \"carrier\" and \"sched_dep_time\""
      ]
    },
    {
      "cell_type": "code",
      "execution_count": 874,
      "metadata": {
        "colab": {
          "base_uri": "https://localhost:8080/",
          "height": 35
        },
        "id": "8jh__syLL4mg",
        "outputId": "40cf519f-44c0-44d5-f437-aab0c391ac40"
      },
      "outputs": [
        {
          "data": {
            "text/html": [
              "<div>\n",
              "<style scoped>\n",
              "    .dataframe tbody tr th:only-of-type {\n",
              "        vertical-align: middle;\n",
              "    }\n",
              "\n",
              "    .dataframe tbody tr th {\n",
              "        vertical-align: top;\n",
              "    }\n",
              "\n",
              "    .dataframe thead th {\n",
              "        text-align: right;\n",
              "    }\n",
              "</style>\n",
              "<table border=\"1\" class=\"dataframe\">\n",
              "  <thead>\n",
              "    <tr style=\"text-align: right;\">\n",
              "      <th></th>\n",
              "      <th>origin</th>\n",
              "      <th>destination</th>\n",
              "      <th>carrier</th>\n",
              "      <th>sched_dep_time</th>\n",
              "    </tr>\n",
              "  </thead>\n",
              "  <tbody>\n",
              "    <tr>\n",
              "      <th>2473</th>\n",
              "      <td>SFO</td>\n",
              "      <td>JFK</td>\n",
              "      <td>DL</td>\n",
              "      <td>2145.0</td>\n",
              "    </tr>\n",
              "    <tr>\n",
              "      <th>2478</th>\n",
              "      <td>SFO</td>\n",
              "      <td>JFK</td>\n",
              "      <td>DL</td>\n",
              "      <td>615.0</td>\n",
              "    </tr>\n",
              "    <tr>\n",
              "      <th>2479</th>\n",
              "      <td>SFO</td>\n",
              "      <td>JFK</td>\n",
              "      <td>DL</td>\n",
              "      <td>1415.0</td>\n",
              "    </tr>\n",
              "    <tr>\n",
              "      <th>2480</th>\n",
              "      <td>SFO</td>\n",
              "      <td>JFK</td>\n",
              "      <td>DL</td>\n",
              "      <td>800.0</td>\n",
              "    </tr>\n",
              "    <tr>\n",
              "      <th>2502</th>\n",
              "      <td>SFO</td>\n",
              "      <td>JFK</td>\n",
              "      <td>DL</td>\n",
              "      <td>1415.0</td>\n",
              "    </tr>\n",
              "    <tr>\n",
              "      <th>...</th>\n",
              "      <td>...</td>\n",
              "      <td>...</td>\n",
              "      <td>...</td>\n",
              "      <td>...</td>\n",
              "    </tr>\n",
              "    <tr>\n",
              "      <th>16783</th>\n",
              "      <td>SFO</td>\n",
              "      <td>JFK</td>\n",
              "      <td>DL</td>\n",
              "      <td>1600.0</td>\n",
              "    </tr>\n",
              "    <tr>\n",
              "      <th>16787</th>\n",
              "      <td>SFO</td>\n",
              "      <td>JFK</td>\n",
              "      <td>DL</td>\n",
              "      <td>2148.0</td>\n",
              "    </tr>\n",
              "    <tr>\n",
              "      <th>16791</th>\n",
              "      <td>SFO</td>\n",
              "      <td>JFK</td>\n",
              "      <td>DL</td>\n",
              "      <td>2148.0</td>\n",
              "    </tr>\n",
              "    <tr>\n",
              "      <th>16812</th>\n",
              "      <td>SFO</td>\n",
              "      <td>JFK</td>\n",
              "      <td>DL</td>\n",
              "      <td>625.0</td>\n",
              "    </tr>\n",
              "    <tr>\n",
              "      <th>16813</th>\n",
              "      <td>SFO</td>\n",
              "      <td>JFK</td>\n",
              "      <td>DL</td>\n",
              "      <td>830.0</td>\n",
              "    </tr>\n",
              "  </tbody>\n",
              "</table>\n",
              "<p>179 rows × 4 columns</p>\n",
              "</div>"
            ],
            "text/plain": [
              "      origin destination carrier  sched_dep_time\n",
              "2473     SFO         JFK      DL          2145.0\n",
              "2478     SFO         JFK      DL           615.0\n",
              "2479     SFO         JFK      DL          1415.0\n",
              "2480     SFO         JFK      DL           800.0\n",
              "2502     SFO         JFK      DL          1415.0\n",
              "...      ...         ...     ...             ...\n",
              "16783    SFO         JFK      DL          1600.0\n",
              "16787    SFO         JFK      DL          2148.0\n",
              "16791    SFO         JFK      DL          2148.0\n",
              "16812    SFO         JFK      DL           625.0\n",
              "16813    SFO         JFK      DL           830.0\n",
              "\n",
              "[179 rows x 4 columns]"
            ]
          },
          "execution_count": 874,
          "metadata": {},
          "output_type": "execute_result"
        }
      ],
      "source": [
        "# write your code here\n",
        "out = flights[(flights[\"origin\"] == \"SFO\") & (flights[\"destination\"] == \"JFK\") & (flights[\"carrier\"] == \"DL\")][[\"origin\", \"destination\", \"carrier\", \"sched_dep_time\"]]\n",
        "\n",
        "# display\n",
        "out\n",
        "\n",
        "#display output like this to get full credit (179 rows):\n",
        "#     origin\tdestination\tcarrier\tsched_dep_time\n",
        "# 2473 SFO     JFK          DL      2145.0\n",
        "# 2478 SFO      JFK         DL      615.0\n",
        "# 2479 SFO      JFK         DL      1415.0"
      ]
    },
    {
      "cell_type": "markdown",
      "metadata": {
        "id": "zcnwfRmlSkAE"
      },
      "source": [
        "(5%) - AGGREGATION - Find the total number of flights run by each carrier. Sort the list in descending order of number of flights. Just display numeric index,  carrier and number of flights. Hint: check documentationf for: groupby , sort_values, reset_index\n",
        "\n",
        "Note: Store the group in \"out\" variable ."
      ]
    },
    {
      "cell_type": "code",
      "execution_count": 875,
      "metadata": {
        "id": "dJc8AbR5NB3C"
      },
      "outputs": [
        {
          "data": {
            "text/html": [
              "<div>\n",
              "<style scoped>\n",
              "    .dataframe tbody tr th:only-of-type {\n",
              "        vertical-align: middle;\n",
              "    }\n",
              "\n",
              "    .dataframe tbody tr th {\n",
              "        vertical-align: top;\n",
              "    }\n",
              "\n",
              "    .dataframe thead th {\n",
              "        text-align: right;\n",
              "    }\n",
              "</style>\n",
              "<table border=\"1\" class=\"dataframe\">\n",
              "  <thead>\n",
              "    <tr style=\"text-align: right;\">\n",
              "      <th></th>\n",
              "      <th>carrier</th>\n",
              "      <th>count</th>\n",
              "    </tr>\n",
              "  </thead>\n",
              "  <tbody>\n",
              "    <tr>\n",
              "      <th>0</th>\n",
              "      <td>WN</td>\n",
              "      <td>4169</td>\n",
              "    </tr>\n",
              "    <tr>\n",
              "      <th>1</th>\n",
              "      <td>UA</td>\n",
              "      <td>3687</td>\n",
              "    </tr>\n",
              "    <tr>\n",
              "      <th>2</th>\n",
              "      <td>OO</td>\n",
              "      <td>3325</td>\n",
              "    </tr>\n",
              "    <tr>\n",
              "      <th>3</th>\n",
              "      <td>VX</td>\n",
              "      <td>1548</td>\n",
              "    </tr>\n",
              "    <tr>\n",
              "      <th>4</th>\n",
              "      <td>AA</td>\n",
              "      <td>1338</td>\n",
              "    </tr>\n",
              "    <tr>\n",
              "      <th>5</th>\n",
              "      <td>DL</td>\n",
              "      <td>1073</td>\n",
              "    </tr>\n",
              "    <tr>\n",
              "      <th>6</th>\n",
              "      <td>AS</td>\n",
              "      <td>615</td>\n",
              "    </tr>\n",
              "    <tr>\n",
              "      <th>7</th>\n",
              "      <td>B6</td>\n",
              "      <td>610</td>\n",
              "    </tr>\n",
              "    <tr>\n",
              "      <th>8</th>\n",
              "      <td>F9</td>\n",
              "      <td>186</td>\n",
              "    </tr>\n",
              "    <tr>\n",
              "      <th>9</th>\n",
              "      <td>NK</td>\n",
              "      <td>186</td>\n",
              "    </tr>\n",
              "    <tr>\n",
              "      <th>10</th>\n",
              "      <td>HA</td>\n",
              "      <td>124</td>\n",
              "    </tr>\n",
              "  </tbody>\n",
              "</table>\n",
              "</div>"
            ],
            "text/plain": [
              "   carrier  count\n",
              "0       WN   4169\n",
              "1       UA   3687\n",
              "2       OO   3325\n",
              "3       VX   1548\n",
              "4       AA   1338\n",
              "5       DL   1073\n",
              "6       AS    615\n",
              "7       B6    610\n",
              "8       F9    186\n",
              "9       NK    186\n",
              "10      HA    124"
            ]
          },
          "execution_count": 875,
          "metadata": {},
          "output_type": "execute_result"
        }
      ],
      "source": [
        "def display_carrier_counts(flights):\n",
        "  ''' Use grouby to group the data for various carriers.\n",
        "  Later, create a 'count' column in the new table.\n",
        "  Sort and reset index.\n",
        "  Only display carrier and count'''\n",
        "  # write your code below =======\n",
        "  out = flights.groupby(\"carrier\").size().reset_index(name=\"count\").sort_values(by=\"count\", ascending=False).reset_index(drop=True)\n",
        "\n",
        "\n",
        "  ##======= Do not write below this === # return out should remain for full credit\n",
        "  return out\n",
        "\n",
        "# Display in below format for full credit\n",
        "#       carrier   count\n",
        "#  0    WN        4169\n",
        "#  1    UA        3687\n",
        "\n",
        "out = display_carrier_counts(flights)\n",
        "out"
      ]
    },
    {
      "cell_type": "code",
      "execution_count": 876,
      "metadata": {
        "id": "ZzIKd5hdX1MV"
      },
      "outputs": [
        {
          "data": {
            "text/plain": [
              "np.int64(16861)"
            ]
          },
          "execution_count": 876,
          "metadata": {},
          "output_type": "execute_result"
        }
      ],
      "source": [
        "# Test code - RUN this code to get full credit\n",
        "# test code: Note that the sum of values should be equal to the lenght of flights table\n",
        "out[\"count\"].sum()\n",
        "# 16861"
      ]
    },
    {
      "cell_type": "markdown",
      "metadata": {
        "id": "abOmZpLKOp7m"
      },
      "source": [
        "#### Question 1.2 **(10%)**\n",
        "It looks like the departure and arrival in `flights` were read in as floating-point numbers.  Write two functions, `extract_hour` and `extract_mins` that converts military time to hours and minutes, respectively. Hint: You may want to use modular arithmetic and integer division. Keep in mind that the data has not been cleaned and you need to check whether the extracted values are valid. Replace all the invalid values with `NaN`. The documentation for `pandas.Series.where` provided [here](https://pandas.pydata.org/pandas-docs/stable/reference/api/pandas.Series.where.html) should be helpful."
      ]
    },
    {
      "cell_type": "code",
      "execution_count": 877,
      "metadata": {
        "id": "kwZZitNZOp7m"
      },
      "outputs": [
        {
          "data": {
            "text/plain": [
              "0    10.0\n",
              "1    12.0\n",
              "2     NaN\n",
              "3     NaN\n",
              "dtype: float64"
            ]
          },
          "execution_count": 877,
          "metadata": {},
          "output_type": "execute_result"
        }
      ],
      "source": [
        "def extract_hour(time):\n",
        "    \"\"\"\n",
        "    Extracts hour information from military time.\n",
        "\n",
        "    Args:\n",
        "        time (float64): series of time given in military format.\n",
        "          Takes on values in 0.0-2359.0 due to float64 representation.\n",
        "\n",
        "    Returns:\n",
        "        array (float64): series of input dimension with hour information.\n",
        "          Should only take on integer values in 0-23\n",
        "    \"\"\"\n",
        "    li = []\n",
        "\n",
        "    for t in time:\n",
        "        if (t <2400) and (t >=0):\n",
        "            li.append(int(t)//100)\n",
        "        else:\n",
        "            li.append(np.nan)\n",
        "    \n",
        "    # return pd.Series(li, dtype='float64')\n",
        "    hour = pd.Series(\n",
        "        np.where((time >= 0) & (time < 2400), time // 100, np.nan),\n",
        "        dtype='float64'\n",
        "    )\n",
        "\n",
        "    return hour\n",
        "\n",
        "# test your code to receive credit\n",
        "test_ser = pd.Series([1030.0, 1259.0, np.nan, 2475], dtype='float64')\n",
        "extract_hour(test_ser)\n",
        "\n",
        "# 0    10.0\n",
        "# 1    12.0\n",
        "# 2     NaN\n",
        "# 3     NaN\n",
        "# dtype: float64"
      ]
    },
    {
      "cell_type": "code",
      "execution_count": 878,
      "metadata": {
        "id": "d4GK8ZwwOp7m"
      },
      "outputs": [
        {
          "data": {
            "text/plain": [
              "0    30.0\n",
              "1    59.0\n",
              "2     NaN\n",
              "3     NaN\n",
              "dtype: float64"
            ]
          },
          "execution_count": 878,
          "metadata": {},
          "output_type": "execute_result"
        }
      ],
      "source": [
        "def extract_mins(time):\n",
        "    \"\"\"\n",
        "    Extracts minute information from military time\n",
        "\n",
        "    Args:\n",
        "        time (float64): series of time given in military format.\n",
        "          Takes on values in 0.0-2359.0 due to float64 representation.\n",
        "\n",
        "    Returns:\n",
        "        array (float64): series of input dimension with minute information.\n",
        "          Should only take on integer values in 0-59\n",
        "    \"\"\"\n",
        "    # [YOUR CODE HERE]\n",
        "    mins = pd.Series(\n",
        "        np.where((time >= 0) & (time < 2400), time % 100, np.nan),\n",
        "        dtype='float64'\n",
        "    )\n",
        "    return mins\n",
        "\n",
        "\n",
        "# test your code to receive credit\n",
        "test_ser = pd.Series([1030.0, 1259.0, np.nan, 2475], dtype='float64')\n",
        "extract_mins(test_ser)\n",
        "\n",
        "# 0    30.0\n",
        "# 1    59.0\n",
        "# 2     NaN\n",
        "# 3     NaN\n",
        "# dtype: float64"
      ]
    },
    {
      "cell_type": "markdown",
      "metadata": {
        "id": "v1_f8accOp7m"
      },
      "source": [
        "#### Question 1.3 **(15%)**\n",
        "\n",
        "Using your two functions above, filter the `flights` data for flights that departed 20 or more minutes later than scheduled by comparing `sched_dep_time` and `actual_dep_time`.  You need not worry about flights that were delayed to the next day for this question."
      ]
    },
    {
      "cell_type": "code",
      "execution_count": 879,
      "metadata": {
        "id": "euijcQxCOp7n"
      },
      "outputs": [
        {
          "data": {
            "text/plain": [
              "0    783.0\n",
              "1    720.0\n",
              "2      NaN\n",
              "dtype: float64"
            ]
          },
          "execution_count": 879,
          "metadata": {},
          "output_type": "execute_result"
        }
      ],
      "source": [
        "def convert_to_minofday(time):\n",
        "    \"\"\"\n",
        "    Converts military time to minute of day\n",
        "\n",
        "    Args:\n",
        "        time (float64): series of time given in military format.\n",
        "          Takes on values in 0.0-2359.0 due to float64 representation.\n",
        "\n",
        "    Returns:\n",
        "        array (float64): series of input dimension with minute of day\n",
        "\n",
        "    Example: 1:03pm is converted to 783.0\n",
        "    \"\"\"\n",
        "    \n",
        "    li = []\n",
        "\n",
        "    for t in time:\n",
        "        if (t <2400) and (t >=0):\n",
        "            min = int(t)%100\n",
        "            hour = int(t)//100\n",
        "            val = hour*60 + min\n",
        "            li.append(val)\n",
        "        else:\n",
        "            li.append(np.nan)\n",
        "    return pd.Series(li, dtype='float64')\n",
        "\n",
        "# Test your code  to receive credit\n",
        "ser = pd.Series([1303, 1200, 2400], dtype='float64')\n",
        "convert_to_minofday(ser)\n",
        "\n",
        "# 0    783.0\n",
        "# 1    720.0\n",
        "# 2      NaN\n",
        "# dtype: float64"
      ]
    },
    {
      "cell_type": "code",
      "execution_count": 880,
      "metadata": {
        "id": "X6D-k6VCOp7n"
      },
      "outputs": [
        {
          "data": {
            "text/plain": [
              "0    1.0\n",
              "1    5.0\n",
              "dtype: float64"
            ]
          },
          "execution_count": 880,
          "metadata": {},
          "output_type": "execute_result"
        }
      ],
      "source": [
        "def calc_time_diff(x, y):\n",
        "    \"\"\"\n",
        "    Calculates delay times y - x\n",
        "\n",
        "    Args:\n",
        "        x (float64): series of scheduled time given in military format.\n",
        "          Takes on values in 0.0-2359.0 due to float64 representation.\n",
        "        y (float64): series of same dimensions giving actual time\n",
        "\n",
        "    Returns:\n",
        "        array (float64): series of input dimension with delay time\n",
        "    \"\"\"\n",
        "    arrival = convert_to_minofday(x)\n",
        "    departure = convert_to_minofday(y)\n",
        "    \n",
        "    li = []\n",
        "\n",
        "    for t1, t2 in zip(arrival, departure):\n",
        "        if (t1 <= 1440) and (t2 <= 1440):\n",
        "            li.append(t2-t1)\n",
        "        else:\n",
        "            li.append(np.nan)\n",
        "    return pd.Series(li, dtype='float64')\n",
        "\n",
        "#Test your code  to receive credit\n",
        "sched = pd.Series([1303, 1210], dtype='float64')\n",
        "actual = pd.Series([1304, 1215], dtype='float64')\n",
        "calc_time_diff(sched, actual)\n",
        "\n",
        "# 0    1.0\n",
        "# 1    5.0\n",
        "# dtype: float64"
      ]
    },
    {
      "cell_type": "code",
      "execution_count": 881,
      "metadata": {
        "colab": {
          "base_uri": "https://localhost:8080/",
          "height": 143
        },
        "id": "CsBHW67EOp7n",
        "outputId": "0e0f926f-d068-4b13-d621-c3b1e49192e1"
      },
      "outputs": [
        {
          "data": {
            "text/html": [
              "<div>\n",
              "<style scoped>\n",
              "    .dataframe tbody tr th:only-of-type {\n",
              "        vertical-align: middle;\n",
              "    }\n",
              "\n",
              "    .dataframe tbody tr th {\n",
              "        vertical-align: top;\n",
              "    }\n",
              "\n",
              "    .dataframe thead th {\n",
              "        text-align: right;\n",
              "    }\n",
              "</style>\n",
              "<table border=\"1\" class=\"dataframe\">\n",
              "  <thead>\n",
              "    <tr style=\"text-align: right;\">\n",
              "      <th></th>\n",
              "      <th>year</th>\n",
              "      <th>month</th>\n",
              "      <th>day</th>\n",
              "      <th>date</th>\n",
              "      <th>carrier</th>\n",
              "      <th>tailnum</th>\n",
              "      <th>flight</th>\n",
              "      <th>origin</th>\n",
              "      <th>destination</th>\n",
              "      <th>sched_dep_time</th>\n",
              "      <th>actual_dep_time</th>\n",
              "      <th>sched_arr_time</th>\n",
              "      <th>actual_arr_time</th>\n",
              "    </tr>\n",
              "  </thead>\n",
              "  <tbody>\n",
              "    <tr>\n",
              "      <th>0</th>\n",
              "      <td>2016</td>\n",
              "      <td>1</td>\n",
              "      <td>1</td>\n",
              "      <td>2016-01-01</td>\n",
              "      <td>AA</td>\n",
              "      <td>N3FLAA</td>\n",
              "      <td>208</td>\n",
              "      <td>SFO</td>\n",
              "      <td>MIA</td>\n",
              "      <td>630.0</td>\n",
              "      <td>628.0</td>\n",
              "      <td>1458.0</td>\n",
              "      <td>1431.0</td>\n",
              "    </tr>\n",
              "    <tr>\n",
              "      <th>1</th>\n",
              "      <td>2016</td>\n",
              "      <td>1</td>\n",
              "      <td>2</td>\n",
              "      <td>2016-01-02</td>\n",
              "      <td>AA</td>\n",
              "      <td>N3APAA</td>\n",
              "      <td>208</td>\n",
              "      <td>SFO</td>\n",
              "      <td>MIA</td>\n",
              "      <td>600.0</td>\n",
              "      <td>553.0</td>\n",
              "      <td>1428.0</td>\n",
              "      <td>1401.0</td>\n",
              "    </tr>\n",
              "    <tr>\n",
              "      <th>2</th>\n",
              "      <td>2016</td>\n",
              "      <td>1</td>\n",
              "      <td>3</td>\n",
              "      <td>2016-01-03</td>\n",
              "      <td>AA</td>\n",
              "      <td>N3DNAA</td>\n",
              "      <td>208</td>\n",
              "      <td>SFO</td>\n",
              "      <td>MIA</td>\n",
              "      <td>630.0</td>\n",
              "      <td>626.0</td>\n",
              "      <td>1458.0</td>\n",
              "      <td>1431.0</td>\n",
              "    </tr>\n",
              "  </tbody>\n",
              "</table>\n",
              "</div>"
            ],
            "text/plain": [
              "   year  month  day        date carrier tailnum  flight origin destination  \\\n",
              "0  2016      1    1  2016-01-01      AA  N3FLAA     208    SFO         MIA   \n",
              "1  2016      1    2  2016-01-02      AA  N3APAA     208    SFO         MIA   \n",
              "2  2016      1    3  2016-01-03      AA  N3DNAA     208    SFO         MIA   \n",
              "\n",
              "   sched_dep_time  actual_dep_time  sched_arr_time  actual_arr_time  \n",
              "0           630.0            628.0          1458.0           1431.0  \n",
              "1           600.0            553.0          1428.0           1401.0  \n",
              "2           630.0            626.0          1458.0           1431.0  "
            ]
          },
          "execution_count": 881,
          "metadata": {},
          "output_type": "execute_result"
        }
      ],
      "source": [
        "flights.head(3)"
      ]
    },
    {
      "cell_type": "code",
      "execution_count": 882,
      "metadata": {
        "id": "2nHqly7MOp7n"
      },
      "outputs": [
        {
          "data": {
            "text/plain": [
              "0         -2.0\n",
              "1         -7.0\n",
              "2         -4.0\n",
              "3         -4.0\n",
              "4         -8.0\n",
              "         ...  \n",
              "16856     56.0\n",
              "16857     74.0\n",
              "16858    196.0\n",
              "16859    169.0\n",
              "16860    137.0\n",
              "Length: 16861, dtype: float64"
            ]
          },
          "execution_count": 882,
          "metadata": {},
          "output_type": "execute_result"
        }
      ],
      "source": [
        "### Apply your functions here to calculate delay between `sched_dep_time` and `actual_dep_time` on flights, to receive credit.\n",
        "# [YOUR CODE HERE]\n",
        "# delay = (flights[\"actual_dep_time\"] - flights[\"sched_dep_time\"]).astype(\"float64\") # Series object showing delay time\n",
        "delay = calc_time_diff(flights[\"sched_dep_time\"], flights[\"actual_dep_time\"])\n",
        "delay\n"
      ]
    },
    {
      "cell_type": "code",
      "execution_count": 883,
      "metadata": {
        "id": "fN83ftt_bbjU"
      },
      "outputs": [
        {
          "data": {
            "text/html": [
              "<div>\n",
              "<style scoped>\n",
              "    .dataframe tbody tr th:only-of-type {\n",
              "        vertical-align: middle;\n",
              "    }\n",
              "\n",
              "    .dataframe tbody tr th {\n",
              "        vertical-align: top;\n",
              "    }\n",
              "\n",
              "    .dataframe thead th {\n",
              "        text-align: right;\n",
              "    }\n",
              "</style>\n",
              "<table border=\"1\" class=\"dataframe\">\n",
              "  <thead>\n",
              "    <tr style=\"text-align: right;\">\n",
              "      <th></th>\n",
              "      <th>year</th>\n",
              "      <th>month</th>\n",
              "      <th>day</th>\n",
              "      <th>date</th>\n",
              "      <th>carrier</th>\n",
              "      <th>tailnum</th>\n",
              "      <th>flight</th>\n",
              "      <th>origin</th>\n",
              "      <th>destination</th>\n",
              "      <th>sched_dep_time</th>\n",
              "      <th>actual_dep_time</th>\n",
              "      <th>sched_arr_time</th>\n",
              "      <th>actual_arr_time</th>\n",
              "    </tr>\n",
              "  </thead>\n",
              "  <tbody>\n",
              "    <tr>\n",
              "      <th>15</th>\n",
              "      <td>2016</td>\n",
              "      <td>1</td>\n",
              "      <td>16</td>\n",
              "      <td>2016-01-16</td>\n",
              "      <td>AA</td>\n",
              "      <td>N3GAAA</td>\n",
              "      <td>208</td>\n",
              "      <td>SFO</td>\n",
              "      <td>MIA</td>\n",
              "      <td>640.0</td>\n",
              "      <td>723.0</td>\n",
              "      <td>1458.0</td>\n",
              "      <td>1534.0</td>\n",
              "    </tr>\n",
              "    <tr>\n",
              "      <th>19</th>\n",
              "      <td>2016</td>\n",
              "      <td>1</td>\n",
              "      <td>20</td>\n",
              "      <td>2016-01-20</td>\n",
              "      <td>AA</td>\n",
              "      <td>N3BBAA</td>\n",
              "      <td>208</td>\n",
              "      <td>SFO</td>\n",
              "      <td>MIA</td>\n",
              "      <td>640.0</td>\n",
              "      <td>726.0</td>\n",
              "      <td>1458.0</td>\n",
              "      <td>1532.0</td>\n",
              "    </tr>\n",
              "    <tr>\n",
              "      <th>22</th>\n",
              "      <td>2016</td>\n",
              "      <td>1</td>\n",
              "      <td>23</td>\n",
              "      <td>2016-01-23</td>\n",
              "      <td>AA</td>\n",
              "      <td>N3BBAA</td>\n",
              "      <td>208</td>\n",
              "      <td>SFO</td>\n",
              "      <td>MIA</td>\n",
              "      <td>640.0</td>\n",
              "      <td>901.0</td>\n",
              "      <td>1458.0</td>\n",
              "      <td>1749.0</td>\n",
              "    </tr>\n",
              "    <tr>\n",
              "      <th>35</th>\n",
              "      <td>2016</td>\n",
              "      <td>1</td>\n",
              "      <td>6</td>\n",
              "      <td>2016-01-06</td>\n",
              "      <td>AA</td>\n",
              "      <td>N3FPAA</td>\n",
              "      <td>209</td>\n",
              "      <td>SFO</td>\n",
              "      <td>LAX</td>\n",
              "      <td>2035.0</td>\n",
              "      <td>2105.0</td>\n",
              "      <td>2208.0</td>\n",
              "      <td>2257.0</td>\n",
              "    </tr>\n",
              "    <tr>\n",
              "      <th>39</th>\n",
              "      <td>2016</td>\n",
              "      <td>1</td>\n",
              "      <td>10</td>\n",
              "      <td>2016-01-10</td>\n",
              "      <td>AA</td>\n",
              "      <td>N3CAAA</td>\n",
              "      <td>209</td>\n",
              "      <td>SFO</td>\n",
              "      <td>LAX</td>\n",
              "      <td>2035.0</td>\n",
              "      <td>2116.0</td>\n",
              "      <td>2208.0</td>\n",
              "      <td>2238.0</td>\n",
              "    </tr>\n",
              "    <tr>\n",
              "      <th>...</th>\n",
              "      <td>...</td>\n",
              "      <td>...</td>\n",
              "      <td>...</td>\n",
              "      <td>...</td>\n",
              "      <td>...</td>\n",
              "      <td>...</td>\n",
              "      <td>...</td>\n",
              "      <td>...</td>\n",
              "      <td>...</td>\n",
              "      <td>...</td>\n",
              "      <td>...</td>\n",
              "      <td>...</td>\n",
              "      <td>...</td>\n",
              "    </tr>\n",
              "    <tr>\n",
              "      <th>16856</th>\n",
              "      <td>2016</td>\n",
              "      <td>1</td>\n",
              "      <td>3</td>\n",
              "      <td>2016-01-03</td>\n",
              "      <td>F9</td>\n",
              "      <td>N211FR</td>\n",
              "      <td>1248</td>\n",
              "      <td>SFO</td>\n",
              "      <td>ORD</td>\n",
              "      <td>1245.0</td>\n",
              "      <td>1341.0</td>\n",
              "      <td>1900.0</td>\n",
              "      <td>1959.0</td>\n",
              "    </tr>\n",
              "    <tr>\n",
              "      <th>16857</th>\n",
              "      <td>2016</td>\n",
              "      <td>1</td>\n",
              "      <td>3</td>\n",
              "      <td>2016-01-03</td>\n",
              "      <td>F9</td>\n",
              "      <td>N232FR</td>\n",
              "      <td>654</td>\n",
              "      <td>SFO</td>\n",
              "      <td>DEN</td>\n",
              "      <td>1130.0</td>\n",
              "      <td>1244.0</td>\n",
              "      <td>1505.0</td>\n",
              "      <td>1613.0</td>\n",
              "    </tr>\n",
              "    <tr>\n",
              "      <th>16858</th>\n",
              "      <td>2016</td>\n",
              "      <td>1</td>\n",
              "      <td>3</td>\n",
              "      <td>2016-01-03</td>\n",
              "      <td>F9</td>\n",
              "      <td>N910FR</td>\n",
              "      <td>662</td>\n",
              "      <td>SFO</td>\n",
              "      <td>DEN</td>\n",
              "      <td>1740.0</td>\n",
              "      <td>2056.0</td>\n",
              "      <td>2116.0</td>\n",
              "      <td>22.0</td>\n",
              "    </tr>\n",
              "    <tr>\n",
              "      <th>16859</th>\n",
              "      <td>2016</td>\n",
              "      <td>1</td>\n",
              "      <td>3</td>\n",
              "      <td>2016-01-03</td>\n",
              "      <td>F9</td>\n",
              "      <td>N921FR</td>\n",
              "      <td>668</td>\n",
              "      <td>SFO</td>\n",
              "      <td>DEN</td>\n",
              "      <td>2000.0</td>\n",
              "      <td>2249.0</td>\n",
              "      <td>2330.0</td>\n",
              "      <td>226.0</td>\n",
              "    </tr>\n",
              "    <tr>\n",
              "      <th>16860</th>\n",
              "      <td>2016</td>\n",
              "      <td>1</td>\n",
              "      <td>3</td>\n",
              "      <td>2016-01-03</td>\n",
              "      <td>F9</td>\n",
              "      <td>N921FR</td>\n",
              "      <td>1360</td>\n",
              "      <td>SFO</td>\n",
              "      <td>PHX</td>\n",
              "      <td>1430.0</td>\n",
              "      <td>1647.0</td>\n",
              "      <td>1727.0</td>\n",
              "      <td>1937.0</td>\n",
              "    </tr>\n",
              "  </tbody>\n",
              "</table>\n",
              "<p>3013 rows × 13 columns</p>\n",
              "</div>"
            ],
            "text/plain": [
              "       year  month  day        date carrier tailnum  flight origin  \\\n",
              "15     2016      1   16  2016-01-16      AA  N3GAAA     208    SFO   \n",
              "19     2016      1   20  2016-01-20      AA  N3BBAA     208    SFO   \n",
              "22     2016      1   23  2016-01-23      AA  N3BBAA     208    SFO   \n",
              "35     2016      1    6  2016-01-06      AA  N3FPAA     209    SFO   \n",
              "39     2016      1   10  2016-01-10      AA  N3CAAA     209    SFO   \n",
              "...     ...    ...  ...         ...     ...     ...     ...    ...   \n",
              "16856  2016      1    3  2016-01-03      F9  N211FR    1248    SFO   \n",
              "16857  2016      1    3  2016-01-03      F9  N232FR     654    SFO   \n",
              "16858  2016      1    3  2016-01-03      F9  N910FR     662    SFO   \n",
              "16859  2016      1    3  2016-01-03      F9  N921FR     668    SFO   \n",
              "16860  2016      1    3  2016-01-03      F9  N921FR    1360    SFO   \n",
              "\n",
              "      destination  sched_dep_time  actual_dep_time  sched_arr_time  \\\n",
              "15            MIA           640.0            723.0          1458.0   \n",
              "19            MIA           640.0            726.0          1458.0   \n",
              "22            MIA           640.0            901.0          1458.0   \n",
              "35            LAX          2035.0           2105.0          2208.0   \n",
              "39            LAX          2035.0           2116.0          2208.0   \n",
              "...           ...             ...              ...             ...   \n",
              "16856         ORD          1245.0           1341.0          1900.0   \n",
              "16857         DEN          1130.0           1244.0          1505.0   \n",
              "16858         DEN          1740.0           2056.0          2116.0   \n",
              "16859         DEN          2000.0           2249.0          2330.0   \n",
              "16860         PHX          1430.0           1647.0          1727.0   \n",
              "\n",
              "       actual_arr_time  \n",
              "15              1534.0  \n",
              "19              1532.0  \n",
              "22              1749.0  \n",
              "35              2257.0  \n",
              "39              2238.0  \n",
              "...                ...  \n",
              "16856           1959.0  \n",
              "16857           1613.0  \n",
              "16858             22.0  \n",
              "16859            226.0  \n",
              "16860           1937.0  \n",
              "\n",
              "[3013 rows x 13 columns]"
            ]
          },
          "execution_count": 883,
          "metadata": {},
          "output_type": "execute_result"
        }
      ],
      "source": [
        "#flights delayed more than 20mins\n",
        "# Code here\n",
        "delayed20 = flights[delay > 20] # Series object showing delay time\n",
        "delayed20"
      ]
    },
    {
      "cell_type": "markdown",
      "metadata": {
        "id": "KpDFyr-0Op7o"
      },
      "source": [
        "#### Question 1.4 **(5%)**\n",
        "\n",
        "Using your answer from question 1.3, find the full name of every destination city with a flight from SFO or OAK that was delayed by 60 or more minutes.  The airport codes used in `flights` are IATA codes.  Sort the cities alphabetically. Make sure you remove duplicates. (You may find `drop_duplicates` and `sort_values` helpful.)"
      ]
    },
    {
      "cell_type": "code",
      "execution_count": 884,
      "metadata": {
        "colab": {
          "base_uri": "https://localhost:8080/",
          "height": 35
        },
        "id": "cZov-unnOp7o",
        "outputId": "6a38c0e9-452a-40ff-c14f-531b84440639"
      },
      "outputs": [
        {
          "data": {
            "text/plain": [
              "0     Albuquerque\n",
              "1       Anchorage\n",
              "2       Arcata CA\n",
              "3           Aspen\n",
              "4         Atlanta\n",
              "         ...     \n",
              "65        Seattle\n",
              "66        Spokane\n",
              "67      St. Louis\n",
              "68         Tucson\n",
              "69     Washington\n",
              "Name: city, Length: 70, dtype: object"
            ]
          },
          "execution_count": 884,
          "metadata": {},
          "output_type": "execute_result"
        }
      ],
      "source": [
        "# Complete code here to receive credit.\n",
        "# HINT: You will need to use `delay` and `airport` dataframes\n",
        "# [YOUR CODE HERE]\n",
        "delayed_flights = flights[\n",
        "    (flights[\"origin\"].isin([\"SFO\", \"OAK\"])) & \n",
        "    (delay >= 60)\n",
        "]\n",
        "delayed_destinations_iata = delayed_flights[\"destination\"].drop_duplicates()\n",
        "delayed_airports = airports[airports[\"iata\"].isin(delayed_destinations_iata)] # Dataframe showing airports that satisfy above conditions\n",
        "delayed_destinations = delayed_airports['city'].drop_duplicates().sort_values().reset_index(drop=True)\n",
        " # Unique and sorted destination cities\n",
        "delayed_destinations"
      ]
    },
    {
      "cell_type": "markdown",
      "metadata": {
        "id": "w1sqSrolOp7o"
      },
      "source": [
        "## Part 2: Web scraping and data collection (50%)"
      ]
    },
    {
      "cell_type": "markdown",
      "metadata": {
        "id": "2AXyQmTWOp7o"
      },
      "source": [
        "### Note and Setup"
      ]
    },
    {
      "cell_type": "markdown",
      "metadata": {
        "id": "a0hnPgsrOp7o"
      },
      "source": [
        "Here, you will practice collecting and processing data in Python. By the end of this exercise hopefully you should look at the wonderful world wide web without fear, comforted by the fact that anything you can see with your human eyes, a computer can see with its computer eyes. In particular, we aim to give you some familiarity with:\n",
        "\n",
        "* Using HTTP to fetch the content of a website\n",
        "* HTTP Requests (and lifecycle)\n",
        "* RESTful APIs\n",
        "    * Authentication (OAuth)\n",
        "    * Pagination\n",
        "    * Rate limiting\n",
        "* JSON vs. HTML (and how to parse each)\n",
        "* HTML traversal (CSS selectors)\n",
        "\n",
        "Since everyone loves food (presumably), the ultimate end goal of this homework will be to acquire the data to answer some questions and hypotheses about the restaurant scene in Chicago (which we will get to later). We will download __both__ the metadata on restaurants in Chicago from the Yelp API and with this metadata, retrieve the comments/reviews and ratings from users on restaurants.\n",
        "\n",
        "**Library Documentation:**\n",
        "\n",
        "For solving this part, you need to look up online documentation for the Python packages you will use:\n",
        "\n",
        "* Standard Library:\n",
        "    * [io](https://docs.python.org/3/library/io.html)\n",
        "    * [time](https://docs.python.org/3/library/time.html)\n",
        "    * [json](https://docs.python.org/3/library/json.html)\n",
        "\n",
        "* Third Party\n",
        "    * [requests](https://requests.readthedocs.io/en/latest/)\n",
        "    * [Beautiful Soup (version 4)](https://www.crummy.com/software/BeautifulSoup/bs4/doc/)\n",
        "    * [yelp-fusion](https://docs.developer.yelp.com/docs/fusion-intro)\n",
        "\n",
        "**Note:** You may come across a `yelp-python` library online. The library is deprecated and incompatible with the current Yelp API, so do not use the library."
      ]
    },
    {
      "cell_type": "markdown",
      "metadata": {
        "id": "PdWZ6rndOp7p"
      },
      "source": []
    },
    {
      "cell_type": "markdown",
      "metadata": {
        "id": "qZkZ0Wo2Op7p"
      },
      "source": [
        "First, import necessary libraries:"
      ]
    },
    {
      "cell_type": "code",
      "execution_count": 885,
      "metadata": {
        "id": "R3_wo4lHOp7p"
      },
      "outputs": [],
      "source": [
        "import io, time, json\n",
        "import requests\n",
        "from bs4 import BeautifulSoup"
      ]
    },
    {
      "cell_type": "markdown",
      "metadata": {
        "id": "e_kWtJSsOp7p"
      },
      "source": [
        "### Authentication and working with APIs"
      ]
    },
    {
      "cell_type": "markdown",
      "metadata": {
        "id": "5yhn4fkJOp7p"
      },
      "source": [
        "\n",
        "\n",
        "There are various authentication schemes that APIs use, listed here in relative order of complexity:\n",
        "\n",
        "* No authentication\n",
        "* [HTTP basic authentication](https://en.wikipedia.org/wiki/Basic_access_authentication)\n",
        "* Cookie based user login\n",
        "* OAuth (v1.0 & v2.0, see this [post](http://stackoverflow.com/questions/4113934/how-is-oauth-2-different-from-oauth-1) explaining the differences)\n",
        "* API keys\n",
        "* Custom Authentication\n",
        "\n",
        "For the NYT example below (**Q2.1**), since it is a publicly visible page we did not need to authenticate. HTTP basic authentication isn't too common for consumer sites/applications that have the concept of user accounts (like Facebook, LinkedIn, Twitter, etc.) but is simple to setup quickly and you often encounter it on with individual password protected pages/sites.\n",
        "\n",
        "Cookie based user login is what the majority of services use when you login with a browser (i.e. username and password). Once you sign in to a service like Facebook, the response stores a cookie in your browser to remember that you have logged in (HTTP is stateless). Each subsequent request to the same domain (i.e. any page on `facebook.com`) also sends the cookie that contains the authentication information to remind Facebook's servers that you have already logged in.\n",
        "\n",
        "Many REST APIs however use OAuth (authentication using tokens) which can be thought of a programmatic way to \"login\" _another_ user. Using tokens, a user (or application) only needs to send the login credentials once in the initial authentication and as a response from the server gets a special signed token. This signed token is then sent in future requests to the server (in place of the user credentials).\n",
        "\n",
        "A similar concept common used by many APIs is to assign API Keys to each client that needs access to server resources. The client must then pass the API Key along with _every_ request it makes to the API to authenticate. This is because the server is typically relatively stateless and does not maintain a session between subsequent calls from the same client. Most APIs (including Yelp) allow you to pass the API Key via a special HTTP Header: `Authorization: Bearer <API_KEY>`. Check out the [docs](https://docs.developer.yelp.com/docs/fusion-authentication) for more information."
      ]
    },
    {
      "cell_type": "markdown",
      "metadata": {
        "id": "y-PeNOVnOp7q"
      },
      "source": [
        "### Question 2.1: Basic HTTP Requests w/o authentication **(5%)**"
      ]
    },
    {
      "cell_type": "markdown",
      "metadata": {
        "id": "K5oDXLwJOp7q"
      },
      "source": [
        "First, let's do the \"hello world\" of making web requests with Python to get a sense for how to programmatically access web pages: an (unauthenticated) HTTP GET to download a web page.\n",
        "\n",
        "Fill in the funtion to use `requests` to download and return the raw HTML content of the URL passed in as an argument. As an example try the following NYT article (on Youtube's algorithmic recommendation): [https://www.nytimes.com/2019/03/29/technology/youtube-online-extremism.html](https://www.nytimes.com/2019/03/29/technology/youtube-online-extremism.html)\n",
        "\n",
        "Your function should return a tuple of: (`<status_code>`, `<text>`). (Hint: look at the **Library documentation** listed earlier to see how `requests` should work.)"
      ]
    },
    {
      "cell_type": "code",
      "execution_count": 886,
      "metadata": {
        "id": "ew3yuQz9Op7q"
      },
      "outputs": [],
      "source": [
        "def retrieve_html(url):\n",
        "    \"\"\"\n",
        "    Return the raw HTML at the specified URL.\n",
        "\n",
        "    Args:\n",
        "        url (string):\n",
        "\n",
        "    Returns:\n",
        "        status_code (integer):\n",
        "        raw_html (string): the raw HTML content of the response, properly encoded according to the HTTP headers.\n",
        "    \"\"\"\n",
        "\n",
        "    # [YOUR CODE HERE]\n",
        "    r = requests.get(url)\n",
        "    status_code = r.status_code\n",
        "    text = r.text\n",
        "\n",
        "    return status_code, text"
      ]
    },
    {
      "cell_type": "code",
      "execution_count": 901,
      "metadata": {
        "id": "sGsT4PEHOp7q"
      },
      "outputs": [],
      "source": [
        "%%capture\n",
        "#  test your function here to receive credit\n",
        "test = retrieve_html('https://martinheinz.dev/blog/31')\n",
        "print(test)\n",
        "# (200, '<!DOCTYPE html>\\n<html > )"
      ]
    },
    {
      "cell_type": "markdown",
      "metadata": {
        "id": "jIKuR9zMOp7r"
      },
      "source": [
        "Now while this example might have been fun, we haven't yet done anything more than we could with a web browser. To really see the power of programmatically making web requests we will need to interact with an API. For the rest of this lab we will be working with the [Yelp API](https://docs.developer.yelp.com/docs/fusion-intro) and Yelp data (for an extensive data dump see their [Academic Dataset Challenge](https://business.yelp.com/data/resources/open-dataset/))."
      ]
    },
    {
      "cell_type": "markdown",
      "metadata": {
        "id": "VVPOlsawOp7r"
      },
      "source": [
        "### Yelp API Access"
      ]
    },
    {
      "cell_type": "markdown",
      "metadata": {
        "id": "XAgdwqZlOp7r"
      },
      "source": [
        "The reasons for using the Yelp API are 3 fold:\n",
        "\n",
        "1. Incredibly rich dataset that combines:\n",
        "    * entity data (users and businesses)\n",
        "    * preferences (i.e. ratings)\n",
        "    * geographic data (business location and check-ins)\n",
        "    * temporal data\n",
        "    * text in the form of reviews\n",
        "    * and even images.\n",
        "2. Well [documented API](https://docs.developer.yelp.com/docs/fusion-intro) with thorough examples.\n",
        "3. Extensive data coverage so that you can find data that you know personally (from your home town/city or account). This will help with understanding and interpreting your results.\n",
        "\n",
        "Yelp used to use OAuth tokens but has now switched to API Keys. **For the sake of backwards compatibility Yelp still provides a Client ID and Secret for OAuth, but you will not need those for this assignment.**\n",
        "\n",
        "To access the Yelp API, we will need to go through a few more steps than we did with the first NYT example. Most large web scale companies use a combination of authentication and rate limiting to control access to their data to ensure that everyone using it abides. The first step (even before we make any request) is to setup a Yelp account if you do not have one and get API credentials.\n",
        "\n",
        "1. Create a [Yelp](https://www.yelp.com/login) account (if you do not have one already)\n",
        "2. [Generate API keys](https://docs.developer.yelp.com/docs/fusion-authentication) (if you haven't already). You will only need the API Key (not the Client ID or Client Secret) -- more on that later.\n",
        "\n",
        "Now that we have our accounts setup we can start making requests!\n"
      ]
    },
    {
      "cell_type": "markdown",
      "metadata": {
        "id": "kAbtXXEnOp7r"
      },
      "source": [
        "### Question 2.2: Authenticated HTTP Request with the Yelp API **(15%)**"
      ]
    },
    {
      "cell_type": "markdown",
      "metadata": {
        "id": "zkrVU29lOp7r"
      },
      "source": [
        "\n",
        "\n",
        "First, store your Yelp credentials in a local file (kept out of version control) which you can read in to authenticate with the API. This file can be any format/structure since you will fill in the function stub below.\n",
        "\n",
        "For example, you may want to store your key in a file called `yelp_api_key.txt` (run in terminal):\n",
        "```bash\n",
        "echo 'YOUR_YELP_API_KEY' > yelp_api_key.txt\n",
        "```\n",
        "if you are using google colab: Run this in a cell:\n",
        "```bash\n",
        "!echo 'YOUR_YELP_API_KEY' > yelp_api_key.txt\n",
        "```\n",
        "\n",
        "**KEEP THE API KEY FILE PRIVATE AND OUT OF VERSION CONTROL (and definitely do not submit them to Gradescope!)**\n",
        "\n",
        "You can then read from the file using:"
      ]
    },
    {
      "cell_type": "code",
      "execution_count": 888,
      "metadata": {
        "id": "uHaxcZc3Op7r"
      },
      "outputs": [],
      "source": [
        "%%capture\n",
        "#using above to hide the output of cell, to keep authorization header safe.\n",
        "with open('yelp_api_key.txt', 'r') as f:\n",
        "    api_key = f.read().replace('\\n','')\n",
        "    print(api_key)\n",
        "    # verify your api_key is correct\n",
        "# DO NOT FORGET TO CLEAR THE OUTPUT TO KEEP YOUR API KEY PRIVATE"
      ]
    },
    {
      "cell_type": "code",
      "execution_count": 889,
      "metadata": {
        "id": "FdokIqqfOp7s"
      },
      "outputs": [],
      "source": [
        "def read_api_key(filepath):\n",
        "    \"\"\"\n",
        "    Read the Yelp API Key from file.\n",
        "\n",
        "    Args:\n",
        "        filepath (string): File containing API Key\n",
        "    Returns:\n",
        "        api_key (string): The API Key\n",
        "    \"\"\"\n",
        "\n",
        "    # feel free to modify this function if you are storing the API Key differently\n",
        "    with open(filepath, 'r') as f:\n",
        "        return f.read().replace('\\n','')"
      ]
    },
    {
      "cell_type": "markdown",
      "metadata": {
        "id": "DD1Eil7VOp7s"
      },
      "source": [
        "Using the Yelp API, fill in the following function stub to make an authenticated request to the [search](https://docs.developer.yelp.com/reference/v3_business_search) endpoint. Remember Yelp allows you to pass the API Key via a special HTTP Header: `Authorization: Bearer <API_KEY>`. Check out the [docs](https://docs.developer.yelp.com/docs/fusion-authentication) for more information."
      ]
    },
    {
      "cell_type": "code",
      "execution_count": 890,
      "metadata": {
        "id": "UxROtrgSOp7s"
      },
      "outputs": [],
      "source": [
        "def location_search_params(api_key, location, **kwargs):\n",
        "    \"\"\"\n",
        "    Construct url, headers and url_params. Reference API docs (link above) to use the arguments\n",
        "    \"\"\"\n",
        "    # [YOUR CODE HERE]    \n",
        "    # What is the url endpoint for search?\n",
        "\n",
        "    url = 'https://api.yelp.com/v3/businesses/search'\n",
        "    # How is Authentication performed?\n",
        "    headers = {\"accept\": \"application/json\", \"Authorization\": f\"Bearer {api_key}\"}\n",
        "    # SPACES in url is problematic. How should you handle location containing spaces?\n",
        "    # I can use strip to remove leading and tailing spaces.\n",
        "    url_params = {\"location\":location}\n",
        "    # Include keyword arguments in url_params\n",
        "    url_params = url_params | kwargs\n",
        "    # print(url_params)\n",
        "\n",
        "    return url, headers, url_params\n"
      ]
    },
    {
      "cell_type": "markdown",
      "metadata": {
        "id": "1tMF8BoFOp7s"
      },
      "source": [
        "Hint: `**kwargs` represent keyword arguments that are passed to the function. For example, if you called the function `location_search_params(api_key, location, offset=0, limit=50)`. The arguments `api_key` and `location` are called *positional arguments* and key-value pair arguments are called **keyword arguments**. Your `kwargs` variable will be a python dictionary with those keyword arguments."
      ]
    },
    {
      "cell_type": "code",
      "execution_count": 891,
      "metadata": {
        "id": "S35pV3yTOp7s"
      },
      "outputs": [
        {
          "data": {
            "text/plain": [
              "('https://api.yelp.com/v3/businesses/search',\n",
              " {'accept': 'application/json', 'Authorization': 'Bearer test_api_key_xyz'},\n",
              " {'location': 'Chicago', 'offset': 0, 'limit': 50})"
            ]
          },
          "execution_count": 891,
          "metadata": {},
          "output_type": "execute_result"
        }
      ],
      "source": [
        "# Test your code here to receive credit.\n",
        "api_key = \"test_api_key_xyz\"\n",
        "location = \"Chicago\"\n",
        "url, headers, url_params = location_search_params(api_key, location, offset=0, limit=50)\n",
        "url, headers, url_params\n",
        "# ('https://<hidden_url_check_search_endpoint_docs_to_get_answer>',\n",
        "#  {'Authorization': 'Bearer test_api_key_xyz'},\n",
        "#  {'location': 'Chicago', 'offset': 0, 'limit': 50})"
      ]
    },
    {
      "cell_type": "markdown",
      "metadata": {
        "id": "kyDT0VCnOp7s"
      },
      "source": [
        "Now use `location_search_params(api_key, location, **kwargs)` to actually search restaurants from Yelp API. Most of the code is provided to you. Complete the `api_get_request` function given below."
      ]
    },
    {
      "cell_type": "code",
      "execution_count": 892,
      "metadata": {
        "id": "6Ap0_Hc6Op7t"
      },
      "outputs": [
        {
          "name": "stdout",
          "output_type": "stream",
          "text": [
            "11200\n",
            "20\n",
            "['Girl & The Goat', 'Au Cheval', 'The Purple Pig', 'Aba', 'Cafe Ba-Ba-Reeba!', 'Wildberry Pancakes and Cafe', 'Boka', 'Penumbra', 'Alinea', 'Trivoli Tavern', 'etta - Bucktown', \"Pequod's Pizza\", 'S.K.Y.', 'Rose Mary', \"Bavette's Bar & Boeuf\", 'The Dearborn', 'Prime & Provisions Steakhouse', 'Ema', 'Kasama', 'Bloom Plant Based Kitchen']\n"
          ]
        }
      ],
      "source": [
        "def api_get_request(url, headers, url_params):\n",
        "    \"\"\"\n",
        "    Send a HTTP GET request and return a json response\n",
        "\n",
        "    Args:\n",
        "        url (string): API endpoint url\n",
        "        headers (dict): A python dictionary containing HTTP headers including Authentication to be sent\n",
        "        url_params (dict): The parameters (required and optional) supported by endpoint\n",
        "\n",
        "    Returns:\n",
        "        results (json): response as json\n",
        "    \"\"\"\n",
        "    http_method = 'GET'\n",
        "    # See requests.request?\n",
        "    # [YOUR CODE HERE]\n",
        "    response = requests.get(url, headers=headers, params=url_params)\n",
        "    return response.json()\n",
        "\n",
        "\n",
        "def yelp_search(api_key, location, offset=0):\n",
        "    \"\"\"\n",
        "    Make an authenticated request to the Yelp API.\n",
        "\n",
        "    Args:\n",
        "        api_key (string): Your Yelp API Key for Authentication\n",
        "        location (string): Business Location\n",
        "        offset (int): param for pagination\n",
        "\n",
        "    Returns:\n",
        "        total (integer): total number of businesses on Yelp corresponding to the location\n",
        "        businesses (list): list of dicts representing each business\n",
        "    \"\"\"\n",
        "    url, headers, url_params = location_search_params(api_key, location, offset=0)\n",
        "    response_json = api_get_request(url, headers, url_params)\n",
        "    return response_json[\"total\"], list(response_json[\"businesses\"])\n",
        "\n",
        "# test your code here to receive credit\n",
        "# [YOUR CODE HERE]\n",
        "api_key = read_api_key(\"yelp_api_key.txt\")\n",
        "num_records, data = yelp_search(api_key, 'Chicago')\n",
        "print(num_records)\n",
        "#9000\n",
        "print(len(data))\n",
        "#20\n",
        "print(list(map(lambda x: x['name'], data)))\n",
        "#['Girl & The Goat', 'Wildberry Pancakes and Cafe', 'Au Cheval', 'The Purple Pig', \"Lou Malnati's Pizzeria\", 'Art Institute of Chicago', \"Bavette's Bar & Boeuf\", 'Cafe Ba-Ba-Reeba!', 'Smoque BBQ', 'Little Goat Diner', \"Pequod's Pizzeria\", 'Alinea', 'Quartino Ristorante', \"Kuma's Corner - Belmont\", \"Joe's Seafood, Prime Steak & Stone Crab\", 'Crisp', \"Portillo's Hot Dogs\", 'Sapori Trattoria', 'Xoco', \"Molly's Cupcakes\"]"
      ]
    },
    {
      "cell_type": "markdown",
      "metadata": {
        "id": "jN_ee4ruOp7t"
      },
      "source": [
        "### Parameterization and Pagination"
      ]
    },
    {
      "cell_type": "markdown",
      "metadata": {
        "id": "xdo_wAeYOp7t"
      },
      "source": [
        "Now that we have completed the \"hello world\" of working with the Yelp API, we are ready to really fly! The rest of the exercise will have a bit less direction since there are a variety of ways to retrieve the requested information but you should have all the component knowledge at this point to work with the API. Yelp being a fairly general platform actually has many more business than just restaurants, but by using the flexibility of the API we can ask it to only return the restaurants.\n",
        "\n",
        "\n",
        "\n",
        "And before we can get any reviews on restaurants, we need to actually get the metadata on ALL of the restaurants in Chicago. Notice above that while Yelp told us that there are ~240, the response contained fewer actual `Business` objects. This is due to pagination and is a safeguard against returning __TOO__ much data in a single request (what would happen if there were 100,000 restaurants?) and can be used in conjuction with _rate limiting_ as well as a way to throttle and protect access to Yelp data.\n",
        "\n",
        "> As a thought exercise, consider: If an API has 1,000,000 records, but only returns 10 records per page and limits you to 5 requests per second... how long will it take to acquire ALL of the records contained in the API?\n",
        "\n",
        "One of the ways that APIs are an improvement over plain web scraping is the ability to make __parameterized__ requests. Just like the Python functions you have been writing have arguments (or parameters) that allow you to customize its behavior/actions (an output) without having to rewrite the function entirely, we can parameterize the queries we make to the Yelp API to filter the results it returns."
      ]
    },
    {
      "cell_type": "markdown",
      "metadata": {
        "id": "BWUwj7koOp7t"
      },
      "source": [
        "### Question 2.3: Acquire all of the restaurants in Chicago on Yelp **(10%)**"
      ]
    },
    {
      "cell_type": "markdown",
      "metadata": {
        "id": "8MN67OHJOp7t"
      },
      "source": [
        "\n",
        "\n",
        "Again using the [API documentation](https://docs.developer.yelp.com/reference/v3_business_search) for the `search` endpoint, fill in the following function to retrieve all of the _Restuarants_ (using categories) for a given query. Again you should use your `read_api_key()` function outside of the `all_restaurants()` stub to read the API Key used for the requests. You will need to account for __pagination__ and __[rate limiting](https://docs.developer.yelp.com/docs/fusion-faq)__ to:\n",
        "\n",
        "1. Retrieve all of the Business objects (# of business objects should equal `total` in the response). **Paginate by querying 10 restaurants each request.**\n",
        "2. Pause slightly (at least 200 milliseconds) between subsequent requests so as to not overwhelm the API (and get blocked).  \n",
        "\n",
        "As always with API access, make sure you follow all of the [API's policies](https://www.yelp.com/developers/api_terms) and use the API responsibly and respectfully.\n",
        "\n",
        "**DO NOT MAKE TOO MANY REQUESTS TOO QUICKLY OR YOUR KEY MAY BE BLOCKED**"
      ]
    },
    {
      "cell_type": "code",
      "execution_count": 893,
      "metadata": {
        "id": "_vvKCS0XOp7t"
      },
      "outputs": [
        {
          "data": {
            "text/plain": [
              "[('https://api.yelp.com/v3/businesses/search',\n",
              "  {'accept': 'application/json', 'Authorization': 'Bearer XXX...'},\n",
              "  {'location': 'Chicago',\n",
              "   'offset': 0,\n",
              "   'limit': 10,\n",
              "   'categories': 'restaurants'}),\n",
              " ('https://api.yelp.com/v3/businesses/search',\n",
              "  {'accept': 'application/json', 'Authorization': 'Bearer XXX...'},\n",
              "  {'location': 'Chicago',\n",
              "   'offset': 10,\n",
              "   'limit': 10,\n",
              "   'categories': 'restaurants'})]"
            ]
          },
          "execution_count": 893,
          "metadata": {},
          "output_type": "execute_result"
        }
      ],
      "source": [
        "import math\n",
        "\n",
        "def paginated_restaurant_search_requests(api_key, location, total):\n",
        "    \"\"\"\n",
        "    Returns a list of tuples (url, headers, url_params) for paginated search of all restaurants\n",
        "    Args:\n",
        "        api_key (string): Your Yelp API Key for Authentication\n",
        "        location (string): Business Location\n",
        "        total (int): Total number of items to be fetched\n",
        "    Returns:\n",
        "        results (list): list of tuple (url, headers, url_params)\n",
        "    \"\"\"\n",
        "    # HINT: Use total, offset and limit for pagination\n",
        "    # You can reuse function location_search_params(...)\n",
        "    # [YOUR CODE HERE]\n",
        "    limit = 10\n",
        "    offset = 0\n",
        "    requestList = []\n",
        "    while total >offset:\n",
        "        url, headers, url_params = location_search_params(\n",
        "            api_key, location, \n",
        "            offset=offset, \n",
        "            limit=limit,\n",
        "            categories='restaurants'\n",
        "            )\n",
        "        requestList.append((url, headers, url_params))\n",
        "        offset += limit\n",
        "        \n",
        "    return requestList\n",
        "\n",
        "\n",
        "# Test your code here to receive credit.\n",
        "api_key = read_api_key(\"yelp_api_key.txt\")\n",
        "location = \"Chicago\"\n",
        "all_restaurants_requests = paginated_restaurant_search_requests(api_key, location, 15)\n",
        "\n",
        "#hiding the authorization header\n",
        "\n",
        "[\n",
        "    (url, {**headers, \"Authorization\": \"Bearer XXX...\"}, params)\n",
        "    for url, headers, params in all_restaurants_requests\n",
        "]\n",
        "\n",
        "# [('https:<hidden>',\n",
        "#   {'Authorization': 'Bearer test_api_key_xyz'},\n",
        "#   {'location': 'Chicago',\n",
        "#    'offset': 0,\n",
        "#    'limit': 10,\n",
        "#    'categories': '<hidden>'}),\n",
        "#  ('https:<hidden>',\n",
        "#   {'Authorization': 'Bearer test_api_key_xyz'},\n",
        "#   {'location': 'Chicago',\n",
        "#    'offset': 10,\n",
        "#    'limit': 10,\n",
        "#    'categories': '<hidden>'})]"
      ]
    },
    {
      "cell_type": "code",
      "execution_count": 894,
      "metadata": {
        "id": "T66ixejxOp7u"
      },
      "outputs": [],
      "source": [
        "from time import sleep\n",
        "def all_restaurants(api_key, location):\n",
        "    \"\"\"\n",
        "    Construct the pagination requests for ALL the restaurants on Yelp for a given location.\n",
        "\n",
        "    Args:\n",
        "        api_key (string): Your Yelp API Key for Authentication\n",
        "        location (string): Business Location\n",
        "\n",
        "    Returns:\n",
        "        results (list): list of dicts representing each restaurant\n",
        "    \"\"\"\n",
        "    # What keyword arguments should you pass to get first page of restaurants in Yelp\n",
        "    url, headers, url_params = location_search_params(api_key, location, offset=0, limit=10)\n",
        "    #\n",
        "    response_json = api_get_request(url, headers, url_params)\n",
        "    # for \n",
        "    total_items = response_json[\"total\"]\n",
        "\n",
        "    all_restaurants_request = paginated_restaurant_search_requests(api_key, location, total_items)\n",
        "     # Use returned list of (url, headers, url_params) and function api_get_request to retrive all restaurants\n",
        "    # REMEMBER to pause slightly after each request.\n",
        "    # [YOUR CODE HERE]\n",
        "    #print(total_items)\n",
        "\n",
        "      # List to store all restaurants\n",
        "    respList = []\n",
        "\n",
        "    # Iterate through all paginated requests and collect the restaurants\n",
        "    for url, headers, query_params in all_restaurants_request:\n",
        "        resp = api_get_request(url, headers, query_params)\n",
        "        respList.extend(resp['businesses'])\n",
        "        # respList.append(resp)\n",
        "        # sleep function to sleep for 200ms after each request\n",
        "        sleep(0.2)    \n",
        "\n",
        "    return respList\n",
        "    "
      ]
    },
    {
      "cell_type": "markdown",
      "metadata": {
        "id": "1op9HIZtOp7u"
      },
      "source": [
        "You can test your function with an individual neighborhood in Chicago (for example, Greektown). Chicago itself has a lot of restaurants... meaning it will take a lot of time to download them all."
      ]
    },
    {
      "cell_type": "code",
      "execution_count": 895,
      "metadata": {
        "id": "4qVB5qrlOp7u"
      },
      "outputs": [
        {
          "name": "stdout",
          "output_type": "stream",
          "text": [
            "115\n",
            "['Greek Islands Restaurant', 'Athena Greek Restaurant', 'Monteverde', 'CityBird', 'Green Street Smoked Meats', 'Trivoli Tavern', 'Xi’an Cuisine', 'Rye Deli & Drink', 'El Che Steakhouse & Bar', 'Zeus Restaurant', 'Meli Cafe & Juice Bar', \"Formento's\", 'Sepia', 'Viaggio Ristorante & Lounge', 'Green Street Local', 'Tamashii Ramen', 'SUSHI DOKKU Japanese Restaurant', \"Nancy's Pizza Chicago West Loop\", 'The Allis', 'High Five Ramen', 'Suenos x Soho House', 'Primos Chicago Pizza', 'Booze Box', 'Spectrum Bar and Grill', '9 Muses', 'Swadesi Cafe', 'TenGoku Aburiya', 'Omakase Yume', 'J.P. Graziano Grocery', 'Lola’s Restaurant & Bar', \"Nando's Peri-Peri\", 'Tamu', \"Lou Mitchell's\", 'Mr Greek Gyros', 'Slightly Toasted', 'SGD Dubu So Gong Dong Tofu & Korean BBQ', 'Parlor Pizza Bar', 'Jubilee Juice & Grill', 'Ciao! Cafe & Wine Lounge', \"Giordano's\", 'Taco Burrito King - Greektown', \"Philly's Best\", \"Nonna's Pizza & Sandwiches\", 'Blaze Pizza', 'Taco Lulú', 'Yolk West Loop', 'Tacombi', 'Xi’an Cuisine - West Loop', 'Sushi Pink', 'Beggars Pizza', 'Stelios Bottles & Bites', \"Wok N' Bao\", 'Morgan Street Cafe', 'Dylans Tavern & Grill', 'Asadito', 'Prince St Pizza', \"Jet's Pizza\", 'Naf Naf Grill', 'K-Kitchen', 'I Dream of Falafel', 'Metro Spice Mart', \"Sang's Kitchen\", 'Subway', 'Crepe & Bean', 'Izakaya Yume', 'Klay Oven Kitchen', \"Jimmy John's\", 'Oki Sushi', \"Domino's Pizza\", 'Chipotle Mexican Grill', 'Five Guys', 'Red Star Bar', 'Potbelly Sandwich Shop', \"Mac's Deli\", 'Bonyeon', 'Taco Bell Cantina', 'Potbelly Sandwich Shop', 'Benchmark', \"Sam's Crispy Chicken - West Loop\", 'Hunan House', \"Jimmy John's\", 'Great Steak', \"Harold's Chicken On Clinton\", 'Burger King', 'Barrel Cafe', \"Byrd's Hot Chicken\", 'Dosbros Fresh Mexican Grill', 'Market Creations - Adams', 'Green Room', 'Start Sampling', 'Chopstix Express', 'Market Cocina', 'G L I Food Service', 'Cafe Italo', 'Pizza Villa & Cafe', 'Toreore', 'this little goat kitchen', 'West Loop Sandwich', \"Uncle Tommy's BBQ\", 'In a Bun', 'EL FOCO TACOS', 'Burger King', 'Marche', 'Kikka Sushi', 'Subway', 'Chopped Salad Bar', 'Kabob City', 'Wing Run', 'Spaketeria', 'Le Peep Grill', \"Popeye's Famous Fried Chicken\", 'Halsted Street Deli', 'Chi Town Sandwich', 'Flik International', 'Sweet Corner']\n"
          ]
        }
      ],
      "source": [
        "# test your function here to receive credit.\n",
        "api_key = read_api_key('yelp_api_key.txt')\n",
        "data = all_restaurants(api_key, 'Greektown, Chicago, IL')\n",
        "print(len(data))\n",
        "# 92\n",
        "print(list(map(lambda x:x['name'], data)))\n",
        "# ['Greek Islands Restaurant', 'Artopolis', 'Meli Cafe & Juice Bar', 'Athena Greek Restaurant', 'WJ Noodles', ...]"
      ]
    },
    {
      "cell_type": "markdown",
      "metadata": {
        "id": "cyi_BCOJOp7u"
      },
      "source": [
        "Now that we have the metadata on all of the restaurants in Greektown (or at least the ones listed on Yelp), we can retrieve the reviews and ratings. The Yelp API gives us aggregate information on ratings but it doesn't give us the review text or individual users' ratings for a restaurant. For that we need to turn to web scraping, but to find out what pages to scrape we first need to parse our JSON from the API to extract the URLs of the restaurants.\n",
        "\n",
        "In general, it is a best practice to separate the act of __downloading__ data and __parsing__ data. This ensures that your data processing pipeline is modular and extensible (and autogradable ;). This decoupling also solves the problem of expensive downloading but cheap parsing (in terms of computation and time)."
      ]
    },
    {
      "cell_type": "markdown",
      "metadata": {
        "id": "a3VtTaqaOp7v"
      },
      "source": [
        "\n",
        "### Question 2.4: Parse the API Responses and Extract the URLs **(5%)**"
      ]
    },
    {
      "cell_type": "markdown",
      "metadata": {
        "id": "fp6RygetOp7y"
      },
      "source": [
        "\n",
        "\n",
        "\n",
        "Because we want to separate the __downloading__ from the __parsing__, fill in the following function to parse the URLs pointing to the restaurants on `yelp.com`. As input your function should expect a string of [properly formatted JSON](http://www.json.org/) (which is similar to __BUT__ not the same as a Python dictionary) and as output should return a Python list of strings. Hint: print your `data` to see the JSON-formatted information you have. The input JSON will be structured as follows :\n",
        "\n",
        "```json\n",
        "{\n",
        "  \"total\": 8228,\n",
        "  \"businesses\": [\n",
        "    {\n",
        "      \"rating\": 4,\n",
        "      \"price\": \"$\",\n",
        "      \"phone\": \"+14152520800\",\n",
        "      \"id\": \"four-barrel-coffee-san-francisco\",\n",
        "      \"is_closed\": false,\n",
        "      \"categories\": [\n",
        "        {\n",
        "          \"alias\": \"coffee\",\n",
        "          \"title\": \"Coffee & Tea\"\n",
        "        }\n",
        "      ],\n",
        "      \"review_count\": 1738,\n",
        "      \"name\": \"Four Barrel Coffee\",\n",
        "      \"url\": \"https://www.yelp.com/biz/four-barrel-coffee-san-francisco\",\n",
        "      \"coordinates\": {\n",
        "        \"latitude\": 37.7670169511878,\n",
        "        \"longitude\": -122.42184275\n",
        "      },\n",
        "      \"image_url\": \"http://s3-media2.fl.yelpcdn.com/bphoto/MmgtASP3l_t4tPCL1iAsCg/o.jpg\",\n",
        "      \"location\": {\n",
        "        \"city\": \"San Francisco\",\n",
        "        \"country\": \"US\",\n",
        "        \"address2\": \"\",\n",
        "        \"address3\": \"\",\n",
        "        \"state\": \"CA\",\n",
        "        \"address1\": \"375 Valencia St\",\n",
        "        \"zip_code\": \"94103\"\n",
        "      },\n",
        "      \"distance\": 1604.23,\n",
        "      \"transactions\": [\"pickup\", \"delivery\"]\n",
        "    }\n",
        "  ],\n",
        "  \"region\": {\n",
        "    \"center\": {\n",
        "      \"latitude\": 37.767413217936834,\n",
        "      \"longitude\": -122.42820739746094\n",
        "    }\n",
        "  }\n",
        "}\n",
        "```"
      ]
    },
    {
      "cell_type": "code",
      "execution_count": 896,
      "metadata": {
        "id": "717vOSHHOp7z"
      },
      "outputs": [
        {
          "data": {
            "text/plain": [
              "['https://www.yelp.com/biz/the-duck-inn-chicago?adjust_creative=WAZPdgnxPaRrs6C9blIDVg&utm_campaign=yelp_api_v3&utm_medium=api_v3_business_search&utm_source=WAZPdgnxPaRrs6C9blIDVg',\n",
              " 'https://www.yelp.com/biz/francos-ristorante-chicago?adjust_creative=WAZPdgnxPaRrs6C9blIDVg&utm_campaign=yelp_api_v3&utm_medium=api_v3_business_search&utm_source=WAZPdgnxPaRrs6C9blIDVg',\n",
              " 'https://www.yelp.com/biz/kimski-chicago?adjust_creative=WAZPdgnxPaRrs6C9blIDVg&utm_campaign=yelp_api_v3&utm_medium=api_v3_business_search&utm_source=WAZPdgnxPaRrs6C9blIDVg',\n",
              " 'https://www.yelp.com/biz/shinya-ramen-house-chicago-3?adjust_creative=WAZPdgnxPaRrs6C9blIDVg&utm_campaign=yelp_api_v3&utm_medium=api_v3_business_search&utm_source=WAZPdgnxPaRrs6C9blIDVg',\n",
              " 'https://www.yelp.com/biz/happy-lamb-hot-pot-bridgeport-chicago?adjust_creative=WAZPdgnxPaRrs6C9blIDVg&utm_campaign=yelp_api_v3&utm_medium=api_v3_business_search&utm_source=WAZPdgnxPaRrs6C9blIDVg',\n",
              " 'https://www.yelp.com/biz/taipei-cafe-chicago?adjust_creative=WAZPdgnxPaRrs6C9blIDVg&utm_campaign=yelp_api_v3&utm_medium=api_v3_business_search&utm_source=WAZPdgnxPaRrs6C9blIDVg',\n",
              " 'https://www.yelp.com/biz/mins-noodle-house-%E6%B8%94%E5%AE%B6%E9%87%8D%E5%BA%86%E5%B0%8F%E9%9D%A2-chicago-32?adjust_creative=WAZPdgnxPaRrs6C9blIDVg&utm_campaign=yelp_api_v3&utm_medium=api_v3_business_search&utm_source=WAZPdgnxPaRrs6C9blIDVg',\n",
              " 'https://www.yelp.com/biz/han-202-chicago?adjust_creative=WAZPdgnxPaRrs6C9blIDVg&utm_campaign=yelp_api_v3&utm_medium=api_v3_business_search&utm_source=WAZPdgnxPaRrs6C9blIDVg',\n",
              " 'https://www.yelp.com/biz/stix-n-brix-pizza-cafe-chicago-2?adjust_creative=WAZPdgnxPaRrs6C9blIDVg&utm_campaign=yelp_api_v3&utm_medium=api_v3_business_search&utm_source=WAZPdgnxPaRrs6C9blIDVg',\n",
              " 'https://www.yelp.com/biz/antique-taco-chicago-7?adjust_creative=WAZPdgnxPaRrs6C9blIDVg&utm_campaign=yelp_api_v3&utm_medium=api_v3_business_search&utm_source=WAZPdgnxPaRrs6C9blIDVg',\n",
              " 'https://www.yelp.com/biz/greek-prime-kitchen-and-bar-chicago?adjust_creative=WAZPdgnxPaRrs6C9blIDVg&utm_campaign=yelp_api_v3&utm_medium=api_v3_business_search&utm_source=WAZPdgnxPaRrs6C9blIDVg',\n",
              " 'https://www.yelp.com/biz/el-taco-azteca-bridgeport-chicago-2?adjust_creative=WAZPdgnxPaRrs6C9blIDVg&utm_campaign=yelp_api_v3&utm_medium=api_v3_business_search&utm_source=WAZPdgnxPaRrs6C9blIDVg',\n",
              " 'https://www.yelp.com/biz/s-k-y-chicago-5?adjust_creative=WAZPdgnxPaRrs6C9blIDVg&utm_campaign=yelp_api_v3&utm_medium=api_v3_business_search&utm_source=WAZPdgnxPaRrs6C9blIDVg',\n",
              " 'https://www.yelp.com/biz/pleasant-house-pub-chicago-3?adjust_creative=WAZPdgnxPaRrs6C9blIDVg&utm_campaign=yelp_api_v3&utm_medium=api_v3_business_search&utm_source=WAZPdgnxPaRrs6C9blIDVg',\n",
              " 'https://www.yelp.com/biz/qing-xiang-yuan-dumplings-chicago-3?adjust_creative=WAZPdgnxPaRrs6C9blIDVg&utm_campaign=yelp_api_v3&utm_medium=api_v3_business_search&utm_source=WAZPdgnxPaRrs6C9blIDVg',\n",
              " 'https://www.yelp.com/biz/bad-owl-coffee-roasters-chicago?adjust_creative=WAZPdgnxPaRrs6C9blIDVg&utm_campaign=yelp_api_v3&utm_medium=api_v3_business_search&utm_source=WAZPdgnxPaRrs6C9blIDVg',\n",
              " 'https://www.yelp.com/biz/zaytune-mediterranean-grill-chicago-4?adjust_creative=WAZPdgnxPaRrs6C9blIDVg&utm_campaign=yelp_api_v3&utm_medium=api_v3_business_search&utm_source=WAZPdgnxPaRrs6C9blIDVg',\n",
              " 'https://www.yelp.com/biz/qiao-lin-hotpot-chicago-chinatown-chicago?adjust_creative=WAZPdgnxPaRrs6C9blIDVg&utm_campaign=yelp_api_v3&utm_medium=api_v3_business_search&utm_source=WAZPdgnxPaRrs6C9blIDVg',\n",
              " 'https://www.yelp.com/biz/jackalope-coffee-and-tea-house-chicago?adjust_creative=WAZPdgnxPaRrs6C9blIDVg&utm_campaign=yelp_api_v3&utm_medium=api_v3_business_search&utm_source=WAZPdgnxPaRrs6C9blIDVg',\n",
              " 'https://www.yelp.com/biz/el-ideas-chicago-2?adjust_creative=WAZPdgnxPaRrs6C9blIDVg&utm_campaign=yelp_api_v3&utm_medium=api_v3_business_search&utm_source=WAZPdgnxPaRrs6C9blIDVg']"
            ]
          },
          "execution_count": 896,
          "metadata": {},
          "output_type": "execute_result"
        }
      ],
      "source": [
        "def parse_api_response(data):\n",
        "    \"\"\"\n",
        "    Parse Yelp API results to extract restaurant URLs.\n",
        "\n",
        "    Args:\n",
        "        data (string): String of properly formatted JSON.\n",
        "\n",
        "    Returns:\n",
        "        (list): list of URLs as strings from the input JSON.\n",
        "    \"\"\"\n",
        "\n",
        "    # [YOUR CODE HERE]\n",
        "    formattedUrls = []\n",
        "    \n",
        "    for rest in data[\"businesses\"]:\n",
        "        formattedUrls.append(rest['url'])\n",
        "    \n",
        "    return formattedUrls\n",
        "\n",
        "\n",
        "# test your code here to receive credit\n",
        "url, headers, url_params = location_search_params(api_key, \"Bridgeport, Chicago, IL\", offset=0)\n",
        "response_text = api_get_request(url, headers, url_params)\n",
        "parse_api_response(response_text)\n",
        "# ['https://www.yelp.com/biz/nana-chicago?adjust_creative=ioqEYAcUhZO272qCIvxcVA&utm_campaign=yelp_api_v3&utm_medium=api_v3_business_search&utm_source=ioqEYAcUhZO272qCIvxcVA',\n",
        "#  'https://www.yelp.com/biz/bridgeport-coffee-chicago-4?adjust_creative=ioqEYAcUhZO272qCIvxcVA&utm_campaign=yelp_api_v3&utm_medium=api_v3_business_search&utm_source=ioqEYAcUhZO272qCIvxcVA',\n",
        "# ...]\n"
      ]
    },
    {
      "cell_type": "markdown",
      "metadata": {
        "id": "Wf_JIjeUOp7z"
      },
      "source": [
        "As we can see, JSON is quite trivial to parse (which is not the case with HTML as we will see in a second) and work with programmatically. This is why it is one of the most ubiquitous data serialization formats (especially for ReSTful APIs) and a huge benefit of working with a well defined API if one exists. But APIs do not always exists or provide the data we might need, and as a last resort we can always scrape web pages..."
      ]
    },
    {
      "cell_type": "markdown",
      "metadata": {
        "id": "wUufOxjCOp7z"
      },
      "source": [
        "### Working with Web Pages (and HTML)"
      ]
    },
    {
      "cell_type": "markdown",
      "metadata": {
        "id": "poD1suX9Op70"
      },
      "source": [
        "Think of APIs as similar to accessing an application's database itself (something you can interactively query and receive structured data back). But the results are usually in a somewhat raw form with no formatting or visual representation (like the results from a database query). This is a benefit _AND_ a drawback depending on the end use case. For data science and _programatic_ analysis this raw form is quite ideal, but for an end user requesting information from a _graphical interface_ (like a web browser) this is very far from ideal since it takes some cognitive overhead to interpret the raw information. And vice versa, if we have HTML it is quite easy for a human to visually interpret it, but to try to perform some type of programmatic analysis we first need to parse the HTML into a more structured form.\n",
        "\n",
        "> As a general rule of thumb, if the data you need can be accessed or retrieved in a structured form (either from a bulk download or API) prefer that first. But if the data you want (and need) is not as in our case we need to resort to alternative (messier) means.\n",
        "\n",
        "Going back to the \"hello world\" example of question 2.1 with the NYT, we will do something similar to retrieve the HTML of the Yelp site itself (rather than going through the API programmatically) as text.\n",
        "> However, we will use saved HTML pages to reduce excessive traffic to the Yelp website."
      ]
    },
    {
      "cell_type": "markdown",
      "metadata": {
        "id": "aG1vFsi6Op70"
      },
      "source": [
        "### Question 2.5: Parse a Yelp restaurant Page **(10%)**"
      ]
    },
    {
      "cell_type": "markdown",
      "metadata": {
        "id": "0WP0spn8Op70"
      },
      "source": [
        "Using `BeautifulSoup`, parse the HTML of a single Yelp restaurant page to extract the reviews in a structured form as well as the URL to the next page of reviews (or `None` if it is the last page). Fill in following function stubs to parse a single page of reviews and return:\n",
        "* the reviews as a structured Python dictionary\n",
        "* the HTML element containing the link/url for the next page of reviews (or None).\n",
        "\n",
        "For each review be sure to structure your Python dictionary as follows (to be graded correctly). The order of the keys doesn't matter, only the keys and the data type of the values:\n",
        "\n",
        "```python\n",
        "{\n",
        "    'author': str\n",
        "    'rating': float\n",
        "    'date': str ('yyyy-mm-dd')\n",
        "    'description': str\n",
        "}\n",
        "\n",
        "{\n",
        "    'author': 'Topsy Kretts'\n",
        "    'rating': 4.7\n",
        "    'date': '2016-01-23'\n",
        "    'description': \"Wonderful!\"\n",
        "}\n",
        "```\n",
        "\n",
        "There can be issues with Beautiful Soup using various parsers, for maximum compatibility (and fewest errors) initialize the library with the default (and Python standard library parser): `BeautifulSoup(markup, \"html.parser\")`.\n",
        "\n",
        "Most of the function has been provided to you:"
      ]
    },
    {
      "cell_type": "code",
      "execution_count": 897,
      "metadata": {
        "id": "_8tGqNVgOp70"
      },
      "outputs": [
        {
          "name": "stdout",
          "output_type": "stream",
          "text": [
            "20\n",
            "https://www.yelp.com/biz/the-jibarito-stop-chicago-2?start=245\n"
          ]
        }
      ],
      "source": [
        "url_lookup = {\n",
        "\"https://www.yelp.com/biz/the-jibarito-stop-chicago-2?start=225\":\"parse_page_test1.html\",\n",
        "\"https://www.yelp.com/biz/the-jibarito-stop-chicago-2?start=245\":\"parse_page_test2.html\"\n",
        "}\n",
        "\n",
        "\n",
        "def html_fetcher(url):\n",
        "    \"\"\"\n",
        "    Return the raw HTML at the specified URL.\n",
        "    Args:\n",
        "        url (string):\n",
        "\n",
        "    Returns:\n",
        "        status_code (integer):\n",
        "        raw_html (string): the raw HTML content of the response, properly encoded according to the HTTP headers.\n",
        "    \"\"\"\n",
        "    html_file = url_lookup.get(url)\n",
        "    with open(html_file, 'rb') as file:\n",
        "        html_text = file.read()\n",
        "        return 200, html_text\n",
        "\n",
        "\n",
        "def parse_page(html):\n",
        "    \"\"\"\n",
        "    Parse the reviews on a single page of a restaurant.\n",
        "\n",
        "    Args:\n",
        "        html (string): String of HTML corresponding to a Yelp restaurant\n",
        "\n",
        "    Returns:\n",
        "        tuple(list, string): a tuple of two elements\n",
        "            first element: list of dictionaries corresponding to the extracted review information\n",
        "            second element: URL for the next page of reviews (or None if it is the last page)\n",
        "    \"\"\"\n",
        "    soup = BeautifulSoup(html,'html.parser')\n",
        "    url_next = soup.find('link',rel='next')\n",
        "    if url_next:\n",
        "        url_next = url_next.get('href')\n",
        "    else:\n",
        "        url_next = None\n",
        "\n",
        "    reviews = soup.find_all('div', itemprop=\"review\")\n",
        "    reviews_list = []\n",
        "    # review_containers = soup.find_all('div', itemprop=\"review\")\n",
        "    # HINT: print reviews to see what http tag to extract\n",
        "    # [YOUR CODE HERE]\n",
        "    for review in reviews:\n",
        "        reviewer_name = review.find('meta', itemprop ='author')['content']\n",
        "        rating = review.find('meta', itemprop ='ratingValue')['content']\n",
        "        date_posted = review.find('meta', itemprop ='datePublished')['content']\n",
        "        description = review.find('p', itemprop='description').text.strip()\n",
        "\n",
        "        reviews_list.append({\n",
        "            'reviewer': reviewer_name,\n",
        "            'rating': float(rating),\n",
        "            'date': date_posted,\n",
        "            'review_text': description\n",
        "        })\n",
        "\n",
        "    return reviews_list, url_next\n",
        "    # return reviews_list, url_next\n",
        "\n",
        "\n",
        "# Test your implementation here to receive credit.\n",
        "code, html = html_fetcher(\"https://www.yelp.com/biz/the-jibarito-stop-chicago-2?start=225\")\n",
        "reviews_list, url_next = parse_page(html)\n",
        "print(len(reviews_list)) # 20\n",
        "print(url_next) #https://www.yelp.com/biz/the-jibarito-stop-chicago-2?start=245"
      ]
    },
    {
      "cell_type": "markdown",
      "metadata": {
        "id": "ZG9bueg9Op71"
      },
      "source": [
        "### Question 2.6: Extract all Yelp reviews for a Single Restaurant **(5%)**"
      ]
    },
    {
      "cell_type": "markdown",
      "metadata": {
        "id": "fGbCCAvJOp71"
      },
      "source": [
        "\n",
        "\n",
        "So now that we have parsed a single page, and figured out a method to go from one page to the next we are ready to combine these two techniques and actually crawl through web pages!\n",
        "\n",
        "Using the provided `html_fetcher` (for a real use-case you would use `requests`), programmatically retrieve __ALL__ of the reviews for a __single__ restaurant (provided as a parameter). Just like the API was paginated, the HTML paginates its reviews (it would be a very long web page to show 300 reviews on a single page) and to get all the reviews you will need to parse and traverse the HTML. As input your function will receive a URL corresponding to a Yelp restaurant. As output return a list of dictionaries (structured the same as question 2.5) containing the relevant information from the reviews. You can use `parse_page()` here."
      ]
    },
    {
      "cell_type": "code",
      "execution_count": 898,
      "metadata": {
        "id": "C8i3Rj2eOp71"
      },
      "outputs": [],
      "source": [
        "def extract_reviews(url, html_fetcher):\n",
        "    \"\"\"\n",
        "    Retrieve ALL of the reviews for a single restaurant on Yelp.\n",
        "\n",
        "    Parameters:\n",
        "        url (string): Yelp URL corresponding to the restaurant of interest.\n",
        "        html_fetcher (function): A function that takes url and returns html status code and content\n",
        "\n",
        "    Returns:\n",
        "        reviews (list): list of dictionaries containing extracted review information\n",
        "    \"\"\"\n",
        "    review_list = []\n",
        "\n",
        "    while url:\n",
        "        status, html_text = html_fetcher(url)\n",
        "        reviews = []\n",
        "        # [YOUR CODE HERE]\n",
        "        # HINT: Use function `parse_page(html)` multiple times until no next page exists\n",
        "        reviews, next_url = parse_page(html_text)    \n",
        "        url = next_url\n",
        "        review_list.extend(reviews)\n",
        "\n",
        "    return review_list"
      ]
    },
    {
      "cell_type": "markdown",
      "metadata": {
        "id": "6uxeoq-YOp71"
      },
      "source": [
        "You can test your function with this code:"
      ]
    },
    {
      "cell_type": "code",
      "execution_count": 899,
      "metadata": {
        "colab": {
          "base_uri": "https://localhost:8080/"
        },
        "id": "zqUTkMr1Op72",
        "outputId": "2d3d41f4-9065-45c5-93f3-f4082b9fdd6a"
      },
      "outputs": [
        {
          "name": "stdout",
          "output_type": "stream",
          "text": [
            "35\n",
            "{'reviewer': 'Jason S.', 'rating': 5.0, 'date': '2016-05-02', 'review_text': \"This was one of my favorite food trucks but as of last fall they've opened a brick and mortar restaurant in the Pilsen neighborhood...the perfect success story of how a person can start out with a food truck and grow their business into a restaurant. The food is always delicious and the service is great!\"}\n"
          ]
        }
      ],
      "source": [
        "# test your function here to receive credit.\n",
        "data = extract_reviews('https://www.yelp.com/biz/the-jibarito-stop-chicago-2?start=225', html_fetcher=html_fetcher)\n",
        "print(len(data))\n",
        "# 35\n",
        "print(data[0])\n",
        "\n",
        "# {'author': 'Jason S.', 'rating': 5.0, 'date': '2016-05-02', 'description': \"This was one of my favorite food trucks ...\"}\n"
      ]
    },
    {
      "cell_type": "markdown",
      "metadata": {
        "collapsed": true,
        "id": "hqm7ELg9Op72"
      },
      "source": [
        "## Submission\n",
        "\n",
        "You're almost done!\n",
        "\n",
        "After executing all commands and completing this notebook, export/convert your *hw1.ipynb* as a **pdf** file and upload it to Gradescope under *Homework 1 (pdf)*. Make sure you check that your **pdf** file includes all parts of your solution **(including the outputs)**. Check `warmup.pdf` for an example of expected submission file. Also make sure to upload the **ipynb** file with output visible in the cells to the *Homework 1 (code)* section."
      ]
    },
    {
      "cell_type": "markdown",
      "metadata": {
        "id": "o-9qwbAOOp72"
      },
      "source": [
        "Again, please make sure your submitted file is a **pdf** file or it will not be graded."
      ]
    },
    {
      "cell_type": "code",
      "execution_count": null,
      "metadata": {},
      "outputs": [],
      "source": []
    }
  ],
  "metadata": {
    "colab": {
      "provenance": []
    },
    "kernelspec": {
      "display_name": "Python 3",
      "language": "python",
      "name": "python3"
    },
    "language_info": {
      "codemirror_mode": {
        "name": "ipython",
        "version": 3
      },
      "file_extension": ".py",
      "mimetype": "text/x-python",
      "name": "python",
      "nbconvert_exporter": "python",
      "pygments_lexer": "ipython3",
      "version": "3.11.0"
    }
  },
  "nbformat": 4,
  "nbformat_minor": 0
}
