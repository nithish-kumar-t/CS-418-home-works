{
 "cells": [
  {
   "cell_type": "markdown",
   "metadata": {},
   "source": [
    "# Homework 1\n",
    "UIC CS 418, Spring 2025\n",
    "\n",
    "_According to the **Academic Integrity Policy** of this course, all work submitted for grading must be done individually, unless otherwise specified. While we encourage you to talk to your peers and learn from them, this interaction must be superficial with regards to all work submitted for grading. This means you cannot work in teams, you cannot work side-by-side, you cannot submit someone else’s work (partial or complete) as your own. In particular, note that you are guilty of academic dishonesty if you extend or receive any kind of unauthorized assistance. Absolutely no transfer of program code between students is permitted (paper or electronic), and you may not solicit code from family, friends, or online forums. Other examples of academic dishonesty include emailing your program to another student, copying-pasting code from the internet, working in a group on a homework assignment, and allowing a tutor, TA, or another individual to write an answer for you. Academic dishonesty is unacceptable, and penalties range from failure to expulsion from the university; cases are handled via the official student conduct process described at https://dos.uic.edu/conductforstudents.shtml._\n",
    "\n",
    "_Authorship effort on any submitted work must be accurately documented. Artificial Intelligence tools like **ChatGPT** represent a new paradigm in academic learning. Their use is permitted for this assignment but should be used with caution. These systems often make mistakes and are best used when incorporated with user knowledge and experience, so try to actually learn the material in order to use these tools effectively. The main ideas and authorship of submitted work should be yours and the help must be clearly documented. At the end of this assignment, you are asked to write a \"Use of AI tools statement.\" You may want to look at the format of this statement **before** you start working on the homework, in order to understand what docomentation you are expected to provide._\n",
    "\n",
    "This homework is an **individual assignment for all graduate students**. **Undergraduate students are allowed to work in pairs and submit one homework assignment per pair**. There will be no extra credit given to undergraduate students who choose to work alone. The pairs of students who choose to work together and submit one homework assignment together still need to abide by the Academic Integrity Policy and not share or receive help from others (except each other).\n",
    "\n",
    "There are two parts in this homework. In the first one you will practice data processing with `pandas` (45%). In the second one you will practice web scraping and data collection (50%). You will also be given 5% for explaining whether and how you used AI tools.\n",
    "\n",
    "## Due Date\n",
    "\n",
    "This assignment is due at 11:59pm on February 6, 2025. All parts of the assignments are due at the same time. If any segment of the assignment is submitted late, the late submission policy applies for the whole assignment. Instructions on how to submit it to Gradescope are given at the end of the notebook and should be followed carefully.\n",
    "\n",
    "## Part 1 (45% of HW1): Data processing with pandas \n",
    "\n",
    "In this homework you will see examples of some commonly used data wrangling tools in Python. In particular, we aim to give you some familiarity with:\n",
    "\n",
    "* Slicing data frames\n",
    "* Filtering data\n",
    "* Grouped counts\n",
    "* Joining two tables\n",
    "* NA/Null values\n",
    "\n",
    "\n",
    "\n",
    "## Part 1: Practice (15%)\n",
    "\n",
    "This part of the homework is graded manually based on showing the correct outputs after executing each step.\n",
    "\n",
    "## Setup\n",
    "\n",
    "You need to execute each step (run each Cell), in order for the next ones to work. First, import necessary libraries:"
   ]
  },
  {
   "cell_type": "code",
   "execution_count": null,
   "metadata": {},
   "outputs": [],
   "source": [
    "import pandas as pd\n",
    "import numpy as np"
   ]
  },
  {
   "cell_type": "markdown",
   "metadata": {},
   "source": [
    "The code below produces the data frames used in the examples:"
   ]
  },
  {
   "cell_type": "code",
   "execution_count": null,
   "metadata": {},
   "outputs": [],
   "source": [
    "heroes = pd.DataFrame(\n",
    "    data={'color': ['red', 'green', 'black', \n",
    "                    'blue', 'black', 'red'],\n",
    "          'first_seen_on': ['a', 'a', 'f', 'a', 'a', 'f'],\n",
    "          'first_season': [2, 1, 2, 3, 3, 1]},\n",
    "    index=['flash', 'arrow', 'vibe', \n",
    "           'atom', 'canary', 'firestorm']\n",
    ")\n",
    "\n",
    "identities = pd.DataFrame(\n",
    "    data={'ego': ['barry allen', 'oliver queen', 'cisco ramon',\n",
    "                  'ray palmer', 'sara lance', \n",
    "                  'martin stein', 'ronnie raymond'],\n",
    "          'alter-ego': ['flash', 'arrow', 'vibe', 'atom',\n",
    "                        'canary', 'firestorm', 'firestorm']}\n",
    ")\n",
    "\n",
    "teams = pd.DataFrame(\n",
    "    data={'team': ['flash', 'arrow', 'flash', 'legends', \n",
    "                   'flash', 'legends', 'arrow'],\n",
    "          'hero': ['flash', 'arrow', 'vibe', 'atom', \n",
    "                   'killer frost', 'firestorm', 'speedy']})"
   ]
  },
  {
   "cell_type": "markdown",
   "metadata": {},
   "source": [
    "## Pandas and Wrangling\n",
    "\n",
    "For the examples that follow, we will be using a toy data set containing information about superheroes in the Arrowverse.  In the `first_seen_on` column, `a` stands for Archer and `f`, Flash."
   ]
  },
  {
   "cell_type": "code",
   "execution_count": null,
   "metadata": {},
   "outputs": [],
   "source": [
    "heroes"
   ]
  },
  {
   "cell_type": "code",
   "execution_count": null,
   "metadata": {},
   "outputs": [],
   "source": [
    "identities"
   ]
  },
  {
   "cell_type": "code",
   "execution_count": null,
   "metadata": {},
   "outputs": [],
   "source": [
    "teams"
   ]
  },
  {
   "cell_type": "markdown",
   "metadata": {},
   "source": [
    "### Slice and Dice\n",
    "\n",
    "#### Column selection by label\n",
    "To select a column of a `DataFrame` by column label, the safest and fastest way is to use the `.loc` method. General usage looks like `frame.loc[rowname,colname]`. (Reminder that the colon `:` means \"everything\").  For example, if we want the `color` column of the `heroes` data frame, we would use :"
   ]
  },
  {
   "cell_type": "code",
   "execution_count": null,
   "metadata": {},
   "outputs": [],
   "source": [
    "heroes.loc[:, 'color']"
   ]
  },
  {
   "cell_type": "markdown",
   "metadata": {},
   "source": [
    "Selecting multiple columns is easy. You just need to supply a list of column names. Here we select the color and value columns:"
   ]
  },
  {
   "cell_type": "code",
   "execution_count": null,
   "metadata": {},
   "outputs": [],
   "source": [
    "heroes.loc[:, ['color', 'first_season']]"
   ]
  },
  {
   "cell_type": "markdown",
   "metadata": {},
   "source": [
    "While .loc is invaluable when writing production code, it may be a little too verbose for interactive use. One recommended alternative is the [] method, which takes on the form frame['colname']."
   ]
  },
  {
   "cell_type": "code",
   "execution_count": null,
   "metadata": {},
   "outputs": [],
   "source": [
    "heroes['first_seen_on']"
   ]
  },
  {
   "cell_type": "markdown",
   "metadata": {},
   "source": [
    "#### Row Selection by Label\n",
    "\n",
    "Similarly, if we want to select a row by its label, we can use the same .loc method."
   ]
  },
  {
   "cell_type": "code",
   "execution_count": null,
   "metadata": {},
   "outputs": [],
   "source": [
    "heroes.loc[['flash', 'vibe'], :]"
   ]
  },
  {
   "cell_type": "markdown",
   "metadata": {},
   "source": [
    "If we want all the columns returned, we can, for brevity, drop the colon without issue."
   ]
  },
  {
   "cell_type": "code",
   "execution_count": null,
   "metadata": {},
   "outputs": [],
   "source": [
    "heroes.loc[['flash', 'vibe']]"
   ]
  },
  {
   "cell_type": "markdown",
   "metadata": {},
   "source": [
    "#### General Selection by Label\n",
    "\n",
    "More generally you can slice across both rows and columns at the same time.  For example:"
   ]
  },
  {
   "cell_type": "code",
   "execution_count": null,
   "metadata": {},
   "outputs": [],
   "source": [
    "heroes.loc['flash':'atom', :'first_seen_on']"
   ]
  },
  {
   "cell_type": "markdown",
   "metadata": {},
   "source": [
    "#### Selection by Integer Index\n",
    "\n",
    "If you want to select rows and columns by position, the Data Frame has an analogous `.iloc` method for integer indexing. Remember that Python indexing starts at 0."
   ]
  },
  {
   "cell_type": "code",
   "execution_count": null,
   "metadata": {},
   "outputs": [],
   "source": [
    "heroes.iloc[:4,:2]"
   ]
  },
  {
   "cell_type": "markdown",
   "metadata": {},
   "source": [
    "### Filtering with boolean arrays\n",
    "\n",
    "Filtering is the process of removing unwanted material.  In your quest for cleaner data, you will undoubtedly filter your data at some point: whether it be for clearing up cases with missing values, culling out fishy outliers, or analyzing subgroups of your data set.  For example, we may be interested in characters that debuted in season 3 of Archer.  Note that compound expressions have to be grouped with parentheses."
   ]
  },
  {
   "cell_type": "code",
   "execution_count": null,
   "metadata": {},
   "outputs": [],
   "source": [
    "heroes[(heroes['first_season']==3) & (heroes['first_seen_on']=='a')]"
   ]
  },
  {
   "cell_type": "markdown",
   "metadata": {},
   "source": [
    "#### Problem Solving Strategy\n",
    "We want to highlight the strategy for filtering to answer the question above:\n",
    "\n",
    "* **Identify the variables of interest**\n",
    "    * Interested in the debut: `first_season` and `first_seen_on`\n",
    "* **Translate the question into statements one with True/False answers**\n",
    "    * Did the hero debut on Archer? $\\rightarrow$ The hero has `first_seen_on` equal to `a`\n",
    "    * Did the hero debut in season 3? $\\rightarrow$ The hero has `first_season` equal to `3`\n",
    "* **Translate the statements into boolean statements**\n",
    "    * The hero has `first_seen_on` equal to `a` $\\rightarrow$ `hero['first_seen_on']=='a'`\n",
    "    * The hero has `first_season` equal to `3` $\\rightarrow$ `heroes['first_season']==3`\n",
    "* **Use the boolean array to filter the data**\n",
    "\n",
    "Note that compound expressions have to be grouped with parentheses.\n",
    "\n",
    "For your reference, some commonly used comparison operators are given below.\n",
    "\n",
    "Symbol | Usage      | Meaning \n",
    "------ | ---------- | -------------------------------------\n",
    "==   | a == b   | Does a equal b?\n",
    "<=   | a <= b   | Is a less than or equal to b?\n",
    "\\>=   | a >= b   | Is a greater than or equal to b?\n",
    "<    | a < b    | Is a less than b?\n",
    "&#62;    | a &#62; b    | Is a greater than b?\n",
    "~    | ~p       | Returns negation of p\n",
    "&#124; | p &#124; q | p OR q\n",
    "&    | p & q    | p AND q\n",
    "^  | p ^ q | p XOR q (exclusive or)\n",
    "\n",
    "Other often-used operations missing from the above table are test-of-membership.  The `Series.isin(values)` method returns a boolean array denoting whether each element of `Series` is in `values`. We can then use the array to subset our data frame. For example, if we wanted to see which rows of `heroes` had values in $\\{1,3\\}$, we would use:"
   ]
  },
  {
   "cell_type": "code",
   "execution_count": null,
   "metadata": {},
   "outputs": [],
   "source": [
    "heroes[heroes['first_season'].isin([1,3])]"
   ]
  },
  {
   "cell_type": "markdown",
   "metadata": {},
   "source": [
    "The `Series.between(left, right)` method returns a boolean array containing True wherever the corresponding Series element is between the boundary values left and right (inclusive unless specified otherwise). NA values are treated as False. It is the equivalent of applying the following expression `left <= series <= right`. This method can be used also with `string` types, comparing each instance alphanumerically. For example, if we wanted to see which rows of `heroes` had values between $1$ and $2$ inclusive, we would use:"
   ]
  },
  {
   "cell_type": "code",
   "execution_count": null,
   "metadata": {},
   "outputs": [],
   "source": [
    "heroes[heroes['first_season'].between(1,2)]"
   ]
  },
  {
   "cell_type": "markdown",
   "metadata": {},
   "source": [
    "Notice that in the examples above, the expression in the brackets evaluates to a boolean series.  The general strategy for filtering data frames, then, is to write an expression of the form `frame[logical statement]`."
   ]
  },
  {
   "cell_type": "markdown",
   "metadata": {},
   "source": [
    "### Counting Rows\n",
    "\n",
    "To count the number of instances of a value in a `Series`, we can use the `value_counts` method.  Below we count the number of instances of each color."
   ]
  },
  {
   "cell_type": "code",
   "execution_count": null,
   "metadata": {},
   "outputs": [],
   "source": [
    "heroes['color'].value_counts()"
   ]
  },
  {
   "cell_type": "markdown",
   "metadata": {},
   "source": [
    "A more sophisticated analysis might involve counting the number of instances a tuple appears.  Here we count $(color,value)$ tuples."
   ]
  },
  {
   "cell_type": "code",
   "execution_count": null,
   "metadata": {},
   "outputs": [],
   "source": [
    "heroes.groupby(['color', 'first_season']).size()"
   ]
  },
  {
   "cell_type": "markdown",
   "metadata": {},
   "source": [
    "This returns a series that has been multi-indexed.  We'll eschew this topic for now.  To get a data frame back, we'll use the `reset_index` method, which also allows us to simulataneously name the new column."
   ]
  },
  {
   "cell_type": "code",
   "execution_count": null,
   "metadata": {},
   "outputs": [],
   "source": [
    "heroes.groupby(['color', 'first_season']).size().reset_index(name='count')"
   ]
  },
  {
   "cell_type": "markdown",
   "metadata": {},
   "source": [
    "### Joining Tables on One Column\n",
    "\n",
    "Suppose we have another table that classifies superheroes into their respective teams.  Note that `canary` is not in this data set and that `killer frost` and `speedy` are additions that aren't in the original `heroes` set.\n",
    "\n",
    "For simplicity of the example, we'll convert the index of the `heroes` data frame into an explicit column called `hero`.  A careful examination of the [documentation](https://pandas.pydata.org/docs/reference/api/pandas.DataFrame.merge.html) will reveal that joining on a mixture of the index and columns is possible."
   ]
  },
  {
   "cell_type": "code",
   "execution_count": null,
   "metadata": {},
   "outputs": [],
   "source": [
    "heroes['hero'] = heroes.index\n",
    "heroes"
   ]
  },
  {
   "cell_type": "markdown",
   "metadata": {},
   "source": [
    "#### Inner Join\n",
    "\n",
    "The inner join below returns rows representing the heroes that appear in both data frames."
   ]
  },
  {
   "cell_type": "code",
   "execution_count": null,
   "metadata": {},
   "outputs": [],
   "source": [
    "pd.merge(heroes, teams, how='inner', on='hero')"
   ]
  },
  {
   "cell_type": "markdown",
   "metadata": {},
   "source": [
    "#### Left and right join\n",
    "The left join returns rows representing heroes in the `heroes` (\"left\") data frame, augmented by information found in the `teams` data frame.  Its counterpart, the right join, would return heroes in the `teams` data frame.  Note that the `team` for hero `canary` is an `NaN` value, representing missing data."
   ]
  },
  {
   "cell_type": "code",
   "execution_count": null,
   "metadata": {},
   "outputs": [],
   "source": [
    "pd.merge(heroes, teams, how='left', on='hero')"
   ]
  },
  {
   "cell_type": "markdown",
   "metadata": {},
   "source": [
    "#### Outer join\n",
    "\n",
    "An outer join on `hero` will return all heroes found in both the left and right data frames.  Any missing values are filled in with `NaN`."
   ]
  },
  {
   "cell_type": "code",
   "execution_count": null,
   "metadata": {},
   "outputs": [],
   "source": [
    "pd.merge(heroes, teams, how='outer', on='hero')"
   ]
  },
  {
   "cell_type": "markdown",
   "metadata": {},
   "source": [
    "#### More than one match?\n",
    "\n",
    "If the values in the columns to be matched don't uniquely identify a row, then a cartesian product is formed in the merge.  For example, notice that `firestorm` has two different egos, so information from `heroes` had to be duplicated in the merge, once for each ego."
   ]
  },
  {
   "cell_type": "code",
   "execution_count": null,
   "metadata": {},
   "outputs": [],
   "source": [
    "pd.merge(heroes, identities, how='inner', \n",
    "         left_on='hero', right_on='alter-ego')"
   ]
  },
  {
   "cell_type": "markdown",
   "metadata": {},
   "source": [
    "### Missing Values\n",
    "\n",
    "There are a multitude of reasons why a data set might have missing values.  The current implementation of Pandas uses the numpy NaN to represent these null values (older implementations even used `-inf` and `inf`).  Future versions of Pandas might implement a true `null` value---keep your eyes peeled for this in updates!  More information can be found [here](http://pandas.pydata.org/pandas-docs/stable/user_guide/missing_data.html).\n",
    "\n",
    "Because of the specialness of missing values, they merit their own set of tools.  Here, we will focus on detection.  For replacement, see the docs."
   ]
  },
  {
   "cell_type": "code",
   "execution_count": null,
   "metadata": {},
   "outputs": [],
   "source": [
    "x = np.nan\n",
    "y = pd.merge(heroes, teams, how='outer', on='hero')['first_season']\n",
    "y"
   ]
  },
  {
   "cell_type": "markdown",
   "metadata": {},
   "source": [
    "To check if a value is null, we use the `isnull()` method for series and data frames.  Alternatively, there is a `pd.isnull()` function as well."
   ]
  },
  {
   "cell_type": "code",
   "execution_count": null,
   "metadata": {},
   "outputs": [],
   "source": [
    "x.isnull() # won't work since x is neither a series nor a data frame"
   ]
  },
  {
   "cell_type": "code",
   "execution_count": null,
   "metadata": {},
   "outputs": [],
   "source": [
    "pd.isnull(x)"
   ]
  },
  {
   "cell_type": "code",
   "execution_count": null,
   "metadata": {},
   "outputs": [],
   "source": [
    "y.isnull()"
   ]
  },
  {
   "cell_type": "code",
   "execution_count": null,
   "metadata": {},
   "outputs": [],
   "source": [
    "pd.isnull(y)"
   ]
  },
  {
   "cell_type": "markdown",
   "metadata": {},
   "source": [
    "Since filtering out missing data is such a common operation, Pandas also has conveniently included the analogous `notnull()` methods and function for improved human readability."
   ]
  },
  {
   "cell_type": "code",
   "execution_count": null,
   "metadata": {},
   "outputs": [],
   "source": [
    "y.notnull()"
   ]
  },
  {
   "cell_type": "code",
   "execution_count": null,
   "metadata": {},
   "outputs": [],
   "source": [
    "y[y.notnull()]"
   ]
  },
  {
   "cell_type": "markdown",
   "metadata": {},
   "source": [
    "## Part 1: Questions (30%)\n",
    "\n",
    "The practice problems below use the department of transportation's \"On-Time\" flight data for all flights originating from SFO or OAK in January 2016. Information about the airports and airlines are contained in the comma-delimited files `airports.dat` and `flights.dat`, respectively.  Both were sourced from http://openflights.org/data.\n",
    "\n",
    "Disclaimer: There is a more direct way of dealing with time data that is not presented in these problems.  This activity is merely an academic exercise."
   ]
  },
  {
   "cell_type": "code",
   "execution_count": null,
   "metadata": {},
   "outputs": [],
   "source": [
    "flights = pd.read_csv(\"flights.dat\", dtype={'sched_dep_time': 'f8', 'sched_arr_time': 'f8'})\n",
    "# show the first few rows, by default 5\n",
    "flights.head() "
   ]
  },
  {
   "cell_type": "code",
   "execution_count": null,
   "metadata": {},
   "outputs": [],
   "source": [
    "airports_cols = [\n",
    "    'openflights_id',\n",
    "    'name',\n",
    "    'city',\n",
    "    'country',\n",
    "    'iata',\n",
    "    'icao',\n",
    "    'latitude',\n",
    "    'longitude',\n",
    "    'altitude',\n",
    "    'tz',\n",
    "    'dst',\n",
    "    'tz_olson',\n",
    "    'type',\n",
    "    'airport_dsource'\n",
    "]\n",
    "\n",
    "airports = pd.read_csv(\"airports.dat\", names=airports_cols)\n",
    "airports.head(3)"
   ]
  },
  {
   "cell_type": "markdown",
   "metadata": {},
   "source": [
    "### Question 1.1 (12% credit)\n",
    "It looks like the departure and arrival in `flights` were read in as floating-point numbers.  Write two functions, `extract_hour` and `extract_mins` that converts military time to hours and minutes, respectively. Hint: You may want to use modular arithmetic and integer division. Keep in mind that the data has not been cleaned and you need to check whether the extracted values are valid. Replace all the invalid values with `NaN`. The documentation for `pandas.Series.where` provided [here](https://pandas.pydata.org/pandas-docs/stable/reference/api/pandas.Series.where.html) should be helpful."
   ]
  },
  {
   "cell_type": "code",
   "execution_count": null,
   "metadata": {},
   "outputs": [],
   "source": [
    "# 5% credit\n",
    "def extract_hour(time):\n",
    "    \"\"\"\n",
    "    Extracts hour information from military time.\n",
    "    \n",
    "    Args: \n",
    "        time (float64): series of time given in military format.  \n",
    "          Takes on values in 0.0-2359.0 due to float64 representation.\n",
    "    \n",
    "    Returns:\n",
    "        array (float64): series of input dimension with hour information.  \n",
    "          Should only take on integer values in 0-23\n",
    "    \"\"\"\n",
    "    [YOUR CODE HERE]\n"
   ]
  },
  {
   "cell_type": "code",
   "execution_count": null,
   "metadata": {},
   "outputs": [],
   "source": [
    "# 1% credit\n",
    "### write code to test your extract_hour function here and execute it\n",
    "# HINT: See tests_sample_part1/tests.py\n",
    "[YOUR CODE HERE]"
   ]
  },
  {
   "cell_type": "code",
   "execution_count": null,
   "metadata": {},
   "outputs": [],
   "source": [
    "# 5% credit\n",
    "def extract_mins(time):\n",
    "    \"\"\"\n",
    "    Extracts minute information from military time\n",
    "    \n",
    "    Args: \n",
    "        time (float64): series of time given in military format.  \n",
    "          Takes on values in 0.0-2359.0 due to float64 representation.\n",
    "    \n",
    "    Returns:\n",
    "        array (float64): series of input dimension with minute information.  \n",
    "          Should only take on integer values in 0-59\n",
    "    \"\"\"\n",
    "    [YOUR CODE HERE]\n",
    "    "
   ]
  },
  {
   "cell_type": "code",
   "execution_count": null,
   "metadata": {},
   "outputs": [],
   "source": [
    "# 1% credit\n",
    "### write code to test your extract_mins function here and execute it\n",
    "# HINT: See tests_sample_part1/tests.py\n",
    "[YOUR CODE HERE]"
   ]
  },
  {
   "cell_type": "markdown",
   "metadata": {},
   "source": [
    "### Question 1.2 (13% credit)\n",
    "\n",
    "Using your two functions above, filter the `flights` data for flights with a flight duration of less than 2 hours by comparing `actual_dep_time` and `actual_arr_time`.  You need not worry about flights that arrived the next day for this question."
   ]
  },
  {
   "cell_type": "code",
   "execution_count": null,
   "metadata": {},
   "outputs": [],
   "source": [
    "# 5% credit\n",
    "def convert_to_minofday(time):\n",
    "    \"\"\"\n",
    "    Converts military time to minute of day\n",
    "    \n",
    "    Args:\n",
    "        time (float64): series of time given in military format.  \n",
    "          Takes on values in 0.0-2359.0 due to float64 representation.\n",
    "    \n",
    "    Returns:\n",
    "        array (float64): series of input dimension with minute of day\n",
    "    \n",
    "    Example: 1:03pm is converted to 783.0\n",
    "    \"\"\"\n",
    "    [YOUR CODE HERE]\n",
    "    \n",
    "    \n",
    "# Test your code\n",
    "ser = pd.Series([1303, 1200, 2400], dtype='float64')\n",
    "convert_to_minofday(ser)\n",
    "# 0    783.0\n",
    "# 1    720.0\n",
    "# 2      NaN\n",
    "# dtype: float64"
   ]
  },
  {
   "cell_type": "code",
   "execution_count": null,
   "metadata": {},
   "outputs": [],
   "source": [
    "# 5% credit\n",
    "def calc_time_diff(x, y):\n",
    "    \"\"\"\n",
    "    Calculates flight times y - x\n",
    "    \n",
    "    Args:\n",
    "        x (float64): series of scheduled time given in military format.  \n",
    "          Takes on values in 0.0-2359.0 due to float64 representation.\n",
    "        y (float64): series of same dimensions giving actual time\n",
    "    \n",
    "    Returns:\n",
    "        array (float64): series of input dimension with flight duration time\n",
    "    \"\"\"\n",
    "    \n",
    "    arrival = [YOUR CODE HERE]\n",
    "    departure = [YOUR CODE HERE]\n",
    "    \n",
    "    [YOUR CODE HERE]\n",
    "    \n",
    "#Test your code\n",
    "dep = pd.Series([1303, 1210], dtype='float64')\n",
    "arr = pd.Series([1704, 1315], dtype='float64')\n",
    "calc_time_diff(dep, arr)\n",
    "# 0    241.0\n",
    "# 1    65.0\n",
    "# dtype: float64"
   ]
  },
  {
   "cell_type": "code",
   "execution_count": null,
   "metadata": {},
   "outputs": [],
   "source": [
    "# 3% credit\n",
    "### write code to test your functions here by calculating delay between `actual_dep_time` and `actual_arr_time`. \n",
    "### your printed results should show the values of the following two variables\n",
    "[YOUR CODE HERE]\n",
    "duration = ... # Series object showing flight duration time\n",
    "shorter5 = ... # Dataframe showing flights STRICTLY shorter than 2 hours (120 minutes)\n"
   ]
  },
  {
   "cell_type": "markdown",
   "metadata": {},
   "source": [
    "### Question 1.3 (5% credit)\n",
    "\n",
    "Using your answer from question 1.2, find the full name of every destination city with a flight in the first half of the month (from Jan 1st to Jan 15th) that was shorter than 2 hours. The airport codes used in `flights` are IATA codes.  Sort the cities alphabetically. Make sure you remove duplicates. You may find `drop_duplicates` and `sort_values` helpful."
   ]
  },
  {
   "cell_type": "code",
   "execution_count": null,
   "metadata": {},
   "outputs": [],
   "source": [
    "# 5% credit\n",
    "### your printed results should show the values of the following two variables\n",
    "# HINT: You will need to use `shorter5` and `airport` dataframes\n",
    "[YOUR CODE HERE]\n",
    "shorter_airports = ... # Dataframe showing airports that satisfy above conditions\n",
    "shorter_destinations = ... # Unique and sorted destination cities"
   ]
  },
  {
   "cell_type": "markdown",
   "metadata": {},
   "source": [
    "## Part 2 (50% of HW 1): Web scraping and data collection \n",
    "\n",
    "Here, you will practice collecting and processing data in Python. By the end of this exercise hopefully you should look at the wonderful world wide web without fear, comforted by the fact that anything you can see with your human eyes, a computer can see with its computer eyes. In particular, we aim to give you some familiarity with:\n",
    "\n",
    "* Using HTTP to fetch the content of a website\n",
    "* HTTP Requests (and lifecycle)\n",
    "* RESTful APIs\n",
    "    * Authentication (OAuth)\n",
    "    * Pagination\n",
    "    * Rate limiting\n",
    "* JSON vs. HTML (and how to parse each)\n",
    "* HTML traversal (CSS selectors)\n",
    "\n",
    "Since everyone loves food and movies (presumably), the ultimate end goal of this homework will be to acquire the data to answer some questions and hypotheses about the restaurant and cinema scene in Chicago (which we will get to later). We will download __both__ the metadata on restaurants and movie theaters in Chicago from the Yelp API and with this metadata, retrieve the comments/reviews and ratings from users on a restaurant.\n",
    "\n",
    "\n",
    "### Library Documentation\n",
    "\n",
    "For solving this part, you need to look up online documentation for the Python packages you will use:\n",
    "\n",
    "* Standard Library: \n",
    "    * [io](https://docs.python.org/3/library/io.html)\n",
    "    * [time](https://docs.python.org/3/library/time.html)\n",
    "    * [json](https://docs.python.org/3/library/json.html)\n",
    "\n",
    "* Third Party\n",
    "    * [requests](http://docs.python-requests.org/en/master/)\n",
    "    * [Beautiful Soup (version 4)](https://www.crummy.com/software/BeautifulSoup/bs4/doc/)\n",
    "    * [yelp-fusion](https://docs.developer.yelp.com/docs/fusion-intro)\n",
    "\n",
    "**Note:** You may come across a `yelp-python` library online. The library is deprecated and incompatible with the current Yelp API, so do not use the library.\n",
    "\n",
    "## Setup\n",
    "\n",
    "First, import necessary libraries:"
   ]
  },
  {
   "cell_type": "code",
   "execution_count": null,
   "metadata": {},
   "outputs": [],
   "source": [
    "import io, time, json\n",
    "import requests\n",
    "from bs4 import BeautifulSoup"
   ]
  },
  {
   "cell_type": "markdown",
   "metadata": {},
   "source": [
    "## Authentication and working with APIs\n",
    "\n",
    "There are various authentication schemes that APIs use, listed here in relative order of complexity:\n",
    "\n",
    "* No authentication\n",
    "* [HTTP basic authentication](https://en.wikipedia.org/wiki/Basic_access_authentication)\n",
    "* Cookie based user login\n",
    "* OAuth (v1.0 & v2.0, see this [post](http://stackoverflow.com/questions/4113934/how-is-oauth-2-different-from-oauth-1) explaining the differences)\n",
    "* API keys\n",
    "* Custom Authentication\n",
    "\n",
    "For the NYT example below (**Q2.1**), since it is a publicly visible page we did not need to authenticate. HTTP basic authentication isn't too common for consumer sites/applications that have the concept of user accounts (like Facebook, LinkedIn, Twitter, etc.) but is simple to setup quickly and you often encounter it on with individual password protected pages/sites. \n",
    "\n",
    "Cookie based user login is what the majority of services use when you login with a browser (i.e. username and password). Once you sign in to a service like Facebook, the response stores a cookie in your browser to remember that you have logged in (HTTP is stateless). Each subsequent request to the same domain (i.e. any page on `facebook.com`) also sends the cookie that contains the authentication information to remind Facebook's servers that you have already logged in.\n",
    "\n",
    "Many REST APIs however use OAuth (authentication using tokens) which can be thought of a programmatic way to \"login\" _another_ user. Using tokens, a user (or application) only needs to send the login credentials once in the initial authentication and as a response from the server gets a special signed token. This signed token is then sent in future requests to the server (in place of the user credentials).\n",
    "\n",
    "A similar concept common used by many APIs is to assign API Keys to each client that needs access to server resources. The client must then pass the API Key along with _every_ request it makes to the API to authenticate. This is because the server is typically relatively stateless and does not maintain a session between subsequent calls from the same client. Most APIs (including Yelp) allow you to pass the API Key via a special HTTP Header: `Authorization: Bearer <API_KEY>`. Check out the [docs](https://docs.developer.yelp.com/docs/fusion-authentication) for more information.\n",
    "\n",
    "\n",
    "### Question 2.1: Basic HTTP Requests w/o authentication (6%)\n",
    "\n",
    "First, let's do the \"hello world\" of making web requests with Python to get a sense for how to programmatically access web pages: an (unauthenticated) HTTP GET to download a web page.\n",
    "\n",
    "Fill in the funtion to use `requests` to download and return the raw HTML content of the URL passed in as an argument. As an example try the following article from Forbes Magazine: [https://www.forbes.com/sites/johnwerner/2024/01/08/museum-curation-in-the-age-of-ai/](https://www.forbes.com/sites/johnwerner/2024/01/08/museum-curation-in-the-age-of-ai/)\n",
    "\n",
    "Your function should return a tuple of: (`<status_code>`, `<text>`). (Hint: look at the **Library documentation** listed earlier to see how `requests` should work.) "
   ]
  },
  {
   "cell_type": "code",
   "execution_count": null,
   "metadata": {},
   "outputs": [],
   "source": [
    "# 3% credit\n",
    "def retrieve_html(url):\n",
    "    \"\"\"\n",
    "    Return the raw HTML at the specified URL.\n",
    "\n",
    "    Args:\n",
    "        url (string): \n",
    "\n",
    "    Returns:\n",
    "        status_code (integer):\n",
    "        raw_html (string): the raw HTML content of the response, properly encoded according to the HTTP headers.\n",
    "    \"\"\"\n",
    "\n",
    "    [YOUR CODE HERE]"
   ]
  },
  {
   "cell_type": "code",
   "execution_count": null,
   "metadata": {},
   "outputs": [],
   "source": [
    "# 3% credit\n",
    "forbes_article = retrieve_html('https://www.forbes.com/sites/johnwerner/2024/01/08/museum-curation-in-the-age-of-ai/')\n",
    "print(forbes_article)\n",
    "# (200, '<!DOCTYPE html><html lang=\"en\"><head><meta charset=\"utf-8\"><meta name=\"viewport\" content=\"width=device-width,initial-scale=1,maximum-scale=5,minimum-scale=1,user-scalable=yes\"><title>Museum Curation In The Age Of AI</title> ...')"
   ]
  },
  {
   "cell_type": "markdown",
   "metadata": {},
   "source": [
    "Now while this example might have been fun, we haven't yet done anything more than we could with a web browser. To really see the power of programmatically making web requests we will need to interact with an API. For the rest of this lab we will be working with the [Yelp API](https://docs.developer.yelp.com/reference/v3_business_search) and Yelp data (for an extensive data dump see their [Academic Dataset Challenge](https://www.yelp.com/dataset)). "
   ]
  },
  {
   "cell_type": "markdown",
   "metadata": {},
   "source": [
    "## Yelp API Access\n",
    "\n",
    "The reasons for using the Yelp API are 3 fold:\n",
    "\n",
    "1. Incredibly rich dataset that combines:\n",
    "    * entity data (users and businesses)\n",
    "    * preferences (i.e. ratings)\n",
    "    * geographic data (business location and check-ins)\n",
    "    * temporal data\n",
    "    * text in the form of reviews\n",
    "    * and even images.\n",
    "2. Well [documented API](https://docs.developer.yelp.com/reference/v3_business_search) with thorough examples.\n",
    "3. Extensive data coverage so that you can find data that you know personally (from your home town/city or account). This will help with understanding and interpreting your results.\n",
    "\n",
    "Yelp used to use OAuth tokens but has now switched to API Keys. **For the sake of backwards compatibility Yelp still provides a Client ID and Secret for OAuth, but you will not need those for this assignment.** \n",
    "\n",
    "To access the Yelp API, we will need to go through a few more steps than we did with the first Forbes article example. Most large web scale companies use a combination of authentication and rate limiting to control access to their data to ensure that everyone using it abides. The first step (even before we make any request) is to setup a Yelp account if you do not have one and get API credentials.\n",
    "\n",
    "1. Create a [Yelp](https://www.yelp.com/login) account (if you do not have one already)\n",
    "2. [Generate API keys](https://www.yelp.com/developers/v3/manage_app) (if you haven't already). You will only need the API Key (not the Client ID or Client Secret) -- more on that later.\n",
    "\n",
    "Now that we have our accounts setup we can start making requests! \n",
    "\n",
    "\n",
    "### Question 2.2: Authenticated HTTP Request with the Yelp API (16%)\n",
    "\n",
    "First, store your Yelp credentials in a local file (kept out of version control) which you can read in to authenticate with the API. This file can be any format/structure since you will fill in the function stub below.\n",
    "\n",
    "For example, you may want to store your key in a file called `api_key_yelp.txt` (run in terminal):\n",
    "```bash\n",
    "echo 'YOUR_YELP_API_KEY' > api_key_yelp.txt\n",
    "```\n",
    "\n",
    "**KEEP THE API KEY FILE PRIVATE AND OUT OF VERSION CONTROL (and definitely do not submit them to Gradescope!)**\n",
    "\n",
    "You can then read from the file using:"
   ]
  },
  {
   "cell_type": "code",
   "execution_count": null,
   "metadata": {},
   "outputs": [],
   "source": [
    "# 3% credit\n",
    "with open('api_key_yelp.txt', 'r') as f:\n",
    "    api_key = f.read().replace('\\n','')\n",
    "    print(api_key)\n",
    "    # verify your api_key is correct\n",
    "# DO NOT FORGET TO CLEAR THE OUTPUT TO KEEP YOUR API KEY PRIVATE"
   ]
  },
  {
   "cell_type": "code",
   "execution_count": null,
   "metadata": {},
   "outputs": [],
   "source": [
    "# 3% credit\n",
    "def read_api_key(filepath):\n",
    "    \"\"\"\n",
    "    Read the Yelp API Key from file.\n",
    "    \n",
    "    Args:\n",
    "        filepath (string): File containing API Key\n",
    "    Returns:\n",
    "        api_key (string): The API Key\n",
    "    \"\"\"\n",
    "    \n",
    "    # feel free to modify this function if you are storing the API Key differently\n",
    "    with open(filepath, 'r') as f:\n",
    "        return f.read().replace('\\n','')"
   ]
  },
  {
   "cell_type": "markdown",
   "metadata": {},
   "source": [
    "Using the Yelp API, fill in the following function stub to make an authenticated request to the [search](https://docs.developer.yelp.com/reference/v3_business_search) endpoint. Remember Yelp allows you to pass the API Key via a special HTTP Header: `Authorization: Bearer <API_KEY>`. Check out the [docs](https://docs.developer.yelp.com/docs/fusion-authentication) for more information."
   ]
  },
  {
   "cell_type": "code",
   "execution_count": null,
   "metadata": {},
   "outputs": [],
   "source": [
    "# 4% credit    \n",
    "def location_search_params(api_key, location, **kwargs):\n",
    "    \"\"\"\n",
    "    Construct url, headers and url_params. Reference API docs (link above) to use the arguments\n",
    "    \"\"\"\n",
    "    # What is the url endpoint for search?\n",
    "    url = [YOUR CODE HERE]\n",
    "    # How is Authentication performed?\n",
    "    headers = [YOUR CODE HERE]\n",
    "    # SPACES in url is problematic. How should you handle location containing spaces?\n",
    "    url_params = [YOUR CODE HERE]\n",
    "    # Include keyword arguments in url_params\n",
    "    [YOUR CODE HERE]\n",
    "    \n",
    "    return url, headers, url_params\n"
   ]
  },
  {
   "cell_type": "markdown",
   "metadata": {},
   "source": [
    "Hint: `**kwargs` represent keyword arguments that are passed to the function. For example, if you called the function `location_search_params(api_key, location, offset=0, limit=50)`. The arguments `api_key` and `location` are called *positional arguments* and key-value pair arguments are called **keyword arguments**. Your `kwargs` variable will be a python dictionary with those keyword arguments."
   ]
  },
  {
   "cell_type": "code",
   "execution_count": null,
   "metadata": {},
   "outputs": [],
   "source": [
    "# Test your code\n",
    "api_key = \"test_api_key_xyz\"\n",
    "location = \"Chicago\"\n",
    "url, headers, url_params = location_search_params(api_key, location, offset=0, limit=50)\n",
    "url, headers, url_params\n",
    "# ('https://<hidden_url_check_search_endpoint_docs_to_get_answer>',\n",
    "#  {'Authorization': 'Bearer test_api_key_xyz'},\n",
    "#  {'location': 'Chicago', 'offset': 0, 'limit': 50})"
   ]
  },
  {
   "cell_type": "markdown",
   "metadata": {},
   "source": [
    "Now use `location_search_params(api_key, location, **kwargs)` to actually search businesses from Yelp API. Most of the code is provided to you. Complete the `api_get_request` function given below. "
   ]
  },
  {
   "cell_type": "code",
   "execution_count": null,
   "metadata": {},
   "outputs": [],
   "source": [
    "# 3% credit\n",
    "def api_get_request(url, headers, url_params):\n",
    "    \"\"\"\n",
    "    Send a HTTP GET request and return a json response \n",
    "    \n",
    "    Args:\n",
    "        url (string): API endpoint url\n",
    "        headers (dict): A python dictionary containing HTTP headers including Authentication to be sent\n",
    "        url_params (dict): The parameters (required and optional) supported by endpoint\n",
    "        \n",
    "    Returns:\n",
    "        results (json): response as json\n",
    "    \"\"\"\n",
    "    http_method = 'GET'\n",
    "    # See requests.request?\n",
    "    response = [YOUR CODE HERE]\n",
    "    return [YOUR CODE HERE]\n",
    "    \n",
    "\n",
    "def yelp_search(api_key, location, offset=0):\n",
    "    \"\"\"\n",
    "    Make an authenticated request to the Yelp API.\n",
    "\n",
    "    Args:\n",
    "        api_key (string): Your Yelp API Key for Authentication\n",
    "        location (string): Business Location\n",
    "        offset (int): param for pagination\n",
    "\n",
    "    Returns:\n",
    "        total (integer): total number of businesses on Yelp corresponding to the location\n",
    "        businesses (list): list of dicts representing each business\n",
    "    \"\"\"\n",
    "    url, headers, url_params = location_search_params(api_key, location, offset=0)\n",
    "    response_json = api_get_request(url, headers, url_params)\n",
    "    return response_json[\"total\"], list(response_json[\"businesses\"])\n",
    "\n",
    "# 3% credit\n",
    "api_key = read_api_key('api_key_yelp.txt')\n",
    "num_records, data = yelp_search(api_key, 'Chicago')\n",
    "print(num_records)\n",
    "# 11200\n",
    "print(len(data))\n",
    "# 20\n",
    "print(list(map(lambda x: x['name'], data)))\n",
    "# ['Au Cheval', 'Girl & The Goat', 'The Purple Pig', 'Wildberry Pancakes and Cafe', 'Aba', 'Cafe Ba-Ba-Reeba!', 'Penumbra', 'Trivoli Tavern', 'Alinea', 'etta - Bucktown', 'The Dearborn', 'Boka', \"Joe's Seafood, Prime Steak & Stone Crab\", 'Kasama', 'Bloom Plant Based Kitchen', 'Ema', 'Prime & Provisions Steakhouse', \"Cindy's Rooftop\", 'Rose Mary', 'Wagyu House by The X Pot']"
   ]
  },
  {
   "cell_type": "markdown",
   "metadata": {},
   "source": [
    "Now that we have completed the \"hello world\" of working with the Yelp API, we are ready to really fly! The rest of the exercise will have a bit less direction since there are a variety of ways to retrieve the requested information but you should have all the component knowledge at this point to work with the API. Yelp being a fairly general platform actually has many business types, but by using the flexibility of the API we can ask it to only return restaurants and cinemas.\n",
    "\n",
    "## Parameterization and Pagination\n",
    "\n",
    "And before we can get any reviews, we need to actually get the metadata on ALL of the restaurants and movie theaters in Chicago. Notice above that while Yelp told us that there are ~11200, the response contained fewer actual `Business` objects. This is due to pagination and is a safeguard against returning __TOO__ much data in a single request (what would happen if there were for example 100,000 movie theaters?) and can be used in conjuction with _rate limiting_ as well as a way to throttle and protect access to Yelp data.\n",
    "\n",
    "> As a thought exercise, consider: If an API has 1,000,000 records, but only returns 10 records per page and limits you to 5 requests per second... how long will it take to acquire ALL of the records contained in the API?\n",
    "\n",
    "One of the ways that APIs are an improvement over plain web scraping is the ability to make __parameterized__ requests. Just like the Python functions you have been writing have arguments (or parameters) that allow you to customize its behavior/actions (an output) without having to rewrite the function entirely, we can parameterize the queries we make to the Yelp API to filter the results it returns.\n",
    "\n",
    "### Question 2.3: Acquire all of the restaurants and movie theaters in Chicago on Yelp (10%)\n",
    "\n",
    "Again using the [API documentation](https://docs.developer.yelp.com/reference/v3_business_search) for the `search` endpoint, fill in the following function to retrieve all of the _Restaurants_ and _Movie Theathers_ (using categories) for a given query. Again you should use your `read_api_key()` function outside of the `all_restaurants_theaters()` stub to read the API Key used for the requests. You will need to account for __pagination__ and __[rate limiting](https://docs.developer.yelp.com/docs/fusion-rate-limiting)__ to:\n",
    "\n",
    "1. Retrieve all of the Business objects (# of business objects should equal `total` in the response). **Paginate by querying 15 movie theaters each request.**\n",
    "2. Pause slightly (at least 200 milliseconds) between subsequent requests so as to not overwhelm the API (and get blocked).  \n",
    "\n",
    "As always with API access, make sure you follow all of the [API's policies](https://www.yelp.com/developers/api_terms) and use the API responsibly and respectfully.\n",
    "\n",
    "**DO NOT MAKE TOO MANY REQUESTS TOO QUICKLY OR YOUR KEY MAY BE BLOCKED**"
   ]
  },
  {
   "cell_type": "code",
   "execution_count": null,
   "metadata": {},
   "outputs": [],
   "source": [
    "# 4% credit\n",
    "def paginated_restaurants_theaters_search_requests(api_key, location, total):\n",
    "    \"\"\"\n",
    "    Returns a list of tuples (url, headers, url_params) for paginated search of all restaurants and movie teathers\n",
    "    Args:\n",
    "        api_key (string): Your Yelp API Key for Authentication\n",
    "        location (string): Business Location\n",
    "        total (int): Total number of items to be fetched\n",
    "    Returns:\n",
    "        results (list): list of tuple (url, headers, url_params)\n",
    "    \"\"\"\n",
    "    # HINT: Use total, offset and limit for pagination\n",
    "    # You can reuse function location_search_params(...)\n",
    "    [YOUR CODE HERE]\n",
    "    \n",
    "#     return \n",
    "\n",
    "# Test your code\n",
    "api_key = \"test_api_key_xyz\"\n",
    "location = \"Chicago\"\n",
    "all_theaters_requests = paginated_restaurants_theaters_search_requests(api_key, location, 15)\n",
    "all_theaters_requests\n",
    "\n",
    "# [('https:<hidden>',\n",
    "#   {'Authorization': 'Bearer test_api_key_xyz'},\n",
    "#   {'location': 'Chicago',\n",
    "#    'offset': 0,\n",
    "#    'limit': 15,\n",
    "#    'categories': '<hidden>'}),\n",
    "#  ('https:<hidden>',\n",
    "#   {'Authorization': 'Bearer test_api_key_xyz'},\n",
    "#   {'location': 'Chicago',\n",
    "#    'offset': 15,\n",
    "#    'limit': 15,\n",
    "#    'categories': '<hidden>'})]"
   ]
  },
  {
   "cell_type": "code",
   "execution_count": null,
   "metadata": {},
   "outputs": [],
   "source": [
    "# 3% credit\n",
    "def all_restaurants_theaters(api_key, location):\n",
    "    \"\"\"\n",
    "    Construct the pagination requests for ALL the restaurants and movie theaters on Yelp for a given location.\n",
    "\n",
    "    Args:\n",
    "        api_key (string): Your Yelp API Key for Authentication\n",
    "        location (string): Business Location\n",
    "\n",
    "    Returns:\n",
    "        results (list): list of dicts representing each restaurant and movie theater\n",
    "    \"\"\"\n",
    "    # What keyword arguments should you pass to get first page of restaurants and movie theaters in Yelp\n",
    "    url, headers, url_params = location_search_params(api_key, location, [YOUR CODE HERE])\n",
    "    # \n",
    "    response_json = api_get_request(url, headers, url_params)\n",
    "    # Limiting the maximum number of items to retrieve based on Yelp API restrictions\n",
    "    total_items = max(response_json[\"total\"], 100)\n",
    "    \n",
    "    all_restaurants_theaters_request = paginated_restaurants_theaters_search_requests(api_key, location, total_items)\n",
    "    \n",
    "    # Use returned list of (url, headers, url_params) and function api_get_request to retrieve all restaurants and movie teathers\n",
    "    # REMEMBER to pause slightly after each request.\n",
    "    [YOUR CODE HERE]\n",
    "#     return "
   ]
  },
  {
   "cell_type": "markdown",
   "metadata": {},
   "source": [
    "You can test your function with an individual neighborhood in Chicago (for example, The Loop). Chicago itself has a lot of restaurants and movie theaters... meaning it will take a lot of time to download them all."
   ]
  },
  {
   "cell_type": "code",
   "execution_count": null,
   "metadata": {},
   "outputs": [],
   "source": [
    "# 3% credit\n",
    "api_key = read_api_key('api_key_yelp.txt')\n",
    "data = all_restaurants_theaters(api_key, 'The Loop, Chicago, IL')\n",
    "print(len(data))\n",
    "# 105\n",
    "print(list(map(lambda x:x['name'], data)))\n",
    "# [\"Cindy's Rooftop\", 'The Dearborn', 'Prime & Provisions Steakhouse', \"Giordano's\", 'Wildberry Pancakes and Cafe', 'Acanto', ...]"
   ]
  },
  {
   "cell_type": "markdown",
   "metadata": {},
   "source": [
    "### Question 2.4: Parse the API Responses and Extract the URLs (7%)\n",
    "\n",
    "Now that we have the metadata on the restaurants and movie theaters in The Loop (or at least the ones listed on Yelp), we will focus on retrieving reviews and ratings. The Yelp API gives us aggregate information on ratings but it doesn't give us the review text or individual users' ratings for a business. For that we need to turn to web scraping, but to find out what pages to scrape we first need to parse our JSON from the API to extract the URLs of the restaurants and movie theaters.\n",
    "\n",
    "In general, it is a best practice to separate the act of __downloading__ data and __parsing__ data. This ensures that your data processing pipeline is modular and extensible (and autogradable ;). This decoupling also solves the problem of expensive downloading but cheap parsing (in terms of computation and time).\n",
    "Because we want to separate the __downloading__ from the __parsing__, fill in the following function to parse the URLs pointing to the restaurants on `yelp.com`. As input your function should expect a string of [properly formatted JSON](http://www.json.org/) (which is similar to __BUT__ not the same as a Python dictionary) and as output should return a Python list of strings. Hint: print your `data` to see the JSON-formatted information you have. The input JSON will be structured as follows (same as the [sample](https://www.yelp.com/developers/documentation/v3/business_search) on the Yelp API page):\n",
    "\n",
    "```json\n",
    "{\n",
    "  \"total\": 1316,\n",
    "  \"businesses\": [\n",
    "    {\n",
    "      \"rating\": 4.5,\n",
    "      \"price\": \"$$\",\n",
    "      \"phone\": \"+14154212337\",\n",
    "      \"id\": \"molinari-delicatessen-san-francisco\",\n",
    "      \"categories\": [\n",
    "        {\n",
    "          \"alias\": \"delis\",\n",
    "          \"title\": \"Delis\"\n",
    "        }\n",
    "      ],\n",
    "      \"review_count\": 910,\n",
    "      \"name\": \"Molinari Delicatessen\",\n",
    "      \"url\": \"https://www.yelp.com/biz/molinari-delicatessen-san-francisco\",\n",
    "      \"coordinates\": {\n",
    "        \"latitude\": 37.7983818054199,\n",
    "        \"longitude\": -122.407821655273\n",
    "      },\n",
    "      \"image_url\": \"http://s3-media4.fl.yelpcdn.com/bphoto/6He-NlZrAv2mDV-yg6jW3g/o.jpg\",\n",
    "      \"location\": {\n",
    "        \"city\": \"San Francisco\",\n",
    "        \"country\": \"US\",\n",
    "        \"address2\": \"\",\n",
    "        \"address3\": \"\",\n",
    "        \"state\": \"CA\",\n",
    "        \"address1\": \"373 Columbus Ave\",\n",
    "        \"zip_code\": \"94133\"\n",
    "      }\n",
    "    },\n",
    "    // ...\n",
    "  ]\n",
    "}\n",
    "```"
   ]
  },
  {
   "cell_type": "code",
   "execution_count": null,
   "metadata": {},
   "outputs": [],
   "source": [
    "# 4% credit\n",
    "def parse_api_response(data):\n",
    "    \"\"\"\n",
    "    Parse Yelp API results to extract restaurants and movie theaters URLs.\n",
    "    \n",
    "    Args:\n",
    "        data (json): Data formatted as JSON.\n",
    "\n",
    "    Returns:\n",
    "        (list): list of URLs as strings from the input JSON.\n",
    "    \"\"\"\n",
    "    \n",
    "    [YOUR CODE HERE]\n",
    "\n",
    "# 3% credit    \n",
    "api_key = read_api_key('api_key_yelp.txt')\n",
    "\n",
    "url, headers, url_params = location_search_params(api_key, \"Heart of Chicago, Chicago, IL\", offset=0, [YOUR CODE HERE])\n",
    "response_text = [YOUR CODE HERE]\n",
    "parse_api_response(response_text)\n",
    "# ['https://www.yelp.com/biz/s-k-y-chicago-5?adjust_creative=zNdNoFt-RZWC3s8wf9qEGg&utm_campaign=yelp_api_v3&utm_medium=api_v3_business_search&utm_source=zNdNoFt-RZWC3s8wf9qEGg',\n",
    "#  'https://www.yelp.com/biz/the-duck-inn-chicago?adjust_creative=zNdNoFt-RZWC3s8wf9qEGg&utm_campaign=yelp_api_v3&utm_medium=api_v3_business_search&utm_source=zNdNoFt-RZWC3s8wf9qEGg',\n",
    "#   ...]"
   ]
  },
  {
   "cell_type": "markdown",
   "metadata": {},
   "source": [
    "As we can see, JSON is quite trivial to parse (which is not the case with HTML as we will see in a second) and work with programmatically. This is why it is one of the most ubiquitous data serialization formats (especially for ReSTful APIs) and a huge benefit of working with a well defined API if one exists. But APIs do not always exists or provide the data we might need, and as a last resort we can always scrape web pages...\n",
    "\n",
    "## Working with Web Pages (and HTML)\n",
    "\n",
    "Think of APIs as similar to accessing an application's database itself (something you can interactively query and receive structured data back). But the results are usually in a somewhat raw form with no formatting or visual representation (like the results from a database query). This is a benefit _AND_ a drawback depending on the end use case. For data science and _programatic_ analysis this raw form is quite ideal, but for an end user requesting information from a _graphical interface_ (like a web browser) this is very far from ideal since it takes some cognitive overhead to interpret the raw information. And vice versa, if we have HTML it is quite easy for a human to visually interpret it, but to try to perform some type of programmatic analysis we first need to parse the HTML into a more structured form.\n",
    "\n",
    "> As a general rule of thumb, if the data you need can be accessed or retrieved in a structured form (either from a bulk download or API) prefer that first. But if the data you want (and need) is not as in our case we need to resort to alternative (messier) means.\n",
    "\n",
    "Going back to the \"hello world\" example of question 2.1 with the NYT, we will do something similar to retrieve the HTML of the Yelp site itself (rather than going through the API programmatically) as text. \n",
    "> However, we will use saved HTML pages to reduce excessive traffic to the Yelp website.\n",
    "\n",
    "### Question 2.5: Parse a Yelp restaurant Page (4%)\n",
    "\n",
    "Using `BeautifulSoup`, parse the HTML of a single Yelp restaurant page to extract the reviews in a structured form as well as the URL to the next page of reviews (or `None` if it is the last page). Fill in following function stubs to parse a single page of reviews and return:\n",
    "* the reviews as a structured Python dictionary\n",
    "* the HTML element containing the link/url for the next page of reviews (or None).\n",
    "\n",
    "For each review be sure to structure your Python dictionary as follows (to be graded correctly). The order of the keys doesn't matter, only the keys and the data type of the values:\n",
    "\n",
    "```python\n",
    "{\n",
    "    'author': str\n",
    "    'rating': float\n",
    "    'date': str ('yyyy-mm-dd')\n",
    "    'description': str\n",
    "}\n",
    "\n",
    "# Example\n",
    "{\n",
    "    'author': 'Topsy Kretts'\n",
    "    'rating': 4.7\n",
    "    'date': '2016-01-23'\n",
    "    'description': \"Wonderful!\"\n",
    "}\n",
    "```\n",
    "\n",
    "There can be issues with Beautiful Soup using various parsers, for maximum compatibility (and fewest errors) initialize the library with the default (and Python standard library parser): `BeautifulSoup(markup, \"html.parser\")`.\n",
    "\n",
    "Most of the function has been provided to you:"
   ]
  },
  {
   "cell_type": "code",
   "execution_count": null,
   "metadata": {},
   "outputs": [],
   "source": [
    "# 4% credit\n",
    "url_lookup = {\n",
    "\"https://www.yelp.com/biz/the-jibarito-stop-chicago-2?start=225\":\"parse_page_test1.html\",\n",
    "\"https://www.yelp.com/biz/the-jibarito-stop-chicago-2?start=245\":\"parse_page_test2.html\"\n",
    "}\n",
    "\n",
    "def html_fetcher(url):\n",
    "    \"\"\"\n",
    "    Return the raw HTML at the specified URL.\n",
    "    Args:\n",
    "        url (string): \n",
    "\n",
    "    Returns:\n",
    "        status_code (integer):\n",
    "        raw_html (string): the raw HTML content of the response, properly encoded according to the HTTP headers.\n",
    "    \"\"\"\n",
    "    html_file = url_lookup.get(url)\n",
    "    with open(html_file, 'rb') as file:\n",
    "        html_text = file.read()\n",
    "        return 200, html_text\n",
    "\n",
    "\n",
    "def parse_page(html):\n",
    "    \"\"\"\n",
    "    Parse the reviews on a single page of a restayrabt.\n",
    "    \n",
    "    Args:\n",
    "        html (string): String of HTML corresponding to a Yelp restaurant\n",
    "\n",
    "    Returns:\n",
    "        tuple(list, string): a tuple of two elements\n",
    "            first element: list of dictionaries corresponding to the extracted review information\n",
    "            second element: URL for the next page of reviews (or None if it is the last page)\n",
    "    \"\"\"\n",
    "    soup = BeautifulSoup(html,'html.parser')\n",
    "    url_next = soup.find('link',rel='next')\n",
    "    if url_next:\n",
    "        url_next = url_next.get('href')\n",
    "    else:\n",
    "        url_next = None\n",
    "\n",
    "    reviews = soup.find_all('div', itemprop=\"review\")\n",
    "    reviews_list = []\n",
    "    # HINT: print reviews to see what http tag to extract\n",
    "    [YOUR CODE HERE]\n",
    "        \n",
    "    return reviews_list, url_next\n",
    "\n",
    "# Test your implementation\n",
    "code, html = html_fetcher(\"https://www.yelp.com/biz/the-jibarito-stop-chicago-2?start=225\")\n",
    "reviews_list, url_next = parse_page(html)\n",
    "print(len(reviews_list)) # 20\n",
    "print(url_next) # hhttps://www.yelp.com/biz/the-jibarito-stop-chicago-2?start=245"
   ]
  },
  {
   "cell_type": "markdown",
   "metadata": {},
   "source": [
    "### Question 2.6: Extract all Yelp reviews for a Single Restaurant (7%)\n",
    "\n",
    "So now that we have parsed a single page, and figured out a method to go from one page to the next we are ready to combine these two techniques and actually crawl through web pages! \n",
    "\n",
    "Using the provided `html_fetcher` (for a real use-case you would use `requests`), programmatically retrieve __ALL__ of the reviews for a __single__ restaurant (provided as a parameter). Just like the API was paginated, the HTML paginates its reviews (it would be a very long web page to show 300 reviews on a single page) and to get all the reviews you will need to parse and traverse the HTML. As input your function will receive a URL corresponding to a Yelp restaurant. As output return a list of dictionaries (structured the same as question 2.5) containing the relevant information from the reviews. You can use `parse_page()` here."
   ]
  },
  {
   "cell_type": "code",
   "execution_count": null,
   "metadata": {},
   "outputs": [],
   "source": [
    "# 4% credits\n",
    "    \n",
    "def extract_reviews(url, html_fetcher):\n",
    "    \"\"\"\n",
    "    Retrieve ALL of the reviews for a single restaurant on Yelp.\n",
    "\n",
    "    Parameters:\n",
    "        url (string): Yelp URL corresponding to the restaurant of interest.\n",
    "        html_fetcher (function): A function that takes url and returns html status code and content\n",
    "    \n",
    "    Returns:\n",
    "        reviews (list): list of dictionaries containing extracted review information\n",
    "    \"\"\"\n",
    "    reviews = []\n",
    "    [YOUR CODE HERE]\n",
    "    code, html = html_fetcher(url)\n",
    "    # HINT: Use function `parse_page(html)` multiple times until no next page exists\n",
    "    [YOUR CODE HERE]\n",
    "    \n",
    "    return reviews"
   ]
  },
  {
   "cell_type": "markdown",
   "metadata": {},
   "source": [
    "You can test your function with this code:"
   ]
  },
  {
   "cell_type": "code",
   "execution_count": null,
   "metadata": {},
   "outputs": [],
   "source": [
    "# 3% credits\n",
    "data = extract_reviews('https://www.yelp.com/biz/the-jibarito-stop-chicago-2?start=225', html_fetcher=html_fetcher)\n",
    "print(len(data))\n",
    "# 35\n",
    "print(data[0])\n",
    "# {'author': 'Jason S.', 'rating': '5.0', 'date': '2016-05-02', 'description': \"This was one of my favorite ...\"}\n"
   ]
  },
  {
   "cell_type": "markdown",
   "metadata": {
    "collapsed": true,
    "jupyter": {
     "outputs_hidden": true
    }
   },
   "source": [
    "### Question 2.7: Statement on the use of AI tools (5%)\n",
    "\n",
    "You're almost done! Next, document your use of AI tools.\n",
    "\n",
    "Did you use any AI tools, such as ChatGPT, in the completion of this homework? \n",
    "\n",
    "[Yes/No]\n",
    "\n",
    "If you did, document thoroughly which tools and how you used them. For each part of the homework that you used them, specify what prompts you used, whether you were satisfied with the tool's answer and whether you modified the tool's answer.\n",
    "\n",
    "[Your answer here]\n",
    "\n",
    "# Submission\n",
    "\n",
    "After executing all commands and completing this notebook, save your *hw1.ipynb* as a pdf file and upload it to Gradescope under *Homework 1 (written)*. Make sure you check that your pdf file includes all parts of your solution **(including the outputs)**. We recommend using the browser (not jupyter) for saving the pdf. For Chrome on a Mac, this is under *File->Print...->Open PDF in Preview* and when the PDF opens in Preview you can use *Save...* to save it. This part will be graded based on completion (having executed the code and showing the output) and it constitutes *60%* of HW 1.\n",
    "\n",
    "Next, you need to copy the functions from Questions 1.1 and 1.2 into the corresponding functions in *hw1part1.py*. Similarly, you need to copy the functions from Questions 2.1, 2.2, 2.3, 2.4, 2.5 and 2.6 into the corresponding functions in *hw1part2.py*. Place your files *hw1part1.py*, *hw1part2.py*, and *hw1.ipynb* in a zip file and upload the zip file to Gradescope under *Homework 1 - (code)*. This part constitutes *40%* of HW 1. In order to get full points for this part, you need to pass all test cases that we will run against your *hw1part1.py* and *hw1part2.py* (and not the notebook) on Gradescope. We have provided a sample of the test cases in *tests_sample_part1/tests.py* and *tests_sample_part2/tests.py*. Other tests are hidden on the Gradescope server. To check whether your code runs locally, run the four tests in *tests_sample_part1* from your command line: "
   ]
  },
  {
   "cell_type": "markdown",
   "metadata": {},
   "source": [
    "`(cs418env) elena-macbook:hw1 elena$ python run_tests_sample.py part1`"
   ]
  },
  {
   "cell_type": "markdown",
   "metadata": {
    "collapsed": true,
    "jupyter": {
     "outputs_hidden": true
    }
   },
   "source": [
    "You should see the following output:"
   ]
  },
  {
   "cell_type": "markdown",
   "metadata": {},
   "source": [
    "```\n",
    "....\n",
    "----------------------------------------------------------------------\n",
    "Ran 4 tests in 0.001s\n",
    "\n",
    "OK\n",
    "```"
   ]
  },
  {
   "cell_type": "markdown",
   "metadata": {},
   "source": [
    "Feel free to add more tests that check all parts of your code.\n",
    "\n",
    "Similarly, you can run sample tests for part2 as follows:\n",
    "\n",
    "`(cs418env) elena-macbook:hw1 elena$ python run_tests_sample.py part2`\n",
    "\n",
    "You can submit to Gradescope as many times as you would like. We will only consider your last submission. If your last submission is after the deadline, the late homework policy applies.\n",
    "\n",
    "After submitting the zip file, the autograder will run. You should see the following on your screen after the autograder finishes the execution:\n",
    "\n",
    "<img src=\"correct.png\" align=\"left\" float=\"left\"/>\n",
    "\n",
    "This indicates that all the tests ran successfully on the server, and you're done! If your tests fail, you can debug your program locally by comparing the input, output and expected output (as shown for first two test cases). Make sure `hw1part1.py`, `hw1part2.py` and `hw1.ipynb` are included on the root of the zip file. **This means you need to zip those files and not the folder containing the files.**"
   ]
  }
 ],
 "metadata": {
  "kernelspec": {
   "display_name": "Python 3 (ipykernel)",
   "language": "python",
   "name": "python3"
  },
  "language_info": {
   "codemirror_mode": {
    "name": "ipython",
    "version": 3
   },
   "file_extension": ".py",
   "mimetype": "text/x-python",
   "name": "python",
   "nbconvert_exporter": "python",
   "pygments_lexer": "ipython3",
   "version": "3.7.2"
  }
 },
 "nbformat": 4,
 "nbformat_minor": 4
}
